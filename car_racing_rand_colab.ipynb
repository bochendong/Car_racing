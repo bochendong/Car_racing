{
  "cells": [
    {
      "cell_type": "markdown",
      "source": [
        "# Colab env settings"
      ],
      "metadata": {
        "id": "hpANlTAssfdF"
      }
    },
    {
      "cell_type": "code",
      "execution_count": 1,
      "source": [
        "!git clone https://github.com/bochendong/car_racing.git"
      ],
      "outputs": [
        {
          "output_type": "stream",
          "name": "stdout",
          "text": [
            "fatal: destination path 'car_racing' already exists and is not an empty directory.\n"
          ]
        }
      ],
      "metadata": {
        "colab": {
          "base_uri": "https://localhost:8080/"
        },
        "id": "UfHgya4Jsdas",
        "outputId": "636914f6-8c08-4b08-fd5a-95ce2d276b60"
      }
    },
    {
      "cell_type": "code",
      "execution_count": 2,
      "source": [
        "%%capture\n",
        "!sudo apt update && sudo apt install python-opengl\n",
        "!sudo apt update && sudo apt install xvfb\n",
        "!pip install gym-notebook-wrapper stable-baselines[mpi] box2d box2d-kengz pyvirtualdisplay pyglet\n",
        "!pip install wandb\n",
        "!pip install pyvirtualdisplay -qq\n",
        "!pip install folium==0.2.1\n",
        "!apt-get install -y xvfb python-opengl ffmpeg -qq"
      ],
      "outputs": [],
      "metadata": {
        "id": "yX7L7IlDnyvU"
      }
    },
    {
      "cell_type": "code",
      "execution_count": 3,
      "source": [
        "import numpy as np\n",
        "\n",
        "from PIL import Image\n",
        "import matplotlib\n",
        "import matplotlib.pyplot as plt\n",
        "from collections import namedtuple\n",
        "from itertools import count\n",
        "\n",
        "import torch\n",
        "import torch.nn as nn\n",
        "import torch.nn.functional as F\n",
        "import torchvision.transforms as T\n",
        "import torch.optim as optim\n",
        "from torch.distributions import Beta\n",
        "from torch.utils.data.sampler import BatchSampler, SubsetRandomSampler\n",
        "\n",
        "from torch.autograd import Function\n",
        "\n",
        "import gnwrapper\n",
        "import gym\n",
        "from gym import logger as gymlogger\n",
        "from gym.wrappers import Monitor\n",
        "gymlogger.set_level(30)\n",
        "\n",
        "from IPython.display import HTML\n",
        "from IPython import display as ipythondisplay\n",
        "from pyvirtualdisplay import Display\n",
        "import wandb\n",
        "\n",
        "is_ipython = 'inline' in matplotlib.get_backend()\n",
        "if is_ipython:\n",
        "    from IPython import display"
      ],
      "outputs": [],
      "metadata": {
        "id": "zUgm5ewmnyvV"
      }
    },
    {
      "cell_type": "code",
      "execution_count": 4,
      "source": [
        "!pip install box2d"
      ],
      "outputs": [
        {
          "output_type": "stream",
          "name": "stdout",
          "text": [
            "Looking in indexes: https://pypi.org/simple, https://us-python.pkg.dev/colab-wheels/public/simple/\n",
            "Requirement already satisfied: box2d in /usr/local/lib/python3.7/dist-packages (2.3.10)\n"
          ]
        }
      ],
      "metadata": {
        "colab": {
          "base_uri": "https://localhost:8080/"
        },
        "id": "-x-zGeDRnyvX",
        "outputId": "e4bb71b7-8af8-4651-b504-f314ec9c392e"
      }
    },
    {
      "cell_type": "code",
      "execution_count": 5,
      "source": [
        "# Use cuda if present\n",
        "device = torch.device(\"cuda\" if torch.cuda.is_available() else \"cpu\")\n",
        "print(\"Device available for running: \")\n",
        "print(device)"
      ],
      "outputs": [
        {
          "output_type": "stream",
          "name": "stdout",
          "text": [
            "Device available for running: \n",
            "cuda\n"
          ]
        }
      ],
      "metadata": {
        "colab": {
          "base_uri": "https://localhost:8080/"
        },
        "id": "wAbUZ5PBnyvY",
        "outputId": "25f3b9dd-45d5-40b0-9a60-9c09f6648ce8"
      }
    },
    {
      "cell_type": "code",
      "execution_count": 6,
      "source": [
        "%cd car_racing"
      ],
      "outputs": [
        {
          "output_type": "stream",
          "name": "stdout",
          "text": [
            "/content/car_racing\n"
          ]
        }
      ],
      "metadata": {
        "colab": {
          "base_uri": "https://localhost:8080/"
        },
        "id": "3ijK2eBYnyvZ",
        "outputId": "5ae9082c-ff4b-4bfc-8957-c85d1fec41cc"
      }
    },
    {
      "cell_type": "code",
      "execution_count": 7,
      "source": [
        "import car_racing as cr\n",
        "import replay_memory as rm"
      ],
      "outputs": [],
      "metadata": {
        "id": "6ia5ibGfqWfZ"
      }
    },
    {
      "cell_type": "code",
      "source": [
        "import os\n",
        "if (os.path.exists(\"./output\")) == False:\n",
        "    os.mkdir(\"output\")"
      ],
      "metadata": {
        "id": "5ceEsiT0Mskk"
      },
      "execution_count": 8,
      "outputs": []
    },
    {
      "cell_type": "markdown",
      "source": [
        "# Car_racing Enviorment settings"
      ],
      "metadata": {
        "id": "nu12ch3KssCE"
      }
    },
    {
      "cell_type": "code",
      "execution_count": 9,
      "source": [
        "use_cuda = torch.cuda.is_available()\n",
        "device = torch.device(\"cuda\" if use_cuda else \"cpu\")"
      ],
      "outputs": [],
      "metadata": {
        "id": "0bSmOb2d6qPq"
      }
    },
    {
      "cell_type": "code",
      "execution_count": 10,
      "source": [
        "env_green = gnwrapper.Animation(cr.CarRacing())\n",
        "env_green = cr.CarRacing(color = 'g')\n",
        "obs = env_green.reset()"
      ],
      "outputs": [
        {
          "output_type": "stream",
          "name": "stderr",
          "text": [
            "/usr/local/lib/python3.7/dist-packages/gym/logger.py:30: UserWarning: \u001b[33mWARN: Box bound precision lowered by casting to float32\u001b[0m\n",
            "  warnings.warn(colorize('%s: %s'%('WARN', msg % args), 'yellow'))\n",
            "/usr/local/lib/python3.7/dist-packages/gym/logger.py:30: UserWarning: \u001b[33mWARN: Box bound precision lowered by casting to float32\u001b[0m\n",
            "  warnings.warn(colorize('%s: %s'%('WARN', msg % args), 'yellow'))\n"
          ]
        }
      ],
      "metadata": {
        "colab": {
          "base_uri": "https://localhost:8080/"
        },
        "id": "HBhiAnYKnyvZ",
        "outputId": "8f6aec39-3187-45e2-fda0-3b10da421e84"
      }
    },
    {
      "cell_type": "code",
      "execution_count": 11,
      "source": [
        "env_red= gnwrapper.Animation(cr.CarRacing(color = 'r'))\n",
        "env_red = cr.CarRacing(color = 'r')\n",
        "obs = env_red.reset()"
      ],
      "outputs": [
        {
          "output_type": "stream",
          "name": "stderr",
          "text": [
            "/usr/local/lib/python3.7/dist-packages/gym/logger.py:30: UserWarning: \u001b[33mWARN: Box bound precision lowered by casting to float32\u001b[0m\n",
            "  warnings.warn(colorize('%s: %s'%('WARN', msg % args), 'yellow'))\n"
          ]
        }
      ],
      "metadata": {
        "colab": {
          "base_uri": "https://localhost:8080/"
        },
        "id": "U8sAj_hEq2aW",
        "outputId": "7b88fead-ea8e-4a2a-fe11-78e91f1c7280"
      }
    },
    {
      "cell_type": "code",
      "execution_count": 12,
      "source": [
        "env_blue = gnwrapper.Animation(cr.CarRacing(color = 'b'))\n",
        "env_blue = cr.CarRacing(color = 'b')\n",
        "obs = env_blue.reset()"
      ],
      "outputs": [
        {
          "output_type": "stream",
          "name": "stderr",
          "text": [
            "/usr/local/lib/python3.7/dist-packages/gym/logger.py:30: UserWarning: \u001b[33mWARN: Box bound precision lowered by casting to float32\u001b[0m\n",
            "  warnings.warn(colorize('%s: %s'%('WARN', msg % args), 'yellow'))\n"
          ]
        }
      ],
      "metadata": {
        "colab": {
          "base_uri": "https://localhost:8080/"
        },
        "id": "rWhhOvPjsOHd",
        "outputId": "df8f5f7f-2f29-4f24-f68b-30ffb197d3e8"
      }
    },
    {
      "cell_type": "code",
      "execution_count": 13,
      "source": [
        "env_yellow = gnwrapper.Animation(cr.CarRacing(color = 'y'))\n",
        "env_yellow = cr.CarRacing(color = 'y')\n",
        "obs = env_yellow.reset()"
      ],
      "outputs": [
        {
          "output_type": "stream",
          "name": "stderr",
          "text": [
            "/usr/local/lib/python3.7/dist-packages/gym/logger.py:30: UserWarning: \u001b[33mWARN: Box bound precision lowered by casting to float32\u001b[0m\n",
            "  warnings.warn(colorize('%s: %s'%('WARN', msg % args), 'yellow'))\n"
          ]
        }
      ],
      "metadata": {
        "colab": {
          "base_uri": "https://localhost:8080/"
        },
        "id": "mnTjQW-dchbE",
        "outputId": "9bfc3edb-22ac-404d-c43e-c3b8bbf24021"
      }
    },
    {
      "cell_type": "code",
      "execution_count": 14,
      "source": [
        "env_gray = gnwrapper.Animation(cr.CarRacing(color = 'gr'))\n",
        "env_gray = cr.CarRacing(color = 'gr')\n",
        "obs = env_gray.reset()"
      ],
      "outputs": [
        {
          "output_type": "stream",
          "name": "stderr",
          "text": [
            "/usr/local/lib/python3.7/dist-packages/gym/logger.py:30: UserWarning: \u001b[33mWARN: Box bound precision lowered by casting to float32\u001b[0m\n",
            "  warnings.warn(colorize('%s: %s'%('WARN', msg % args), 'yellow'))\n"
          ]
        }
      ],
      "metadata": {
        "colab": {
          "base_uri": "https://localhost:8080/"
        },
        "id": "NWuc9OjAcnBo",
        "outputId": "cd8dd3c6-b5f0-4ced-c506-26cb3c38d591"
      }
    },
    {
      "cell_type": "code",
      "source": [
        "env_light_gray = gnwrapper.Animation(cr.CarRacing(color = 'lgr'))\n",
        "env_light_gray = cr.CarRacing(color = 'lgr')\n",
        "obs = env_light_gray.reset()"
      ],
      "metadata": {
        "id": "rErr7HM65Zm8",
        "outputId": "39d25637-f976-4f7c-c583-bf29a20f69a4",
        "colab": {
          "base_uri": "https://localhost:8080/"
        }
      },
      "execution_count": 15,
      "outputs": [
        {
          "output_type": "stream",
          "name": "stderr",
          "text": [
            "/usr/local/lib/python3.7/dist-packages/gym/logger.py:30: UserWarning: \u001b[33mWARN: Box bound precision lowered by casting to float32\u001b[0m\n",
            "  warnings.warn(colorize('%s: %s'%('WARN', msg % args), 'yellow'))\n"
          ]
        }
      ]
    },
    {
      "cell_type": "code",
      "source": [
        "env_light_green = gnwrapper.Animation(cr.CarRacing(color = 'lg'))\n",
        "env_light_green = cr.CarRacing(color = 'lg')\n",
        "obs = env_light_green.reset()"
      ],
      "metadata": {
        "id": "sVAld2z25fDb",
        "outputId": "8c54e0bc-9e82-4927-8225-97145f27924f",
        "colab": {
          "base_uri": "https://localhost:8080/"
        }
      },
      "execution_count": 16,
      "outputs": [
        {
          "output_type": "stream",
          "name": "stderr",
          "text": [
            "/usr/local/lib/python3.7/dist-packages/gym/logger.py:30: UserWarning: \u001b[33mWARN: Box bound precision lowered by casting to float32\u001b[0m\n",
            "  warnings.warn(colorize('%s: %s'%('WARN', msg % args), 'yellow'))\n"
          ]
        }
      ]
    },
    {
      "cell_type": "code",
      "source": [
        "env_light_red = gnwrapper.Animation(cr.CarRacing(color = 'lr'))\n",
        "env_light_red = cr.CarRacing(color = 'lr')\n",
        "obs = env_light_red.reset()"
      ],
      "metadata": {
        "id": "WIJW4gyn5kVn",
        "outputId": "9014c4b4-8bf9-4eb5-e861-d512aae974b5",
        "colab": {
          "base_uri": "https://localhost:8080/"
        }
      },
      "execution_count": 17,
      "outputs": [
        {
          "output_type": "stream",
          "name": "stderr",
          "text": [
            "/usr/local/lib/python3.7/dist-packages/gym/logger.py:30: UserWarning: \u001b[33mWARN: Box bound precision lowered by casting to float32\u001b[0m\n",
            "  warnings.warn(colorize('%s: %s'%('WARN', msg % args), 'yellow'))\n"
          ]
        }
      ]
    },
    {
      "cell_type": "code",
      "execution_count": 18,
      "source": [
        "discrete_actions = {0 : np.array([0,0,0]),       # do nothing\n",
        "                                 1 : np.array([-1,0,0]),      # steer sharp left\n",
        "                                 2 : np.array([1,0,0]),       # steer sharp right\n",
        "                                 3 : np.array([-0.5,0,0]),    # steer left\n",
        "                                 4 : np.array([0.5,0,0]),     # steer right\n",
        "                                 5 : np.array([0,1,0]),       # accelerate 100%\n",
        "                                 6 : np.array([0,0.5,0]),     # accelerate 50%\n",
        "                                 7 : np.array([0,0.25,0]),    # accelerate 25%\n",
        "                                 8 : np.array([0,0,1]),       # brake 100%\n",
        "                                 9 : np.array([0,0,0.5]),     # brake 50%\n",
        "                                 10 : np.array([0,0,0.25])}   # brake 25%\n",
        "\n",
        "def get_obs(env):\n",
        "    n_actions = len(discrete_actions)\n",
        "    for i in range (0, 40):\n",
        "        action = torch.randint(low=0, high=11, size=(1,))\n",
        "        action_transfered = discrete_actions.get(int(action[0]))\n",
        "\n",
        "        obs, reward, done, _ = env.step([action_transfered[0], action_transfered[1], action_transfered[2]])\n",
        "\n",
        "    return obs"
      ],
      "outputs": [],
      "metadata": {
        "id": "BiivK79Vnyvc"
      }
    },
    {
      "cell_type": "code",
      "execution_count": 19,
      "source": [
        "f, axs = plt.subplots(2, 4, figsize = (12, 4))\n",
        "\n",
        "axs = axs.flatten()\n",
        "\n",
        "env_preview = []\n",
        "# green [0.4, 0.8, 0.4, 1.0], [0.5, 0.9, 0.5, 1.0]\n",
        "env_preview.append(get_obs(env_green))\n",
        "# blue [0.4, 0.4, 0.8, 1.0], [0.5, 0.5, 0.9, 1.0]\n",
        "env_preview.append(get_obs(env_blue))\n",
        "# red [0.8, 0.4, 0.4, 1.0], [0.9, 0.5, 0.5, 1.0]\n",
        "env_preview.append(get_obs(env_red))\n",
        "# gray [0.5, 0.6, 0.7, 1.0], [0.6, 0.7, 0.8, 1.0]\n",
        "env_preview.append(get_obs(env_gray))\n",
        "\n",
        "# light green [0.3, 0.7, 0.3, 1.0], [0.4, 0.8, 0.4, 1.0]\n",
        "env_preview.append(get_obs(env_light_green))\n",
        "# light red [0.7, 0.3, 0.3, 1.0], [0.8, 0.4, 0.4, 1.0]\n",
        "env_preview.append(get_obs(env_light_red))\n",
        "# yellow [0.8, 0.8, 0.4, 1.0], [0.9, 0.9, 0.5, 1.0]\n",
        "env_preview.append(get_obs(env_yellow))\n",
        "# light gray [0.4, 0.5, 0.6, 1.0], [0.5, 0.6, 0.7, 1.0]\n",
        "env_preview.append(get_obs(env_light_gray))\n",
        "\n",
        "for img, ax in zip(env_preview, axs):\n",
        "    ax.imshow(img)\n",
        "plt.show()\n"
      ],
      "outputs": [
        {
          "output_type": "display_data",
          "data": {
            "text/plain": [
              "<Figure size 864x288 with 8 Axes>"
            ],
            "image/png": "[encoded data removed]"
          },
          "metadata": {
            "needs_background": "light"
          }
        }
      ],
      "metadata": {
        "colab": {
          "base_uri": "https://localhost:8080/",
          "height": 269
        },
        "id": "dqF3wdU8nyve",
        "outputId": "03d12e0b-55ee-4955-d829-fd2881ce3462"
      }
    },
    {
      "cell_type": "code",
      "source": [
        "import random\n",
        "def rand_env(s):\n",
        "    red_channel = 102\n",
        "    green_channel = 102\n",
        "    blue_channel = 102\n",
        "\n",
        "    while (red_channel == 102 and green_channel == 102 and blue_channel == 102):\n",
        "        add_green = random.randint(0, 1)\n",
        "        add_red = random.randint(0, 1)\n",
        "        add_blue = random.randint(0, 1)\n",
        "\n",
        "        if (add_red):\n",
        "            red_channel = random.randint(150, 229)\n",
        "        if (add_green):\n",
        "            green_channel = random.randint(150, 229)\n",
        "        if (add_blue):\n",
        "            blue_channel = random.randint(150, 229)\n",
        "\n",
        "\n",
        "    for i in range (96):\n",
        "        for j in range (96):\n",
        "            if (s[i][j][0] == s[i][j][1] == s[i][j][2]):\n",
        "                  continue\n",
        "            elif (s[i][j][1] == 204):\n",
        "                  s[i][j][0] = red_channel\n",
        "                  s[i][j][1] = green_channel\n",
        "                  s[i][j][2] = blue_channel\n",
        "            elif (s[i][j][1] == 230):\n",
        "                  s[i][j][0] = red_channel + 26\n",
        "                  s[i][j][1] = green_channel + 26\n",
        "                  s[i][j][2] = blue_channel + 26\n",
        "    return s"
      ],
      "metadata": {
        "id": "YLekXvPFZEmp"
      },
      "execution_count": 20,
      "outputs": []
    },
    {
      "cell_type": "code",
      "source": [
        "rand_envs = []\n",
        "for i in range (8):\n",
        "    green_copy = env_preview[0].copy()\n",
        "    ss = rand_env(green_copy)\n",
        "    rand_envs.append(ss)\n",
        "\n",
        "f, axs = plt.subplots(2, 4, figsize = (12, 4))\n",
        "axs = axs.flatten()\n",
        "\n",
        "for img, ax in zip(rand_envs, axs):\n",
        "    ax.imshow(img)\n"
      ],
      "metadata": {
        "id": "rzDylNjkZG55",
        "outputId": "49bf778d-4b40-466b-92e8-63c88e879242",
        "colab": {
          "base_uri": "https://localhost:8080/",
          "height": 269
        }
      },
      "execution_count": 21,
      "outputs": [
        {
          "output_type": "display_data",
          "data": {
            "text/plain": [
              "<Figure size 864x288 with 8 Axes>"
            ],
            "image/png": "[encoded data removed]"
          },
          "metadata": {
            "needs_background": "light"
          }
        }
      ]
    },
    {
      "cell_type": "code",
      "execution_count": 22,
      "source": [
        "def add_block(obs):\n",
        "    for i in range(80, 90):\n",
        "        for j in range(36, 42):\n",
        "            obs[j][i][0] = 255\n",
        "    return obs\n",
        "\n",
        "green_block = add_block(env_preview[0])\n",
        "\n",
        "plt.imshow(green_block)"
      ],
      "outputs": [
        {
          "output_type": "execute_result",
          "data": {
            "text/plain": [
              "<matplotlib.image.AxesImage at 0x7f0003ac5cd0>"
            ]
          },
          "metadata": {},
          "execution_count": 22
        },
        {
          "output_type": "display_data",
          "data": {
            "text/plain": [
              "<Figure size 432x288 with 1 Axes>"
            ],
            "image/png": "[encoded data removed]"
          },
          "metadata": {
            "needs_background": "light"
          }
        }
      ],
      "metadata": {
        "id": "tHdiaCnRjzLn",
        "outputId": "4a8eac86-3bea-4177-f904-8a04445b5376",
        "colab": {
          "base_uri": "https://localhost:8080/",
          "height": 286
        }
      }
    },
    {
      "cell_type": "markdown",
      "source": [
        "# Random env"
      ],
      "metadata": {
        "id": "MRgDy2crSv9W"
      }
    },
    {
      "cell_type": "code",
      "execution_count": 23,
      "source": [
        "class Rand_Env():\n",
        "    def __init__(self, color, seed = 0):\n",
        "        self.env = gnwrapper.Animation(cr.CarRacing(color = color))\n",
        "        self.env = cr.CarRacing(color = color)\n",
        "        self.color = color\n",
        "        self.env.seed(seed)\n",
        "        self.reward_threshold = 1000\n",
        "\n",
        "    def rand_state(self, state):\n",
        "        s = state.copy()\n",
        "\n",
        "        red_channel, green_channel, blue_channel  = 102, 102, 102\n",
        "\n",
        "        while (red_channel == 102 and green_channel == 102 and blue_channel == 102):\n",
        "            add_green = random.randint(0, 1)\n",
        "            add_red = random.randint(0, 1)\n",
        "            add_blue = random.randint(0, 1)\n",
        "            if (add_red): red_channel = random.randint(150, 229)\n",
        "            if (add_green): green_channel = random.randint(150, 229)\n",
        "            if (add_blue): blue_channel = random.randint(150, 229)\n",
        "\n",
        "        for i in range (96):\n",
        "            for j in range (96):\n",
        "                if (s[i][j][0] == s[i][j][1] == s[i][j][2]):\n",
        "                      continue\n",
        "                elif (s[i][j][1] == 204):\n",
        "                      s[i][j][0] = red_channel\n",
        "                      s[i][j][1] = green_channel\n",
        "                      s[i][j][2] = blue_channel\n",
        "                elif (s[i][j][1] == 230):\n",
        "                      s[i][j][0] = red_channel + 26\n",
        "                      s[i][j][1] = green_channel + 26\n",
        "                      s[i][j][2] = blue_channel + 26\n",
        "        return s\n",
        "\n",
        "    def reset(self):\n",
        "        self.counter = 0\n",
        "        self.av_r = self.reward_memory()\n",
        "\n",
        "        self.die = False\n",
        "\n",
        "        img_rgb = self.env.reset()\n",
        "        rand_img_rgb = self.rand_state(img_rgb)\n",
        "\n",
        "        img_rgb = img_rgb / 128. - 1\n",
        "        rand_img_rgb = rand_img_rgb / 128. - 1\n",
        "\n",
        "        self.stack = [img_rgb] * 4\n",
        "        self.rand_stack = [rand_img_rgb] * 4\n",
        "\n",
        "        return np.array(self.stack), np.array(self.rand_stack)\n",
        "\n",
        "    def step(self, action):\n",
        "        total_reward = 0\n",
        "        for i in range(8):\n",
        "            img_rgb, reward, die, _ = self.env.step(action)\n",
        "\n",
        "            if die: reward += 100\n",
        "\n",
        "            if self.color == 'g' and np.mean(img_rgb[:, :, 1]) > 185.0:\n",
        "                  reward -= 0.05\n",
        "\n",
        "            total_reward += reward\n",
        "\n",
        "            done = True if self.av_r(reward) <= -0.1 else False\n",
        "            if done or die:\n",
        "                break\n",
        "\n",
        "        rand_img_rgb = self.rand_state(img_rgb)\n",
        "\n",
        "        img_rgb = img_rgb / 128. - 1\n",
        "        rand_img_rgb = rand_img_rgb / 128. - 1\n",
        "\n",
        "        self.stack.pop(0)\n",
        "        self.stack.append(img_rgb)\n",
        "\n",
        "        self.rand_stack.pop(0)\n",
        "        self.rand_stack.append(rand_img_rgb)\n",
        "\n",
        "        assert len(self.stack) == 4\n",
        "        assert len(self.rand_stack) == 4\n",
        "\n",
        "        return np.array(self.stack), np.array(self.rand_stack), total_reward, done, die\n",
        "\n",
        "    def step_eval(self, action):\n",
        "        img_rgb, reward, done, _ = self.env.step(action)\n",
        "\n",
        "        rand_img_rgb = self.rand_state(img_rgb)\n",
        "\n",
        "        rand_img_rgb = rand_img_rgb / 128. - 1\n",
        "        img_rgb = img_rgb / 128. - 1\n",
        "\n",
        "        self.stack.pop(0)\n",
        "        self.stack.append(img_rgb)\n",
        "\n",
        "        self.rand_stack.pop(0)\n",
        "        self.rand_stack.append(rand_img_rgb)\n",
        "        \n",
        "        return np.array(self.stack), np.array(self.rand_stack), reward, done, _\n",
        "\n",
        "    def render(self, *arg):\n",
        "        self.env.render(*arg)\n",
        "\n",
        "    @staticmethod\n",
        "    def reward_memory():\n",
        "        count = 0\n",
        "        length = 100\n",
        "        history = np.zeros(length)\n",
        "\n",
        "        def memory(reward):\n",
        "            nonlocal count\n",
        "            history[count] = reward\n",
        "            count = (count + 1) % length\n",
        "            return np.mean(history)\n",
        "\n",
        "        return memory"
      ],
      "outputs": [],
      "metadata": {
        "id": "kuIh8kXuszw6"
      }
    },
    {
      "cell_type": "markdown",
      "source": [
        "# Fixed Env"
      ],
      "metadata": {
        "id": "X_3UXPkvSy8o"
      }
    },
    {
      "cell_type": "code",
      "source": [
        "class Env():\n",
        "    def __init__(self, color, seed = 0):\n",
        "        self.env = gnwrapper.Animation(cr.CarRacing(color = color))\n",
        "        self.env = cr.CarRacing(color = color)\n",
        "        self.color = color\n",
        "        self.env.seed(seed)\n",
        "        self.reward_threshold = 1000\n",
        "\n",
        "    def reset(self):\n",
        "        self.counter = 0\n",
        "        self.av_r = self.reward_memory()\n",
        "\n",
        "        self.die = False\n",
        "        img_rgb = self.env.reset()\n",
        "        img_rgb = img_rgb / 128. - 1\n",
        "        self.stack = [img_rgb] * 4\n",
        "        return np.array(self.stack)\n",
        "\n",
        "    def step(self, action):\n",
        "        total_reward = 0\n",
        "        for i in range(8):\n",
        "            img_rgb, reward, die, _ = self.env.step(action)\n",
        "\n",
        "            if die: reward += 100\n",
        "\n",
        "            if self.color == 'g' and np.mean(img_rgb[:, :, 1]) > 185.0:\n",
        "                  reward -= 0.05\n",
        "\n",
        "            total_reward += reward\n",
        "\n",
        "            done = True if self.av_r(reward) <= -0.1 else False\n",
        "            if done or die:\n",
        "                break\n",
        "\n",
        "        img_rgb = img_rgb / 128. - 1\n",
        "        self.stack.pop(0)\n",
        "        self.stack.append(img_rgb)\n",
        "        assert len(self.stack) == 4\n",
        "        return np.array(self.stack), total_reward, done, die\n",
        "\n",
        "    def step_eval(self, action):\n",
        "        img_rgb, reward, done, _ = self.env.step(action)\n",
        "\n",
        "        img_rgb = img_rgb / 128. - 1\n",
        "        self.stack.pop(0)\n",
        "        self.stack.append(img_rgb)\n",
        "        return np.array(self.stack), reward, done, _\n",
        "\n",
        "    def render(self, *arg):\n",
        "        self.env.render(*arg)\n",
        "\n",
        "    @staticmethod\n",
        "    def reward_memory():\n",
        "        count = 0\n",
        "        length = 100\n",
        "        history = np.zeros(length)\n",
        "\n",
        "        def memory(reward):\n",
        "            nonlocal count\n",
        "            history[count] = reward\n",
        "            count = (count + 1) % length\n",
        "            return np.mean(history)\n",
        "\n",
        "        return memory"
      ],
      "metadata": {
        "id": "VDgTzW8KS00u"
      },
      "execution_count": 24,
      "outputs": []
    },
    {
      "cell_type": "markdown",
      "source": [
        "# DANN"
      ],
      "metadata": {
        "id": "PIYnOK21S5cD"
      }
    },
    {
      "cell_type": "code",
      "execution_count": 25,
      "source": [
        "class ReverseLayerF(Function):\n",
        "    @staticmethod\n",
        "    def forward(ctx, x, alpha):\n",
        "        ctx.alpha = alpha\n",
        "\n",
        "        return x.view_as(x)\n",
        "\n",
        "    @staticmethod\n",
        "    def backward(ctx, grad_output):\n",
        "        output = grad_output.neg() * ctx.alpha\n",
        "\n",
        "        return output, None  \n",
        "\n",
        "class DANN(nn.Module):\n",
        "    def __init__(self, num_out):\n",
        "        super(DANN, self).__init__()\n",
        "        self.sketch = nn.Sequential(\n",
        "            nn.Conv3d(4, 4, kernel_size=(1, 1, 3), stride=1),\n",
        "            nn.ReLU(),\n",
        "        )\n",
        "        self.feature = nn.Sequential(  # input shape (4, 96, 96)\n",
        "            nn.Conv2d(4, 8, kernel_size=4, stride=2),\n",
        "            nn.ReLU(),\n",
        "            nn.Conv2d(8, 16, kernel_size=3, stride=2),  # (8, 47, 47)\n",
        "            nn.ReLU(),\n",
        "            nn.Conv2d(16, 32, kernel_size=3, stride=2),  # (16, 23, 23)\n",
        "            nn.ReLU(),\n",
        "            nn.Conv2d(32, 64, kernel_size=3, stride=2),  # (32, 11, 11)\n",
        "            nn.ReLU(),\n",
        "        )\n",
        "\n",
        "        self.cnn_base = nn.Sequential(\n",
        "            nn.Conv2d(64, 128, kernel_size=3, stride=1),  # (64, 5, 5)\n",
        "            nn.ReLU(),\n",
        "            nn.Conv2d(128, 256, kernel_size=3, stride=1),  # (128, 3, 3)\n",
        "            nn.ReLU(),\n",
        "        )\n",
        "\n",
        "        self.domain_classifier = nn.Sequential(\n",
        "            nn.Linear(64 * 5 * 5, 1000),\n",
        "            nn.BatchNorm1d(1000),\n",
        "            nn.ReLU(True),\n",
        "            nn.Linear(1000, 100),\n",
        "            nn.BatchNorm1d(100),\n",
        "            nn.ReLU(True),\n",
        "            nn.Linear(100, num_out),\n",
        "        )\n",
        "\n",
        "        self.v = nn.Sequential(nn.Linear(256, 100), nn.ReLU(), nn.Linear(100, 1))\n",
        "        self.fc = nn.Sequential(nn.Linear(256, 100), nn.ReLU())\n",
        "        self.alpha_head = nn.Sequential(nn.Linear(100, 3), nn.Softplus())\n",
        "        self.beta_head = nn.Sequential(nn.Linear(100, 3), nn.Softplus())\n",
        "        self.apply(self._weights_init)\n",
        "      \n",
        "    def forward(self, input, a = 0.1):\n",
        "        sketch = self.sketch(input)\n",
        "        sketch = torch.squeeze(sketch)\n",
        "\n",
        "        feature = self.feature(sketch)\n",
        "\n",
        "        out = self.cnn_base(feature)\n",
        "        out = out.view(-1, 256)\n",
        "        v = self.v(out)\n",
        "        out = self.fc(out)\n",
        "\n",
        "        alpha = self.alpha_head(out) + 1\n",
        "        beta = self.beta_head(out) + 1\n",
        "\n",
        "        feature = feature.view(-1, 64 * 5 * 5)\n",
        "        reverse_feature = ReverseLayerF.apply(feature, a)\n",
        "        domain_output = self.domain_classifier(reverse_feature)\n",
        "\n",
        "        return (alpha, beta), v, domain_output\n",
        "\n",
        "    @staticmethod\n",
        "    def _weights_init(m):\n",
        "        if isinstance(m, nn.Conv2d):\n",
        "            nn.init.xavier_uniform_(m.weight, gain=nn.init.calculate_gain('relu'))\n",
        "            nn.init.constant_(m.bias, 0.1)"
      ],
      "outputs": [],
      "metadata": {
        "id": "0Qatrg357OC6"
      }
    },
    {
      "cell_type": "markdown",
      "source": [
        "# Random Env Training"
      ],
      "metadata": {
        "id": "kZiT4SemaRPj"
      }
    },
    {
      "cell_type": "markdown",
      "source": [
        "## Random Env Agent"
      ],
      "metadata": {
        "id": "UIfkUhtrbgqw"
      }
    },
    {
      "cell_type": "code",
      "source": [
        "class rand_Agent():\n",
        "    max_grad_norm = 0.5\n",
        "    clip_param = 0.1\n",
        "    ppo_epoch = 10\n",
        "\n",
        "    transition = np.dtype([('s', np.float64, (4, 96, 96, 3)), ('a', np.float64, (3,)), ('a_logp', np.float64),\n",
        "                       ('r', np.float64), ('s_', np.float64, (4, 96, 96, 3))])\n",
        "    target_transition =  np.dtype([('0', np.float64, (4, 96, 96, 3))])\n",
        "\n",
        "    def __init__(self, net, criterion, optimizer, buffer_capacity = 2000, batch_size = 128):\n",
        "        self.net = net\n",
        "        self.buffer_capacity = buffer_capacity\n",
        "        self.batch_size = batch_size\n",
        "        self.criterion = criterion\n",
        "        self.optimizer = optimizer\n",
        "\n",
        "        self.source_buffer = np.empty(self.buffer_capacity, dtype=self.transition)\n",
        "        self.target_buffer = np.empty(self.buffer_capacity, dtype=self.target_transition)\n",
        "        self.counter = 0\n",
        "\n",
        "    def select_action(self, state):\n",
        "        state = torch.from_numpy(state).double().to(device).unsqueeze(0)\n",
        "        with torch.no_grad():\n",
        "            out = self.net.sketch(state)\n",
        "            out = torch.squeeze(out)\n",
        "            out = self.net.feature(out)\n",
        "\n",
        "            out = self.net.cnn_base(out)\n",
        "            out = out.view(-1, 256)\n",
        "            out = self.net.fc(out)\n",
        "            alpha = self.net.alpha_head(out) + 1\n",
        "            beta = self.net.beta_head(out) + 1\n",
        "\n",
        "        dist = Beta(alpha, beta)\n",
        "        action = dist.sample()\n",
        "        a_logp = dist.log_prob(action).sum(dim=1)\n",
        "\n",
        "        action = action.squeeze().cpu().numpy()\n",
        "        a_logp = a_logp.item()\n",
        "        return action, a_logp\n",
        "\n",
        "    def store(self, transition, target_transition):\n",
        "        self.source_buffer[self.counter] = transition\n",
        "        self.target_buffer[self.counter] = target_transition\n",
        "        self.counter += 1\n",
        "        if self.counter == self.buffer_capacity:\n",
        "            self.counter = 0\n",
        "            return True\n",
        "\n",
        "        return False\n",
        "\n",
        "    def update(self, epoch, eta = 0.1):\n",
        "        s = torch.tensor(self.source_buffer['s'], dtype=torch.double).to(device)\n",
        "        a = torch.tensor(self.source_buffer['a'], dtype=torch.double).to(device)\n",
        "        r = torch.tensor(self.source_buffer['r'], dtype=torch.double).to(device).view(-1, 1)\n",
        "        s_ = torch.tensor(self.source_buffer['s_'], dtype=torch.double).to(device)\n",
        "        old_a_logp = torch.tensor(self.source_buffer['a_logp'], dtype=torch.double).to(device).view(-1, 1)\n",
        "\n",
        "        target_s = torch.tensor(self.target_buffer['0'], dtype=torch.double).to(device).view(-1, 1)\n",
        "\n",
        "        source_domain_label = torch.zeros(self.batch_size).long()\n",
        "        target_domain_label = torch.ones(self.batch_size).long()\n",
        "        source_domain_label = source_domain_label.to(device)\n",
        "        target_domain_label = target_domain_label.to(device)\n",
        "\n",
        "        with torch.no_grad():\n",
        "            target_v = r + 0.99 * self.net(s_)[1]\n",
        "            adv = target_v - self.net(s)[1]\n",
        "  \n",
        "        for _ in range(self.ppo_epoch):\n",
        "            total = 0\n",
        "            source_domain_correct = 0\n",
        "            tagret_domain_correct = 0\n",
        "            for index in BatchSampler(SubsetRandomSampler(range(self.buffer_capacity)), self.batch_size, True):\n",
        "                total += self.batch_size\n",
        "                loss = 0\n",
        "\n",
        "                (alpha, beta), v, domain_out = self.net(s[index], eta)\n",
        "                source_domain_loss = self.criterion(domain_out, source_domain_label)\n",
        "\n",
        "                _, predicted = torch.max(domain_out.data, 1)\n",
        "                source_domain_correct += predicted.eq(source_domain_label.data).cpu().sum().item()\n",
        "\n",
        "                 _, _, _, domian_out = self.net(target_s[index], eta)\n",
        "                target_domain_loss = self.criterion(domain_out, target_domain_label)\n",
        "\n",
        "                _, predicted = torch.max(domain_out.data, 1)\n",
        "                tagret_domain_correct += predicted.eq(target_domain_label.data).cpu().sum().item()\n",
        "\n",
        "                dist = Beta(alpha, beta)\n",
        "                a_logp = dist.log_prob(a[index]).sum(dim=1, keepdim=True)\n",
        "                ratio = torch.exp(a_logp - old_a_logp[index])\n",
        "                surr1 = ratio * adv[index]\n",
        "                surr2 = torch.clamp(ratio, 1.0 - self.clip_param, 1.0 + self.clip_param) * adv[index]\n",
        "                action_loss = -torch.min(surr1, surr2).mean()\n",
        "                value_loss = F.smooth_l1_loss(self.net(s[index])[1], target_v[index])\n",
        "\n",
        "                loss += action_loss + 2. * value_loss + source_domain_loss + target_domain_loss\n",
        "\n",
        "                self.optimizer.zero_grad()\n",
        "                loss.backward()\n",
        "                self.optimizer.step()\n",
        "\n",
        "            print (\"Source Correct: %.2f, Target Correct: %.2f\" % (source_domain_correct / total, tagret_domain_correct / total))\n"
      ],
      "metadata": {
        "id": "5_r8gQMUbgCP",
        "outputId": "9adfe0aa-28c4-4372-d02a-5c3515271ada",
        "colab": {
          "base_uri": "https://localhost:8080/",
          "height": 138
        }
      },
      "execution_count": 26,
      "outputs": [
        {
          "output_type": "error",
          "ename": "IndentationError",
          "evalue": "ignored",
          "traceback": [
            "\u001b[0;36m  File \u001b[0;32m\"<ipython-input-26-a26cbd054cbf>\"\u001b[0;36m, line \u001b[0;32m84\u001b[0m\n\u001b[0;31m    _, _, _, domian_out = self.net(target_s[index], eta)\u001b[0m\n\u001b[0m    ^\u001b[0m\n\u001b[0;31mIndentationError\u001b[0m\u001b[0;31m:\u001b[0m unexpected indent\n"
          ]
        }
      ]
    },
    {
      "cell_type": "markdown",
      "source": [
        "## Random env training"
      ],
      "metadata": {
        "id": "4ieYDKlqQhoL"
      }
    },
    {
      "cell_type": "code",
      "source": [
        "source_env = Rand_Env(color = 'g', seed = 0)\n",
        "\n",
        "criterion = nn.CrossEntropyLoss().to(device)\n",
        "net = DANN(num_out = 2).double().to(device)\n",
        "optimizer = optim.Adam(net.parameters(), lr=1e-3)\n",
        "\n",
        "agent = rand_Agent(net = net,  criterion = criterion, \n",
        "              optimizer = optimizer, buffer_capacity = 3000, batch_size = 64)"
      ],
      "metadata": {
        "id": "G7U0EPpBarRN"
      },
      "execution_count": null,
      "outputs": []
    },
    {
      "cell_type": "code",
      "source": [
        "training_records = []\n",
        "running_score = 0\n",
        "\n",
        "for i_ep in range(3000):\n",
        "    score = 0\n",
        "    state, target_state = source_env.reset()\n",
        "\n",
        "    if (i_ep < 500): eta = 0.5\n",
        "    elif (i_ep < 1000): eta = 0.4\n",
        "    elif (i_ep < 1500): eta = 0.3\n",
        "    elif (i_ep < 2000): eta = 0.2\n",
        "    else: eta = 0.1\n",
        "\n",
        "    for t in range(1000):\n",
        "        action, a_logp = agent.select_action(source_state)\n",
        "        state_, target_state_, reward, done, die = source_env.step(action * np.array([2., 1., 1.]) + np.array([-1., 0., 0.]))\n",
        "        score += reward\n",
        "\n",
        "        should_update = agent.store((source_state, action, a_logp, reward, state_), (target_state,))\n",
        "\n",
        "        if should_update: \n",
        "            agent.update(epoch = i_ep, eta = eta)\n",
        "\n",
        "        source_state = state_\n",
        "\n",
        "        if done or die: break\n",
        "\n",
        "    running_score = running_score * 0.99 + score * 0.01\n",
        "    if (i_ep % 10 == 0):\n",
        "        print('Domain {}: Ep {}\\tLast score: {:.2f}\\tMoving average score: {:.2f}'.format(i, i_ep, score, running_scores[i]))\n",
        "        "
      ],
      "metadata": {
        "id": "F0cmDpQ-a1CA"
      },
      "execution_count": null,
      "outputs": []
    },
    {
      "cell_type": "markdown",
      "source": [
        "# Fix Env Training"
      ],
      "metadata": {
        "id": "mR64oV7bfdKE"
      }
    },
    {
      "cell_type": "markdown",
      "source": [
        "## Fix Env Agent"
      ],
      "metadata": {
        "id": "z5DUkDDLa23A"
      }
    },
    {
      "cell_type": "code",
      "source": [
        "class Agent():\n",
        "    max_grad_norm = 0.5\n",
        "    clip_param = 0.1\n",
        "    ppo_epoch = 10\n",
        "\n",
        "    transition = np.dtype([('s', np.float64, (4, 96, 96, 3)), ('a', np.float64, (3,)), ('a_logp', np.float64),\n",
        "                       ('r', np.float64), ('s_', np.float64, (4, 96, 96, 3))])\n",
        "    target_transition_2 =  np.dtype([('0', np.float64, (4, 96, 96, 3)), ('1', np.float64, (4, 96, 96, 3))])\n",
        "    target_transition_3 =  np.dtype([('0', np.float64, (4, 96, 96, 3)), ('1', np.float64, (4, 96, 96, 3)), ('2', np.float64, (4, 96, 96, 3))])\n",
        "\n",
        "    def __init__(self, num_target, net, criterion, optimizer, buffer_capacity = 2000, batch_size = 128):\n",
        "        self.net = net\n",
        "        self.buffer_capacity = buffer_capacity\n",
        "        self.num_target = num_target\n",
        "        self.batch_size = batch_size\n",
        "        self.criterion = criterion\n",
        "        self.optimizer = optimizer\n",
        "\n",
        "        self.source_buffer = np.empty(self.buffer_capacity, dtype=self.transition)\n",
        "        if (num_target == 2):\n",
        "            self.target_buffer = np.empty(self.buffer_capacity, dtype=self.target_transition_2)\n",
        "        elif (num_target == 3):\n",
        "            self.target_buffer = np.empty(self.buffer_capacity, dtype=self.target_transition_3)\n",
        "\n",
        "        self.counter = 0\n",
        "\n",
        "    def select_action(self, state):\n",
        "        state = torch.from_numpy(state).double().to(device).unsqueeze(0)\n",
        "        with torch.no_grad():\n",
        "            out = self.net.sketch(state)\n",
        "            out = torch.squeeze(out)\n",
        "            out = self.net.feature(out)\n",
        "\n",
        "            out = self.net.cnn_base(out)\n",
        "            out = out.view(-1, 256)\n",
        "            out = self.net.fc(out)\n",
        "            alpha = self.net.alpha_head(out) + 1\n",
        "            beta = self.net.beta_head(out) + 1\n",
        "\n",
        "        dist = Beta(alpha, beta)\n",
        "        action = dist.sample()\n",
        "        a_logp = dist.log_prob(action).sum(dim=1)\n",
        "\n",
        "        action = action.squeeze().cpu().numpy()\n",
        "        a_logp = a_logp.item()\n",
        "        return action, a_logp\n",
        "\n",
        "    def store(self, transition, target_transition):\n",
        "        self.source_buffer[self.counter] = transition\n",
        "        self.target_buffer[self.counter] = target_transition\n",
        "        self.counter += 1\n",
        "        if self.counter == self.buffer_capacity:\n",
        "            self.counter = 0\n",
        "            return True\n",
        "\n",
        "        return False\n",
        "\n",
        "    def update(self, epoch, eta = 0.1):\n",
        "        s = torch.tensor(self.source_buffer['s'], dtype=torch.double).to(device)\n",
        "        a = torch.tensor(self.source_buffer['a'], dtype=torch.double).to(device)\n",
        "        r = torch.tensor(self.source_buffer['r'], dtype=torch.double).to(device).view(-1, 1)\n",
        "        s_ = torch.tensor(self.source_buffer['s_'], dtype=torch.double).to(device)\n",
        "        old_a_logp = torch.tensor(self.source_buffer['a_logp'], dtype=torch.double).to(device).view(-1, 1)\n",
        "\n",
        "        domain_labels = {}\n",
        "        target_data = {}\n",
        "\n",
        "        for i in range(self.num_target + 1):\n",
        "            domain_label = torch.full([self.batch_size], i).long()\n",
        "            domain_label = domain_label.to(device)\n",
        "            domain_labels[i] = domain_label\n",
        "\n",
        "        for i in range(self.num_target):\n",
        "            target_data[i] = torch.tensor(self.target_buffer[str(i)], dtype=torch.double).to(device)\n",
        "\n",
        "        with torch.no_grad():\n",
        "            target_v = r + 0.99 * self.net(s_)[1]\n",
        "            adv = target_v - self.net(s)[1]\n",
        "\n",
        "        \n",
        "        for index in BatchSampler(SubsetRandomSampler(range(self.buffer_capacity)), self.batch_size, True):\n",
        "            image_array = []\n",
        "            for i in range (self.num_target + 1):\n",
        "                if (i == 0):\n",
        "                    image = self.net.sketch(s[index])[0][0]\n",
        "                    image = image.reshape(96, 96)\n",
        "                    image = image.cpu().detach().numpy()\n",
        "                    image_array.append(image)\n",
        "\n",
        "                else:\n",
        "                    image = self.net.sketch(target_data[i - 1][index])[0][0]\n",
        "                    image = image.reshape(96, 96)\n",
        "                    image = image.cpu().detach().numpy()\n",
        "                    image_array.append(image)\n",
        "\n",
        "            f, axs = plt.subplots(1, 4, figsize = (12, 4))\n",
        "            for img, ax in zip(image_array, axs):\n",
        "                ax.imshow(img)\n",
        "            f.savefig('./output/%03d.png' % epoch)\n",
        "            plt.close(f)\n",
        "            break\n",
        "  \n",
        "        for _ in range(self.ppo_epoch):\n",
        "            correct = []\n",
        "            for i in range(self.num_target + 1):\n",
        "                correct.append(0)\n",
        "            total = 0\n",
        "            for index in BatchSampler(SubsetRandomSampler(range(self.buffer_capacity)), self.batch_size, True):\n",
        "                total += self.batch_size\n",
        "                loss = 0\n",
        "\n",
        "                for i in range (self.num_target + 1):\n",
        "                    if (i == 0):\n",
        "                        (alpha, beta), v, domain_out = self.net(s[index], eta)\n",
        "                    else:\n",
        "                        _, _, domain_out = self.net(target_data[i - 1][index], eta)\n",
        "\n",
        "                    domain_loss = self.criterion(domain_out, domain_labels[i])\n",
        "                    loss += domain_loss\n",
        "\n",
        "                    _, predicted = torch.max(domain_out.data, 1)\n",
        "                    correct[i] += predicted.eq(domain_labels[i].data).cpu().sum().item()\n",
        "\n",
        "\n",
        "                dist = Beta(alpha, beta)\n",
        "                a_logp = dist.log_prob(a[index]).sum(dim=1, keepdim=True)\n",
        "                ratio = torch.exp(a_logp - old_a_logp[index])\n",
        "                surr1 = ratio * adv[index]\n",
        "                surr2 = torch.clamp(ratio, 1.0 - self.clip_param, 1.0 + self.clip_param) * adv[index]\n",
        "                action_loss = -torch.min(surr1, surr2).mean()\n",
        "                value_loss = F.smooth_l1_loss(self.net(s[index])[1], target_v[index])\n",
        "\n",
        "                loss += action_loss + 2. * value_loss\n",
        "                self.optimizer.zero_grad()\n",
        "                loss.backward()\n",
        "                self.optimizer.step()\n",
        "\n",
        "            for i in range(self.num_target + 1):\n",
        "              print(\"[Domain %d, Acc: %.2f]\" % (i, correct[i]/ total), end = ' ')\n",
        "            print(\"\")"
      ],
      "metadata": {
        "id": "EKQyailaatbx"
      },
      "execution_count": null,
      "outputs": []
    },
    {
      "cell_type": "markdown",
      "source": [
        "## Training"
      ],
      "metadata": {
        "id": "DVNpPlXHa6zF"
      }
    },
    {
      "cell_type": "code",
      "execution_count": null,
      "source": [
        "env_green = Env(color = 'g', seed = 0)\n",
        "env_red = Env(color = 'r', seed = 0)\n",
        "env_yellow = Env(color = 'y', seed = 0)\n",
        "env_blue = Env(color = 'b', seed = 0)\n",
        "env_gray = Env(color = 'gr', seed = 0)\n",
        "env_light_green = Env(color = 'lg', seed = 0)\n",
        "env_light_gray = Env(color = 'lgr', seed = 0)\n",
        "env_light_red = Env(color = 'lr', seed = 0)\n",
        "\n",
        "num_target = 3\n",
        "source_env = env_green\n",
        "target_envs = [env_red, env_gray, env_blue]\n",
        "\n",
        "running_scores = [0]\n",
        "for i in range(num_target): running_scores.append(0)"
      ],
      "outputs": [],
      "metadata": {
        "id": "_NJ5oeTvfkRH"
      }
    },
    {
      "cell_type": "code",
      "execution_count": null,
      "source": [
        "criterion = nn.CrossEntropyLoss().to(device)\n",
        "net = DANN(num_out = num_target + 1).double().to(device)\n",
        "optimizer = optim.Adam(net.parameters(), lr=1e-3)\n",
        "\n",
        "agent = Agent(num_target = num_target, net = net,  criterion = criterion, \n",
        "              optimizer = optimizer,\n",
        "              buffer_capacity = 3000, batch_size = 64)"
      ],
      "outputs": [],
      "metadata": {
        "id": "qlp6jr27vd0V"
      }
    },
    {
      "cell_type": "code",
      "execution_count": null,
      "source": [
        "training_records = []\n",
        "for i_ep in range(3000):\n",
        "    scores = [0]\n",
        "    source_state = source_env.reset()\n",
        "    target_states = []\n",
        "\n",
        "    for env in target_envs:\n",
        "        scores.append(0)\n",
        "        target_states.append(env.reset())\n",
        "\n",
        "    if (i_ep < 500): eta = 0.5\n",
        "    elif (i_ep < 1000): eta = 0.4\n",
        "    elif (i_ep < 1500): eta = 0.3\n",
        "    elif (i_ep < 2000): eta = 0.2\n",
        "    else: eta = 0.1\n",
        "\n",
        "    for t in range(1000):\n",
        "        # Source\n",
        "        source_action, source_a_logp = agent.select_action(source_state)\n",
        "        source_state_, source_reward, done, die = source_env.step(source_action * np.array([2., 1., 1.]) + np.array([-1., 0., 0.]))\n",
        "        scores[0] += source_reward\n",
        "\n",
        "        # Target\n",
        "        target_actions = []\n",
        "        for i, state in enumerate(target_states):\n",
        "            target_action, _ = agent.select_action(state)\n",
        "            target_actions.append(target_action)\n",
        "\n",
        "        target_states_ = []\n",
        "        for i, action in enumerate(target_actions):\n",
        "            target_state_, target_reward, target_done, target_die = target_envs[i].step(action * np.array([2., 1., 1.]) + np.array([-1., 0., 0.]))\n",
        "            target_states_.append(target_state_)\n",
        "            scores[i + 1] += target_reward\n",
        "\n",
        "            done = done or target_done\n",
        "            die = die or target_die\n",
        "\n",
        "        # Update\n",
        "        should_update = agent.store((source_state, source_action, source_a_logp, source_reward, source_state_), (target_states[0], target_states[1], target_states[2]))\n",
        "\n",
        "        if should_update: agent.update(epoch = i_ep, eta = eta)\n",
        "\n",
        "        source_state = source_state_\n",
        "        target_states = target_states_\n",
        "\n",
        "        if done or die: break\n",
        "\n",
        "    for i, score in enumerate(scores):\n",
        "        running_scores[i] = running_scores[i] * 0.99 + score * 0.01\n",
        "\n",
        "    if i_ep % 10 == 0:\n",
        "        for i, score in enumerate(scores):\n",
        "          print('Domain {}: Ep {}\\tLast score: {:.2f}\\tMoving average score: {:.2f}'.format(i, i_ep, score, running_scores[i]))\n",
        "        "
      ],
      "outputs": [],
      "metadata": {
        "id": "LvWkGW4d4JFr"
      }
    },
    {
      "cell_type": "markdown",
      "source": [
        "# Eval"
      ],
      "metadata": {
        "id": "cKdFGMaqcXPS"
      }
    },
    {
      "cell_type": "code",
      "execution_count": null,
      "source": [
        "def eval(agent, env):\n",
        "    score = 0\n",
        "    state = env.reset()\n",
        "\n",
        "    for t in range(1000):\n",
        "        action, a_logp = agent.select_action(state)\n",
        "\n",
        "        state_, reward, done, _ = env.step_eval(action * np.array([2., 1., 1.]) + np.array([-1., 0., 0.]))\n",
        "\n",
        "        score += reward\n",
        "\n",
        "        state = state_\n",
        "\n",
        "        if done:\n",
        "            break\n",
        "\n",
        "    return score"
      ],
      "outputs": [],
      "metadata": {
        "id": "zOu192CXcZV-"
      }
    },
    {
      "cell_type": "code",
      "execution_count": null,
      "source": [
        "green_score = eval(agent, env_green)\n",
        "red_score = eval(agent, env_red)\n",
        "gray_score = eval(agent, env_gray)\n",
        "blue_score = eval(agent, env_blue)"
      ],
      "outputs": [],
      "metadata": {
        "id": "SUzqmJmzicXA"
      }
    },
    {
      "cell_type": "code",
      "execution_count": null,
      "source": [
        "print(green_score)\n",
        "print(red_score)\n",
        "print(gray_score)\n",
        "print(blue_score)"
      ],
      "outputs": [],
      "metadata": {
        "id": "IpEYXPCsi3Xy"
      }
    },
    {
      "cell_type": "code",
      "execution_count": null,
      "source": [
        "yellow_score = eval(agent, env_yellow)\n",
        "light_red_score = eval(agent, env_light_red)\n",
        "light_gray_score = eval(agent, env_light_gray)\n",
        "light_green_score = eval(agent, env_light_green)"
      ],
      "outputs": [],
      "metadata": {
        "id": "x9ji0eHDjHCc"
      }
    },
    {
      "cell_type": "code",
      "source": [
        "print(yellow_score)\n",
        "print(light_red_score)\n",
        "print(light_gray_score)\n",
        "print(light_green_score)"
      ],
      "metadata": {
        "id": "a2segkBS6eT3"
      },
      "execution_count": null,
      "outputs": []
    }
  ],
  "metadata": {
    "language_info": {
      "name": "python"
    },
    "orig_nbformat": 4,
    "colab": {
      "name": "car_racing_colab.ipynb",
      "provenance": [],
      "machine_shape": "hm"
    },
    "kernelspec": {
      "name": "python3",
      "display_name": "Python 3"
    },
    "gpuClass": "standard",
    "accelerator": "GPU"
  },
  "nbformat": 4,
  "nbformat_minor": 0
}