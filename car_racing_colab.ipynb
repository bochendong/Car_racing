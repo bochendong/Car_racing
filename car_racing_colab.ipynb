{
  "cells": [
    {
      "cell_type": "markdown",
      "source": [
        "# Colab env settings"
      ],
      "metadata": {
        "id": "hpANlTAssfdF"
      }
    },
    {
      "cell_type": "code",
      "source": [
        "!git clone https://github.com/bochendong/car_racing.git"
      ],
      "metadata": {
        "id": "UfHgya4Jsdas"
      },
      "execution_count": null,
      "outputs": []
    },
    {
      "cell_type": "code",
      "execution_count": 2,
      "metadata": {
        "id": "yX7L7IlDnyvU"
      },
      "outputs": [],
      "source": [
        "%%capture\n",
        "!sudo apt update && sudo apt install python-opengl\n",
        "!sudo apt update && sudo apt install xvfb\n",
        "!pip install gym-notebook-wrapper stable-baselines[mpi] box2d box2d-kengz pyvirtualdisplay pyglet\n",
        "!pip install wandb\n",
        "!pip install pyvirtualdisplay -qq\n",
        "!pip install folium==0.2.1\n",
        "!apt-get install -y xvfb python-opengl ffmpeg -qq"
      ]
    },
    {
      "cell_type": "code",
      "execution_count": 74,
      "metadata": {
        "id": "zUgm5ewmnyvV"
      },
      "outputs": [],
      "source": [
        "import numpy as np\n",
        "\n",
        "from PIL import Image\n",
        "import matplotlib\n",
        "import matplotlib.pyplot as plt\n",
        "from collections import namedtuple\n",
        "from itertools import count\n",
        "\n",
        "import torch\n",
        "import torch.nn as nn\n",
        "import torch.nn.functional as F\n",
        "import torchvision.transforms as T\n",
        "import torch.optim as optim\n",
        "from torch.distributions import Beta\n",
        "from torch.utils.data.sampler import BatchSampler, SubsetRandomSampler\n",
        "\n",
        "from torch.autograd import Function\n",
        "\n",
        "import gnwrapper\n",
        "import gym\n",
        "from gym import logger as gymlogger\n",
        "from gym.wrappers import Monitor\n",
        "gymlogger.set_level(30)\n",
        "\n",
        "from IPython.display import HTML\n",
        "from IPython import display as ipythondisplay\n",
        "from pyvirtualdisplay import Display\n",
        "import wandb\n",
        "\n",
        "is_ipython = 'inline' in matplotlib.get_backend()\n",
        "if is_ipython:\n",
        "    from IPython import display"
      ]
    },
    {
      "cell_type": "code",
      "execution_count": 4,
      "metadata": {
        "colab": {
          "base_uri": "https://localhost:8080/"
        },
        "id": "-x-zGeDRnyvX",
        "outputId": "ab9ac3d1-65df-40aa-9396-6d3df9d48a2e"
      },
      "outputs": [
        {
          "output_type": "stream",
          "name": "stdout",
          "text": [
            "Looking in indexes: https://pypi.org/simple, https://us-python.pkg.dev/colab-wheels/public/simple/\n",
            "Requirement already satisfied: box2d in /usr/local/lib/python3.7/dist-packages (2.3.10)\n"
          ]
        }
      ],
      "source": [
        "!pip install box2d"
      ]
    },
    {
      "cell_type": "code",
      "execution_count": 5,
      "metadata": {
        "colab": {
          "base_uri": "https://localhost:8080/"
        },
        "id": "wAbUZ5PBnyvY",
        "outputId": "bc0611c8-fcf0-4565-ec8e-9951f17cb1b4"
      },
      "outputs": [
        {
          "output_type": "stream",
          "name": "stdout",
          "text": [
            "Device available for running: \n",
            "cpu\n"
          ]
        }
      ],
      "source": [
        "# Use cuda if present\n",
        "device = torch.device(\"cuda\" if torch.cuda.is_available() else \"cpu\")\n",
        "print(\"Device available for running: \")\n",
        "print(device)"
      ]
    },
    {
      "cell_type": "code",
      "execution_count": 6,
      "metadata": {
        "colab": {
          "base_uri": "https://localhost:8080/"
        },
        "id": "3ijK2eBYnyvZ",
        "outputId": "237b2ba0-baea-4f0d-a533-8be34c244e78"
      },
      "outputs": [
        {
          "output_type": "stream",
          "name": "stdout",
          "text": [
            "/content/car_racing\n"
          ]
        }
      ],
      "source": [
        "%cd car_racing"
      ]
    },
    {
      "cell_type": "code",
      "source": [
        "import car_racing as cr\n",
        "import replay_memory as rm"
      ],
      "metadata": {
        "id": "6ia5ibGfqWfZ"
      },
      "execution_count": 7,
      "outputs": []
    },
    {
      "cell_type": "markdown",
      "source": [
        "# Carracing Enviorment settings"
      ],
      "metadata": {
        "id": "nu12ch3KssCE"
      }
    },
    {
      "cell_type": "code",
      "source": [
        "use_cuda = torch.cuda.is_available()\n",
        "device = torch.device(\"cuda\" if use_cuda else \"cpu\")"
      ],
      "metadata": {
        "id": "0bSmOb2d6qPq"
      },
      "execution_count": null,
      "outputs": []
    },
    {
      "cell_type": "code",
      "execution_count": 28,
      "metadata": {
        "colab": {
          "base_uri": "https://localhost:8080/"
        },
        "id": "HBhiAnYKnyvZ",
        "outputId": "f1ba5633-a474-44bc-8d73-c565faaea6c2"
      },
      "outputs": [
        {
          "output_type": "stream",
          "name": "stdout",
          "text": [
            "Track generation: 1156..1449 -> 293-tiles track\n",
            "(96, 96, 3)\n"
          ]
        },
        {
          "output_type": "stream",
          "name": "stderr",
          "text": [
            "/usr/local/lib/python3.7/dist-packages/gym/logger.py:30: UserWarning: \u001b[33mWARN: Box bound precision lowered by casting to float32\u001b[0m\n",
            "  warnings.warn(colorize('%s: %s'%('WARN', msg % args), 'yellow'))\n"
          ]
        }
      ],
      "source": [
        "env_green = gnwrapper.Animation(cr.CarRacing())\n",
        "env_green = cr.CarRacing(color = 'g')\n",
        "obs = env_green.reset()\n",
        "print(obs.shape)"
      ]
    },
    {
      "cell_type": "code",
      "source": [
        "env_red= gnwrapper.Animation(cr.CarRacing(color = 'r'))\n",
        "env_red = cr.CarRacing(color = 'r')\n",
        "obs = env_red.reset()"
      ],
      "metadata": {
        "colab": {
          "base_uri": "https://localhost:8080/"
        },
        "id": "U8sAj_hEq2aW",
        "outputId": "a03e4da3-cac2-4e95-999d-9822b5a945ac"
      },
      "execution_count": 9,
      "outputs": [
        {
          "output_type": "stream",
          "name": "stdout",
          "text": [
            "Track generation: 1227..1538 -> 311-tiles track\n"
          ]
        },
        {
          "output_type": "stream",
          "name": "stderr",
          "text": [
            "/usr/local/lib/python3.7/dist-packages/gym/logger.py:30: UserWarning: \u001b[33mWARN: Box bound precision lowered by casting to float32\u001b[0m\n",
            "  warnings.warn(colorize('%s: %s'%('WARN', msg % args), 'yellow'))\n"
          ]
        }
      ]
    },
    {
      "cell_type": "code",
      "source": [
        "env_blue = gnwrapper.Animation(cr.CarRacing(color = 'b'))\n",
        "env_blue = cr.CarRacing(color = 'b')\n",
        "obs = env_blue.reset()"
      ],
      "metadata": {
        "colab": {
          "base_uri": "https://localhost:8080/"
        },
        "id": "rWhhOvPjsOHd",
        "outputId": "09c0f39b-fb9f-49c2-db0a-9aafaa9aa547"
      },
      "execution_count": 10,
      "outputs": [
        {
          "output_type": "stream",
          "name": "stdout",
          "text": [
            "Track generation: 1128..1421 -> 293-tiles track\n"
          ]
        },
        {
          "output_type": "stream",
          "name": "stderr",
          "text": [
            "/usr/local/lib/python3.7/dist-packages/gym/logger.py:30: UserWarning: \u001b[33mWARN: Box bound precision lowered by casting to float32\u001b[0m\n",
            "  warnings.warn(colorize('%s: %s'%('WARN', msg % args), 'yellow'))\n"
          ]
        }
      ]
    },
    {
      "cell_type": "code",
      "execution_count": 12,
      "metadata": {
        "id": "BiivK79Vnyvc"
      },
      "outputs": [],
      "source": [
        "obs_array = []\n",
        "discrete_actions = {0 : np.array([0,0,0]),       # do nothing\n",
        "                                 1 : np.array([-1,0,0]),      # steer sharp left\n",
        "                                 2 : np.array([1,0,0]),       # steer sharp right\n",
        "                                 3 : np.array([-0.5,0,0]),    # steer left\n",
        "                                 4 : np.array([0.5,0,0]),     # steer right\n",
        "                                 5 : np.array([0,1,0]),       # accelerate 100%\n",
        "                                 6 : np.array([0,0.5,0]),     # accelerate 50%\n",
        "                                 7 : np.array([0,0.25,0]),    # accelerate 25%\n",
        "                                 8 : np.array([0,0,1]),       # brake 100%\n",
        "                                 9 : np.array([0,0,0.5]),     # brake 50%\n",
        "                                 10 : np.array([0,0,0.25])}   # brake 25%\n",
        "\n",
        "def get_obs(env):\n",
        "    obs_array = []\n",
        "    n_actions = len(discrete_actions)\n",
        "    for i in range (0, 40):\n",
        "        action = torch.randint(low=0, high=11, size=(1,))\n",
        "        action_transfered = discrete_actions.get(int(action[0]))\n",
        "\n",
        "        obs, reward, done, _ = env.step([action_transfered[0], action_transfered[1], action_transfered[2]])\n",
        "        if (i % 4 == 0):\n",
        "            obs_array.append(obs)\n",
        "\n",
        "    return obs_array"
      ]
    },
    {
      "cell_type": "code",
      "execution_count": 13,
      "metadata": {
        "colab": {
          "base_uri": "https://localhost:8080/",
          "height": 269
        },
        "id": "dqF3wdU8nyve",
        "outputId": "9f3e01af-1587-417f-cfe3-9455959bbfea"
      },
      "outputs": [
        {
          "output_type": "display_data",
          "data": {
            "text/plain": [
              "<Figure size 864x288 with 10 Axes>"
            ],
            "image/png": "[encoded data removed]"
          },
          "metadata": {
            "needs_background": "light"
          }
        }
      ],
      "source": [
        "f, axs = plt.subplots(2,5, figsize = (12, 4))\n",
        "\n",
        "axs = axs.flatten()\n",
        "obs_array = get_obs(env_green)\n",
        "for img, ax in zip(obs_array, axs):\n",
        "    ax.imshow(img)\n",
        "plt.show()"
      ]
    },
    {
      "cell_type": "code",
      "source": [
        "f, axs = plt.subplots(2,5, figsize = (12, 4))\n",
        "\n",
        "axs = axs.flatten()\n",
        "obs_array = get_obs(env_red)\n",
        "for img, ax in zip(obs_array, axs):\n",
        "    ax.imshow(img)\n",
        "plt.show()"
      ],
      "metadata": {
        "colab": {
          "base_uri": "https://localhost:8080/",
          "height": 269
        },
        "id": "iTvilSOJoBHt",
        "outputId": "8754add3-f2c8-4885-c3c2-a9876ea7d961"
      },
      "execution_count": 14,
      "outputs": [
        {
          "output_type": "display_data",
          "data": {
            "text/plain": [
              "<Figure size 864x288 with 10 Axes>"
            ],
            "image/png": "[encoded data removed]"
          },
          "metadata": {
            "needs_background": "light"
          }
        }
      ]
    },
    {
      "cell_type": "code",
      "source": [
        "f, axs = plt.subplots(2,5, figsize = (12, 4))\n",
        "\n",
        "axs = axs.flatten()\n",
        "obs_array = get_obs(env_blue)\n",
        "for img, ax in zip(obs_array, axs):\n",
        "    ax.imshow(img)\n",
        "plt.show()"
      ],
      "metadata": {
        "colab": {
          "base_uri": "https://localhost:8080/",
          "height": 269
        },
        "id": "hBzWILB7oDfj",
        "outputId": "69dcf8da-c1ad-481e-a0af-75f7d0a1bfcd"
      },
      "execution_count": 15,
      "outputs": [
        {
          "output_type": "display_data",
          "data": {
            "text/plain": [
              "<Figure size 864x288 with 10 Axes>"
            ],
            "image/png": "[encoded data removed]"
          },
          "metadata": {
            "needs_background": "light"
          }
        }
      ]
    },
    {
      "cell_type": "markdown",
      "source": [
        "# PPO Models"
      ],
      "metadata": {
        "id": "4n0GPeGzs1kf"
      }
    },
    {
      "cell_type": "code",
      "source": [
        "class Env():\n",
        "    def __init__(self, color, seed = 0):\n",
        "        self.env = gnwrapper.Animation(cr.CarRacing(color = color))\n",
        "        self.env = cr.CarRacing(color = color)\n",
        "        self.color = color\n",
        "        self.env.seed(seed)\n",
        "        self.reward_threshold = 1000\n",
        "\n",
        "    def reset(self):\n",
        "        self.counter = 0\n",
        "        self.av_r = self.reward_memory()\n",
        "\n",
        "        self.die = False\n",
        "        img_rgb = self.env.reset()\n",
        "        img_gray = self.rgb2gray(img_rgb)\n",
        "        self.stack = [img_gray] * 4  # four frames for decision\n",
        "        return np.array(self.stack)\n",
        "\n",
        "    def step(self, action):\n",
        "        total_reward = 0\n",
        "        for i in range(8):\n",
        "            img_rgb, reward, die, _ = self.env.step(action)\n",
        "\n",
        "            if die: reward += 100\n",
        "\n",
        "            if self.color == 'g':\n",
        "              if np.mean(img_rgb[:, :, 1]) > 185.0:\n",
        "                  reward -= 0.05\n",
        "            total_reward += reward\n",
        "\n",
        "            done = True if self.av_r(reward) <= -0.1 else False\n",
        "            if done or die:\n",
        "                break\n",
        "\n",
        "        img_gray = self.rgb2gray(img_rgb)\n",
        "        self.stack.pop(0)\n",
        "        self.stack.append(img_gray)\n",
        "        assert len(self.stack) == 4\n",
        "        return np.array(self.stack), total_reward, done, die\n",
        "\n",
        "    def render(self, *arg):\n",
        "        self.env.render(*arg)\n",
        "\n",
        "    @staticmethod\n",
        "    def rgb2gray(rgb, norm=True):\n",
        "        gray = np.dot(rgb[..., :], [0.299, 0.587, 0.114])\n",
        "        if norm:\n",
        "            gray = gray / 128. - 1.\n",
        "        return gray\n",
        "\n",
        "    @staticmethod\n",
        "    def reward_memory():\n",
        "        count = 0\n",
        "        length = 100\n",
        "        history = np.zeros(length)\n",
        "\n",
        "        def memory(reward):\n",
        "            nonlocal count\n",
        "            history[count] = reward\n",
        "            count = (count + 1) % length\n",
        "            return np.mean(history)\n",
        "\n",
        "        return memory"
      ],
      "metadata": {
        "id": "kuIh8kXuszw6"
      },
      "execution_count": 24,
      "outputs": []
    },
    {
      "cell_type": "code",
      "source": [
        "env_green = Env(color = 'g', seed = 0)\n",
        "obs_green = env_green.reset()\n",
        "\n",
        "env_red = Env(color = 'r', seed = 0)\n",
        "obs_red = env_red.reset()\n",
        "\n",
        "env_blue = Env(color = 'b', seed = 0)\n",
        "obs_blue = env_blue.reset()"
      ],
      "metadata": {
        "colab": {
          "base_uri": "https://localhost:8080/"
        },
        "id": "gTOnlfd-uGpv",
        "outputId": "32e3c037-dcb3-429e-da6d-66e6ec6db797"
      },
      "execution_count": 57,
      "outputs": [
        {
          "output_type": "stream",
          "name": "stderr",
          "text": [
            "/usr/local/lib/python3.7/dist-packages/gym/logger.py:30: UserWarning: \u001b[33mWARN: Box bound precision lowered by casting to float32\u001b[0m\n",
            "  warnings.warn(colorize('%s: %s'%('WARN', msg % args), 'yellow'))\n"
          ]
        },
        {
          "output_type": "stream",
          "name": "stdout",
          "text": [
            "Track generation: 1143..1442 -> 299-tiles track\n",
            "Track generation: 1143..1442 -> 299-tiles track\n",
            "Track generation: 1143..1442 -> 299-tiles track\n"
          ]
        }
      ]
    },
    {
      "cell_type": "code",
      "source": [
        "obs_array = []\n",
        "obs_array.extend(obs_green)\n",
        "obs_array.extend(obs_red)\n",
        "obs_array.extend(obs_blue)"
      ],
      "metadata": {
        "id": "rLF2F6an2TFC"
      },
      "execution_count": 58,
      "outputs": []
    },
    {
      "cell_type": "code",
      "source": [
        "f, axs = plt.subplots(3, 4, figsize = (8, 8))\n",
        "axs = axs.flatten()\n",
        "for img, ax in zip(obs_array, axs):\n",
        "    ax.imshow(img)\n",
        "plt.show()"
      ],
      "metadata": {
        "colab": {
          "base_uri": "https://localhost:8080/",
          "height": 455
        },
        "id": "nKWcZBmXvXZY",
        "outputId": "bdde29f7-f744-4e61-aefd-0744845d769a"
      },
      "execution_count": 59,
      "outputs": [
        {
          "output_type": "display_data",
          "data": {
            "text/plain": [
              "<Figure size 576x576 with 12 Axes>"
            ],
            "image/png": "[encoded data removed]"
          },
          "metadata": {
            "needs_background": "light"
          }
        }
      ]
    },
    {
      "cell_type": "code",
      "source": [
        "class ReverseLayerF(Function):\n",
        "\n",
        "    @staticmethod\n",
        "    def forward(ctx, x, alpha):\n",
        "        ctx.alpha = alpha\n",
        "\n",
        "        return x.view_as(x)\n",
        "\n",
        "    @staticmethod\n",
        "    def backward(ctx, grad_output):\n",
        "        output = grad_output.neg() * ctx.alpha\n",
        "\n",
        "        return output, None  \n",
        "\n",
        "class DANN(nn.Module):\n",
        "    def __init__(self):\n",
        "        super(DANN, self).__init__()\n",
        "        self.feature = nn.Sequential(  # input shape (4, 96, 96)\n",
        "            nn.Conv2d(4, 8, kernel_size=4, stride=2),\n",
        "            nn.ReLU(),\n",
        "            nn.Conv2d(8, 16, kernel_size=3, stride=2),  # (8, 47, 47)\n",
        "            nn.ReLU(),\n",
        "            nn.Conv2d(16, 32, kernel_size=3, stride=2),  # (16, 23, 23)\n",
        "            nn.ReLU(),\n",
        "            nn.Conv2d(32, 64, kernel_size=3, stride=2),  # (32, 11, 11)\n",
        "            nn.ReLU(),\n",
        "        )\n",
        "\n",
        "        self.cnn_base = nn.Sequential(\n",
        "            nn.Conv2d(64, 128, kernel_size=3, stride=1),  # (64, 5, 5)\n",
        "            nn.ReLU(),\n",
        "            nn.Conv2d(128, 256, kernel_size=3, stride=1),  # (128, 3, 3)\n",
        "            nn.ReLU(),\n",
        "        )\n",
        "\n",
        "        self.domain_classifier = nn.Sequential(\n",
        "            nn.Linear(64 * 5 * 5, 1000),\n",
        "            nn.BatchNorm1d(1000),\n",
        "            nn.ReLU(True),\n",
        "            nn.Linear(1000, 100),\n",
        "            nn.BatchNorm1d(100),\n",
        "            nn.ReLU(True),\n",
        "            nn.Linear(100, 2),\n",
        "        )\n",
        "\n",
        "        self.v = nn.Sequential(nn.Linear(256, 100), nn.ReLU(), nn.Linear(100, 1))\n",
        "        self.fc = nn.Sequential(nn.Linear(256, 100), nn.ReLU())\n",
        "        self.alpha_head = nn.Sequential(nn.Linear(100, 3), nn.Softplus())\n",
        "        self.beta_head = nn.Sequential(nn.Linear(100, 3), nn.Softplus())\n",
        "        self.apply(self._weights_init)\n",
        "      \n",
        "    def forward(self, input, a = 0.1):\n",
        "        feature = self.feature(input)\n",
        "\n",
        "        out = self.cnn_base(feature)\n",
        "        out = out.view(-1, 256)\n",
        "        v = self.v(out)\n",
        "        out = self.fc(out)\n",
        "\n",
        "        alpha = self.alpha_head(out) + 1\n",
        "        beta = self.beta_head(out) + 1\n",
        "\n",
        "        feature = feature.view(-1, 64 * 5 * 5)\n",
        "        reverse_feature = ReverseLayerF.apply(feature, a)\n",
        "        domain_output = self.domain_classifier(reverse_feature)\n",
        "\n",
        "        return (alpha, beta), v, domain_output\n",
        "\n",
        "    @staticmethod\n",
        "    def _weights_init(m):\n",
        "        if isinstance(m, nn.Conv2d):\n",
        "            nn.init.xavier_uniform_(m.weight, gain=nn.init.calculate_gain('relu'))\n",
        "            nn.init.constant_(m.bias, 0.1)\n",
        "\n",
        "  "
      ],
      "metadata": {
        "id": "0Qatrg357OC6"
      },
      "execution_count": 84,
      "outputs": []
    },
    {
      "cell_type": "code",
      "source": [
        "test_tensor = torch.rand((20, 4, 96, 96))\n",
        "test_tensor.size()\n",
        "\n",
        "dann = DANN()\n",
        "\n",
        "feature = dann.feature(test_tensor)\n",
        "\n",
        "print (\"Feature exactor output size \" + str(feature.size()))\n",
        "\n",
        "out = dann.cnn_base(feature)\n",
        "print (\"Feature exactor output size \" + str(out.size()))\n",
        "\n",
        "out = out.view(-1, 256)\n",
        "v = dann.v(out)\n",
        "print (\"v output size \" + str(v.size()))\n",
        "\n",
        "out = dann.fc(out)\n",
        "alpha = dann.alpha_head(out) + 1\n",
        "beta = dann.beta_head(out) + 1\n",
        "print (\"alpha output size \" + str(alpha.size()))\n",
        "print (\"beta output size \" + str(beta.size()))\n",
        "\n",
        "feature = feature.view(-1, 64 * 5 * 5)\n",
        "reverse_feature = ReverseLayerF.apply(feature, 0.1)\n",
        "domain_output = dann.domain_classifier(reverse_feature)\n",
        "print (\"domain_classifier output size \" + str(v.size()))\n",
        "\n",
        "\n",
        "(alpha, beta), v, domain_output = dann(test_tensor)\n",
        "print (\"alpha output size \" + str(alpha.size()))\n",
        "print (\"beta output size \" + str(beta.size()))\n",
        "print (\"v output size \" + str(v.size()))\n",
        "print (\"domain_classifier output size \" + str(v.size()))\n"
      ],
      "metadata": {
        "colab": {
          "base_uri": "https://localhost:8080/"
        },
        "id": "3bKJkTQ9Kl8P",
        "outputId": "449c0cc9-652b-40f9-de21-491067c67058"
      },
      "execution_count": 85,
      "outputs": [
        {
          "output_type": "stream",
          "name": "stdout",
          "text": [
            "Feature exactor output size torch.Size([20, 64, 5, 5])\n",
            "Feature exactor output size torch.Size([20, 256, 1, 1])\n",
            "v output size torch.Size([20, 1])\n",
            "alpha output size torch.Size([20, 3])\n",
            "beta output size torch.Size([20, 3])\n",
            "domain_classifier output size torch.Size([20, 1])\n",
            "alpha output size torch.Size([20, 3])\n",
            "beta output size torch.Size([20, 3])\n",
            "v output size torch.Size([20, 1])\n",
            "domain_classifier output size torch.Size([20, 1])\n"
          ]
        }
      ]
    },
    {
      "cell_type": "code",
      "source": [
        "class Net(nn.Module):\n",
        "    def __init__(self):\n",
        "        super(Net, self).__init__()\n",
        "        self.cnn_base = nn.Sequential(  # input shape (4, 96, 96)\n",
        "            nn.Conv2d(4, 8, kernel_size=4, stride=2),\n",
        "            nn.ReLU(),\n",
        "            nn.Conv2d(8, 16, kernel_size=3, stride=2),  # (8, 47, 47)\n",
        "            nn.ReLU(),\n",
        "            nn.Conv2d(16, 32, kernel_size=3, stride=2),  # (16, 23, 23)\n",
        "            nn.ReLU(),\n",
        "            nn.Conv2d(32, 64, kernel_size=3, stride=2),  # (32, 11, 11)\n",
        "            nn.ReLU(),\n",
        "            nn.Conv2d(64, 128, kernel_size=3, stride=1),  # (64, 5, 5)\n",
        "            nn.ReLU(),\n",
        "            nn.Conv2d(128, 256, kernel_size=3, stride=1),  # (128, 3, 3)\n",
        "            nn.ReLU(),\n",
        "        )\n",
        "\n",
        "        self.v = nn.Sequential(nn.Linear(256, 100), nn.ReLU(), nn.Linear(100, 1))\n",
        "        self.fc = nn.Sequential(nn.Linear(256, 100), nn.ReLU())\n",
        "        self.alpha_head = nn.Sequential(nn.Linear(100, 3), nn.Softplus())\n",
        "        self.beta_head = nn.Sequential(nn.Linear(100, 3), nn.Softplus())\n",
        "        self.apply(self._weights_init)\n",
        "\n",
        "    @staticmethod\n",
        "    def _weights_init(m):\n",
        "        if isinstance(m, nn.Conv2d):\n",
        "            nn.init.xavier_uniform_(m.weight, gain=nn.init.calculate_gain('relu'))\n",
        "            nn.init.constant_(m.bias, 0.1)\n",
        "\n",
        "    def forward(self, x):\n",
        "        x = self.cnn_base(x)\n",
        "        x = x.view(-1, 256)\n",
        "        v = self.v(x)\n",
        "        x = self.fc(x)\n",
        "        alpha = self.alpha_head(x) + 1\n",
        "        beta = self.beta_head(x) + 1\n",
        "\n",
        "        return (alpha, beta), v"
      ],
      "metadata": {
        "id": "zd8DmHfR2ooS"
      },
      "execution_count": 64,
      "outputs": []
    },
    {
      "cell_type": "code",
      "source": [
        "transition = np.dtype([('s', np.float64, (4, 96, 96)), ('a', np.float64, (3,)), ('a_logp', np.float64),\n",
        "                       ('r', np.float64), ('s_', np.float64, (4, 96, 96))])"
      ],
      "metadata": {
        "id": "R5EdTIe03v3V"
      },
      "execution_count": 66,
      "outputs": []
    },
    {
      "cell_type": "code",
      "source": [
        "class Agent():\n",
        "    max_grad_norm = 0.5\n",
        "    clip_param = 0.1\n",
        "    ppo_epoch = 10\n",
        "    buffer_capacity, batch_size = 2000, 128\n",
        "\n",
        "    def __init__(self):\n",
        "        self.training_step = 0\n",
        "        self.net = Net().double().to(device)\n",
        "        self.buffer = np.empty(self.buffer_capacity, dtype=transition)\n",
        "        self.counter = 0\n",
        "\n",
        "        self.optimizer = optim.Adam(self.net.parameters(), lr=1e-3)\n",
        "\n",
        "    def select_action(self, state):\n",
        "        state = torch.from_numpy(state).double().to(device).unsqueeze(0)\n",
        "        with torch.no_grad():\n",
        "            alpha, beta = self.net(state)[0]\n",
        "        dist = Beta(alpha, beta)\n",
        "        action = dist.sample()\n",
        "        a_logp = dist.log_prob(action).sum(dim=1)\n",
        "\n",
        "        action = action.squeeze().cpu().numpy()\n",
        "        a_logp = a_logp.item()\n",
        "        return action, a_logp\n",
        "\n",
        "    def save_param(self):\n",
        "        torch.save(self.net.state_dict(), 'param/ppo_net_params.pkl')\n",
        "\n",
        "    def store(self, transition):\n",
        "        self.buffer[self.counter] = transition\n",
        "        self.counter += 1\n",
        "        if self.counter == self.buffer_capacity:\n",
        "            self.counter = 0\n",
        "            return True\n",
        "        else:\n",
        "            return False\n",
        "\n",
        "    def update(self):\n",
        "        self.training_step += 1\n",
        "\n",
        "        s = torch.tensor(self.buffer['s'], dtype=torch.double).to(device)\n",
        "        a = torch.tensor(self.buffer['a'], dtype=torch.double).to(device)\n",
        "        r = torch.tensor(self.buffer['r'], dtype=torch.double).to(device).view(-1, 1)\n",
        "        s_ = torch.tensor(self.buffer['s_'], dtype=torch.double).to(device)\n",
        "\n",
        "        old_a_logp = torch.tensor(self.buffer['a_logp'], dtype=torch.double).to(device).view(-1, 1)\n",
        "\n",
        "        with torch.no_grad():\n",
        "            target_v = r + 0.99 * self.net(s_)[1]\n",
        "            adv = target_v - self.net(s)[1]\n",
        "            # adv = (adv - adv.mean()) / (adv.std() + 1e-8)\n",
        "\n",
        "        for _ in range(self.ppo_epoch):\n",
        "            for index in BatchSampler(SubsetRandomSampler(range(self.buffer_capacity)), self.batch_size, False):\n",
        "\n",
        "                alpha, beta = self.net(s[index])[0]\n",
        "                dist = Beta(alpha, beta)\n",
        "                a_logp = dist.log_prob(a[index]).sum(dim=1, keepdim=True)\n",
        "                ratio = torch.exp(a_logp - old_a_logp[index])\n",
        "\n",
        "                surr1 = ratio * adv[index]\n",
        "                surr2 = torch.clamp(ratio, 1.0 - self.clip_param, 1.0 + self.clip_param) * adv[index]\n",
        "                action_loss = -torch.min(surr1, surr2).mean()\n",
        "                value_loss = F.smooth_l1_loss(self.net(s[index])[1], target_v[index])\n",
        "                loss = action_loss + 2. * value_loss\n",
        "\n",
        "                self.optimizer.zero_grad()\n",
        "                loss.backward()\n",
        "                # nn.utils.clip_grad_norm_(self.net.parameters(), self.max_grad_norm)\n",
        "                self.optimizer.step()"
      ],
      "metadata": {
        "id": "AVP6jVNV3y5R"
      },
      "execution_count": 68,
      "outputs": []
    },
    {
      "cell_type": "code",
      "source": [
        "if __name__ == \"__main__\":\n",
        "    agent = Agent()\n",
        "    env_green = Env(color = 'g', seed = 0)\n",
        "    render = False\n",
        "\n",
        "    training_records = []\n",
        "    running_score = 0\n",
        "    state = env_green.reset()\n",
        "    for i_ep in range(100000):\n",
        "        score = 0\n",
        "        state = env_green.reset()\n",
        "\n",
        "        for t in range(1000):\n",
        "            action, a_logp = agent.select_action(state)\n",
        "            state_, reward, done, die = env_green.step(action * np.array([2., 1., 1.]) + np.array([-1., 0., 0.]))\n",
        "            if render:\n",
        "                env_green.render()\n",
        "            if agent.store((state, action, a_logp, reward, state_)):\n",
        "                agent.update()\n",
        "            score += reward\n",
        "            state = state_\n",
        "            if done or die:\n",
        "                break\n",
        "        running_score = running_score * 0.99 + score * 0.01\n",
        "\n",
        "        if i_ep % 10 == 0:\n",
        "            print('Ep {}\\tLast score: {:.2f}\\tMoving average score: {:.2f}'.format(i_ep, score, running_score))\n",
        "        if running_score > env_green.reward_threshold:\n",
        "            print(\"Solved! Running reward is now {} and the last episode runs to {}!\".format(running_score, score))\n",
        "            break"
      ],
      "metadata": {
        "colab": {
          "base_uri": "https://localhost:8080/",
          "height": 1000
        },
        "id": "LvWkGW4d4JFr",
        "outputId": "66e90fbc-4ba2-4ef4-861e-d6a8755966c6"
      },
      "execution_count": 69,
      "outputs": [
        {
          "output_type": "stream",
          "name": "stderr",
          "text": [
            "/usr/local/lib/python3.7/dist-packages/gym/logger.py:30: UserWarning: \u001b[33mWARN: Box bound precision lowered by casting to float32\u001b[0m\n",
            "  warnings.warn(colorize('%s: %s'%('WARN', msg % args), 'yellow'))\n"
          ]
        },
        {
          "output_type": "stream",
          "name": "stdout",
          "text": [
            "Track generation: 1143..1442 -> 299-tiles track\n",
            "Track generation: 1087..1369 -> 282-tiles track\n",
            "Ep 0\tLast score: -18.03\tMoving average score: -0.18\n",
            "Track generation: 964..1212 -> 248-tiles track\n",
            "retry to generate track (normal if there are not manyinstances of this message)\n",
            "Track generation: 1176..1474 -> 298-tiles track\n",
            "Track generation: 1283..1608 -> 325-tiles track\n",
            "Track generation: 1217..1526 -> 309-tiles track\n",
            "Track generation: 1096..1374 -> 278-tiles track\n",
            "Track generation: 1198..1501 -> 303-tiles track\n",
            "Track generation: 1159..1453 -> 294-tiles track\n",
            "Track generation: 957..1205 -> 248-tiles track\n",
            "Track generation: 1181..1480 -> 299-tiles track\n",
            "Track generation: 979..1234 -> 255-tiles track\n",
            "Track generation: 1320..1654 -> 334-tiles track\n",
            "Ep 10\tLast score: -27.64\tMoving average score: -1.81\n",
            "Track generation: 1067..1338 -> 271-tiles track\n",
            "Track generation: 1067..1338 -> 271-tiles track\n",
            "Track generation: 1207..1513 -> 306-tiles track\n",
            "Track generation: 1106..1396 -> 290-tiles track\n",
            "Track generation: 1296..1628 -> 332-tiles track\n",
            "retry to generate track (normal if there are not manyinstances of this message)\n",
            "Track generation: 1047..1319 -> 272-tiles track\n",
            "updating\n",
            "Track generation: 1245..1560 -> 315-tiles track\n",
            "Track generation: 1232..1544 -> 312-tiles track\n",
            "Track generation: 1120..1408 -> 288-tiles track\n",
            "Track generation: 1225..1536 -> 311-tiles track\n",
            "Track generation: 1077..1357 -> 280-tiles track\n",
            "Ep 20\tLast score: -4.16\tMoving average score: -3.09\n",
            "Track generation: 1322..1664 -> 342-tiles track\n",
            "Track generation: 1035..1297 -> 262-tiles track\n",
            "Track generation: 1297..1626 -> 329-tiles track\n",
            "Track generation: 1294..1621 -> 327-tiles track\n",
            "Track generation: 1055..1331 -> 276-tiles track\n",
            "Track generation: 1202..1507 -> 305-tiles track\n",
            "Track generation: 863..1087 -> 224-tiles track\n",
            "Track generation: 1227..1538 -> 311-tiles track\n",
            "Track generation: 1317..1652 -> 335-tiles track\n",
            "Track generation: 1115..1402 -> 287-tiles track\n",
            "updating\n",
            "Ep 30\tLast score: -4.66\tMoving average score: -4.12\n",
            "Track generation: 1168..1464 -> 296-tiles track\n",
            "Track generation: 1056..1324 -> 268-tiles track\n",
            "Track generation: 1204..1509 -> 305-tiles track\n",
            "Track generation: 1260..1579 -> 319-tiles track\n",
            "Track generation: 1100..1379 -> 279-tiles track\n",
            "Track generation: 1185..1485 -> 300-tiles track\n",
            "Track generation: 1034..1296 -> 262-tiles track\n",
            "Track generation: 1076..1352 -> 276-tiles track\n",
            "retry to generate track (normal if there are not manyinstances of this message)\n",
            "Track generation: 1132..1419 -> 287-tiles track\n",
            "Track generation: 1292..1619 -> 327-tiles track\n",
            "Track generation: 1275..1598 -> 323-tiles track\n",
            "Ep 40\tLast score: -18.08\tMoving average score: -5.02\n",
            "Track generation: 1056..1324 -> 268-tiles track\n",
            "Track generation: 1092..1377 -> 285-tiles track\n",
            "Track generation: 1127..1413 -> 286-tiles track\n",
            "Track generation: 1104..1384 -> 280-tiles track\n",
            "Track generation: 1131..1430 -> 299-tiles track\n",
            "retry to generate track (normal if there are not manyinstances of this message)\n",
            "Track generation: 1195..1498 -> 303-tiles track\n",
            "Track generation: 1155..1448 -> 293-tiles track\n",
            "Track generation: 1317..1650 -> 333-tiles track\n",
            "Track generation: 1180..1479 -> 299-tiles track\n",
            "Track generation: 1170..1467 -> 297-tiles track\n",
            "updating\n",
            "Track generation: 1022..1282 -> 260-tiles track\n",
            "Ep 50\tLast score: 9.40\tMoving average score: -5.73\n",
            "Track generation: 1230..1542 -> 312-tiles track\n",
            "Track generation: 1018..1278 -> 260-tiles track\n",
            "retry to generate track (normal if there are not manyinstances of this message)\n",
            "Track generation: 1126..1412 -> 286-tiles track\n",
            "Track generation: 1251..1568 -> 317-tiles track\n",
            "Track generation: 1202..1507 -> 305-tiles track\n",
            "Track generation: 1265..1592 -> 327-tiles track\n",
            "Track generation: 1049..1315 -> 266-tiles track\n",
            "Track generation: 1345..1685 -> 340-tiles track\n",
            "Track generation: 929..1167 -> 238-tiles track\n",
            "retry to generate track (normal if there are not manyinstances of this message)\n",
            "Track generation: 1059..1328 -> 269-tiles track\n",
            "Track generation: 981..1236 -> 255-tiles track\n",
            "Track generation: 1220..1529 -> 309-tiles track\n",
            "Ep 60\tLast score: -11.07\tMoving average score: -6.51\n",
            "Track generation: 1062..1332 -> 270-tiles track\n",
            "Track generation: 1148..1439 -> 291-tiles track\n",
            "Track generation: 983..1235 -> 252-tiles track\n",
            "retry to generate track (normal if there are not manyinstances of this message)\n",
            "Track generation: 1106..1387 -> 281-tiles track\n",
            "Track generation: 1068..1339 -> 271-tiles track\n",
            "Track generation: 1285..1611 -> 326-tiles track\n",
            "Track generation: 1224..1534 -> 310-tiles track\n",
            "Track generation: 1095..1373 -> 278-tiles track\n",
            "retry to generate track (normal if there are not manyinstances of this message)\n",
            "Track generation: 1209..1515 -> 306-tiles track\n",
            "updating\n",
            "Track generation: 1167..1463 -> 296-tiles track\n",
            "Track generation: 1215..1523 -> 308-tiles track\n",
            "Track generation: 1292..1619 -> 327-tiles track\n",
            "Ep 70\tLast score: -13.03\tMoving average score: -7.07\n",
            "Track generation: 1099..1378 -> 279-tiles track\n",
            "Track generation: 1179..1478 -> 299-tiles track\n",
            "Track generation: 1107..1388 -> 281-tiles track\n",
            "Track generation: 1209..1519 -> 310-tiles track\n",
            "retry to generate track (normal if there are not manyinstances of this message)\n",
            "Track generation: 1233..1544 -> 311-tiles track\n",
            "retry to generate track (normal if there are not manyinstances of this message)\n",
            "Track generation: 1234..1555 -> 321-tiles track\n",
            "Track generation: 1232..1553 -> 321-tiles track\n",
            "Track generation: 1214..1522 -> 308-tiles track\n",
            "Track generation: 1151..1450 -> 299-tiles track\n",
            "Track generation: 1213..1529 -> 316-tiles track\n",
            "Track generation: 1252..1569 -> 317-tiles track\n",
            "Track generation: 1040..1304 -> 264-tiles track\n",
            "Ep 80\tLast score: -17.95\tMoving average score: -7.90\n",
            "Track generation: 1128..1414 -> 286-tiles track\n",
            "Track generation: 1121..1408 -> 287-tiles track\n",
            "retry to generate track (normal if there are not manyinstances of this message)\n",
            "Track generation: 1048..1319 -> 271-tiles track\n",
            "Track generation: 1224..1534 -> 310-tiles track\n",
            "updating\n",
            "Track generation: 1140..1429 -> 289-tiles track\n",
            "Track generation: 1114..1400 -> 286-tiles track\n",
            "retry to generate track (normal if there are not manyinstances of this message)\n",
            "Track generation: 1052..1319 -> 267-tiles track\n",
            "Track generation: 1045..1313 -> 268-tiles track\n",
            "retry to generate track (normal if there are not manyinstances of this message)\n",
            "Track generation: 1131..1418 -> 287-tiles track\n",
            "Track generation: 1122..1412 -> 290-tiles track\n",
            "Track generation: 1239..1553 -> 314-tiles track\n",
            "Track generation: 1022..1283 -> 261-tiles track\n",
            "retry to generate track (normal if there are not manyinstances of this message)\n",
            "Track generation: 1123..1408 -> 285-tiles track\n",
            "Track generation: 1158..1462 -> 304-tiles track\n",
            "Ep 90\tLast score: -18.09\tMoving average score: -8.36\n",
            "Track generation: 1313..1645 -> 332-tiles track\n",
            "Track generation: 1000..1254 -> 254-tiles track\n",
            "Track generation: 1259..1578 -> 319-tiles track\n",
            "Track generation: 1316..1655 -> 339-tiles track\n",
            "Track generation: 1086..1367 -> 281-tiles track\n",
            "Track generation: 988..1238 -> 250-tiles track\n",
            "Track generation: 1072..1344 -> 272-tiles track\n",
            "Track generation: 1152..1444 -> 292-tiles track\n",
            "Track generation: 1066..1341 -> 275-tiles track\n",
            "Track generation: 1070..1341 -> 271-tiles track\n",
            "Ep 100\tLast score: 10.98\tMoving average score: -8.47\n",
            "Track generation: 1231..1543 -> 312-tiles track\n",
            "Track generation: 1168..1464 -> 296-tiles track\n",
            "updating\n",
            "Track generation: 1020..1279 -> 259-tiles track\n",
            "Track generation: 1080..1359 -> 279-tiles track\n",
            "Track generation: 1275..1598 -> 323-tiles track\n",
            "Track generation: 1099..1381 -> 282-tiles track\n",
            "retry to generate track (normal if there are not manyinstances of this message)\n",
            "Track generation: 1063..1333 -> 270-tiles track\n",
            "Track generation: 1123..1408 -> 285-tiles track\n",
            "Track generation: 1228..1539 -> 311-tiles track\n",
            "Track generation: 1151..1443 -> 292-tiles track\n",
            "Track generation: 1171..1468 -> 297-tiles track\n",
            "Ep 110\tLast score: -17.93\tMoving average score: -8.25\n",
            "Track generation: 1212..1519 -> 307-tiles track\n",
            "Track generation: 1270..1592 -> 322-tiles track\n",
            "Track generation: 1248..1564 -> 316-tiles track\n",
            "Track generation: 1096..1374 -> 278-tiles track\n",
            "Track generation: 1119..1403 -> 284-tiles track\n",
            "Track generation: 1154..1447 -> 293-tiles track\n",
            "Track generation: 1171..1468 -> 297-tiles track\n",
            "Track generation: 1139..1428 -> 289-tiles track\n",
            "Track generation: 1061..1339 -> 278-tiles track\n",
            "Track generation: 1006..1269 -> 263-tiles track\n",
            "Ep 120\tLast score: 22.94\tMoving average score: -7.56\n",
            "Track generation: 1161..1455 -> 294-tiles track\n",
            "Track generation: 1156..1448 -> 292-tiles track\n",
            "updating\n",
            "Track generation: 1207..1513 -> 306-tiles track\n",
            "Track generation: 1114..1397 -> 283-tiles track\n",
            "Track generation: 1114..1405 -> 291-tiles track\n",
            "Track generation: 1332..1669 -> 337-tiles track\n",
            "Track generation: 1019..1278 -> 259-tiles track\n",
            "Track generation: 1102..1380 -> 278-tiles track\n",
            "Track generation: 1065..1342 -> 277-tiles track\n",
            "Track generation: 1123..1410 -> 287-tiles track\n",
            "retry to generate track (normal if there are not manyinstances of this message)\n",
            "Track generation: 1204..1509 -> 305-tiles track\n",
            "Ep 130\tLast score: 11.90\tMoving average score: -7.39\n",
            "Track generation: 1199..1503 -> 304-tiles track\n",
            "Track generation: 1059..1328 -> 269-tiles track\n",
            "Track generation: 945..1191 -> 246-tiles track\n",
            "Track generation: 1224..1534 -> 310-tiles track\n",
            "Track generation: 1128..1414 -> 286-tiles track\n",
            "Track generation: 1151..1443 -> 292-tiles track\n",
            "Track generation: 1261..1581 -> 320-tiles track\n",
            "Track generation: 1064..1333 -> 269-tiles track\n",
            "Track generation: 1287..1613 -> 326-tiles track\n",
            "Track generation: 1117..1400 -> 283-tiles track\n",
            "Ep 140\tLast score: -17.92\tMoving average score: -7.42\n",
            "Track generation: 1057..1325 -> 268-tiles track\n",
            "updating\n",
            "Track generation: 1109..1396 -> 287-tiles track\n",
            "Track generation: 944..1184 -> 240-tiles track\n",
            "Track generation: 1277..1601 -> 324-tiles track\n",
            "Track generation: 1202..1514 -> 312-tiles track\n",
            "Track generation: 1132..1419 -> 287-tiles track\n",
            "Track generation: 1196..1499 -> 303-tiles track\n",
            "Track generation: 1148..1439 -> 291-tiles track\n",
            "Track generation: 1192..1494 -> 302-tiles track\n",
            "Track generation: 1139..1428 -> 289-tiles track\n",
            "Ep 150\tLast score: 12.89\tMoving average score: -7.43\n",
            "Track generation: 1212..1519 -> 307-tiles track\n",
            "Track generation: 1176..1474 -> 298-tiles track\n",
            "Track generation: 1169..1465 -> 296-tiles track\n",
            "Track generation: 964..1219 -> 255-tiles track\n",
            "Track generation: 1311..1643 -> 332-tiles track\n",
            "Track generation: 1031..1293 -> 262-tiles track\n",
            "Track generation: 1138..1427 -> 289-tiles track\n",
            "Track generation: 1053..1320 -> 267-tiles track\n",
            "Track generation: 1351..1693 -> 342-tiles track\n",
            "Track generation: 1276..1598 -> 322-tiles track\n",
            "Ep 160\tLast score: -17.91\tMoving average score: -7.50\n",
            "Track generation: 1070..1342 -> 272-tiles track\n",
            "Track generation: 1156..1449 -> 293-tiles track\n",
            "updating\n",
            "Track generation: 1146..1446 -> 300-tiles track\n",
            "Track generation: 1114..1401 -> 287-tiles track\n",
            "Track generation: 1120..1405 -> 285-tiles track\n",
            "Track generation: 1003..1266 -> 263-tiles track\n",
            "Track generation: 1138..1386 -> 248-tiles track\n",
            "retry to generate track (normal if there are not manyinstances of this message)\n",
            "Track generation: 1096..1377 -> 281-tiles track\n",
            "retry to generate track (normal if there are not manyinstances of this message)\n",
            "Track generation: 1212..1519 -> 307-tiles track\n",
            "Track generation: 1143..1433 -> 290-tiles track\n",
            "Track generation: 1139..1428 -> 289-tiles track\n",
            "Track generation: 1130..1417 -> 287-tiles track\n",
            "Ep 170\tLast score: -14.02\tMoving average score: -6.94\n",
            "Track generation: 1046..1320 -> 274-tiles track\n",
            "Track generation: 1120..1412 -> 292-tiles track\n",
            "Track generation: 1207..1522 -> 315-tiles track\n",
            "Track generation: 1058..1328 -> 270-tiles track\n",
            "retry to generate track (normal if there are not manyinstances of this message)\n",
            "Track generation: 1245..1558 -> 313-tiles track\n",
            "Track generation: 1107..1388 -> 281-tiles track\n",
            "Track generation: 1153..1445 -> 292-tiles track\n",
            "Track generation: 1116..1399 -> 283-tiles track\n",
            "Track generation: 1203..1508 -> 305-tiles track\n",
            "Track generation: 1203..1508 -> 305-tiles track\n",
            "Track generation: 1104..1384 -> 280-tiles track\n",
            "Ep 180\tLast score: -12.48\tMoving average score: -6.57\n",
            "Track generation: 1131..1418 -> 287-tiles track\n",
            "Track generation: 1100..1379 -> 279-tiles track\n",
            "updating\n",
            "Track generation: 1185..1486 -> 301-tiles track\n",
            "Track generation: 1191..1493 -> 302-tiles track\n",
            "Track generation: 1070..1345 -> 275-tiles track\n",
            "retry to generate track (normal if there are not manyinstances of this message)\n",
            "Track generation: 1248..1564 -> 316-tiles track\n",
            "Track generation: 1117..1408 -> 291-tiles track\n",
            "Track generation: 1180..1479 -> 299-tiles track\n",
            "Track generation: 955..1198 -> 243-tiles track\n",
            "Track generation: 1215..1523 -> 308-tiles track\n",
            "Track generation: 1100..1379 -> 279-tiles track\n",
            "Ep 190\tLast score: 15.43\tMoving average score: -5.96\n",
            "Track generation: 1124..1412 -> 288-tiles track\n",
            "retry to generate track (normal if there are not manyinstances of this message)\n",
            "Track generation: 1211..1519 -> 308-tiles track\n",
            "Track generation: 1248..1564 -> 316-tiles track\n",
            "Track generation: 1199..1503 -> 304-tiles track\n",
            "Track generation: 1170..1466 -> 296-tiles track\n",
            "Track generation: 1145..1444 -> 299-tiles track\n",
            "Track generation: 1247..1563 -> 316-tiles track\n",
            "Track generation: 1209..1515 -> 306-tiles track\n",
            "Track generation: 1256..1574 -> 318-tiles track\n",
            "Track generation: 1149..1440 -> 291-tiles track\n",
            "Track generation: 1227..1538 -> 311-tiles track\n",
            "Ep 200\tLast score: -17.96\tMoving average score: -5.76\n",
            "Track generation: 1105..1385 -> 280-tiles track\n",
            "Track generation: 1163..1458 -> 295-tiles track\n",
            "Track generation: 1172..1469 -> 297-tiles track\n",
            "Track generation: 1128..1414 -> 286-tiles track\n",
            "Track generation: 1638..2052 -> 414-tiles track\n",
            "Track generation: 1196..1500 -> 304-tiles track\n",
            "updating\n",
            "Track generation: 1304..1634 -> 330-tiles track\n",
            "Track generation: 1306..1637 -> 331-tiles track\n",
            "Track generation: 1083..1365 -> 282-tiles track\n",
            "Track generation: 1182..1488 -> 306-tiles track\n",
            "Ep 210\tLast score: 29.18\tMoving average score: -5.28\n",
            "Track generation: 1247..1563 -> 316-tiles track\n",
            "Track generation: 1156..1449 -> 293-tiles track\n",
            "Track generation: 1151..1443 -> 292-tiles track\n",
            "Track generation: 1072..1347 -> 275-tiles track\n",
            "retry to generate track (normal if there are not manyinstances of this message)\n",
            "Track generation: 1056..1324 -> 268-tiles track\n",
            "Track generation: 1202..1506 -> 304-tiles track\n",
            "Track generation: 1131..1418 -> 287-tiles track\n",
            "Track generation: 1139..1428 -> 289-tiles track\n",
            "Track generation: 1043..1308 -> 265-tiles track\n",
            "Track generation: 1201..1505 -> 304-tiles track\n",
            "Track generation: 1400..1754 -> 354-tiles track\n",
            "Ep 220\tLast score: -18.01\tMoving average score: -4.00\n",
            "Track generation: 1302..1631 -> 329-tiles track\n",
            "Track generation: 1119..1403 -> 284-tiles track\n",
            "Track generation: 1289..1615 -> 326-tiles track\n",
            "Track generation: 1175..1473 -> 298-tiles track\n",
            "Track generation: 1027..1290 -> 263-tiles track\n",
            "Track generation: 1043..1310 -> 267-tiles track\n",
            "retry to generate track (normal if there are not manyinstances of this message)\n",
            "Track generation: 1297..1625 -> 328-tiles track\n",
            "Track generation: 1156..1449 -> 293-tiles track\n",
            "Track generation: 1195..1498 -> 303-tiles track\n",
            "Track generation: 1102..1385 -> 283-tiles track\n",
            "retry to generate track (normal if there are not manyinstances of this message)\n",
            "Track generation: 1215..1523 -> 308-tiles track\n",
            "updating\n",
            "Track generation: 1105..1390 -> 285-tiles track\n",
            "Ep 230\tLast score: 12.73\tMoving average score: -3.08\n",
            "Track generation: 1161..1456 -> 295-tiles track\n",
            "Track generation: 1227..1538 -> 311-tiles track\n",
            "Track generation: 1030..1296 -> 266-tiles track\n",
            "Track generation: 1296..1625 -> 329-tiles track\n",
            "Track generation: 1090..1368 -> 278-tiles track\n",
            "retry to generate track (normal if there are not manyinstances of this message)\n",
            "Track generation: 1211..1517 -> 306-tiles track\n",
            "Track generation: 1108..1389 -> 281-tiles track\n",
            "Track generation: 1019..1284 -> 265-tiles track\n",
            "Track generation: 1206..1515 -> 309-tiles track\n",
            "retry to generate track (normal if there are not manyinstances of this message)\n",
            "Track generation: 1125..1414 -> 289-tiles track\n",
            "retry to generate track (normal if there are not manyinstances of this message)\n",
            "Track generation: 1175..1473 -> 298-tiles track\n",
            "Track generation: 1036..1301 -> 265-tiles track\n",
            "retry to generate track (normal if there are not manyinstances of this message)\n",
            "Track generation: 1195..1498 -> 303-tiles track\n",
            "Track generation: 1124..1409 -> 285-tiles track\n",
            "Ep 240\tLast score: -4.75\tMoving average score: -2.40\n",
            "Track generation: 1128..1412 -> 284-tiles track\n",
            "Track generation: 1167..1463 -> 296-tiles track\n",
            "Track generation: 1103..1383 -> 280-tiles track\n",
            "Track generation: 1156..1449 -> 293-tiles track\n",
            "Track generation: 1050..1317 -> 267-tiles track\n",
            "Track generation: 1003..1258 -> 255-tiles track\n",
            "Track generation: 1172..1469 -> 297-tiles track\n",
            "Track generation: 1312..1644 -> 332-tiles track\n",
            "Track generation: 1134..1421 -> 287-tiles track\n",
            "Track generation: 1020..1279 -> 259-tiles track\n",
            "Ep 250\tLast score: 17.04\tMoving average score: -2.10\n",
            "Track generation: 1037..1305 -> 268-tiles track\n",
            "Track generation: 1099..1378 -> 279-tiles track\n",
            "Track generation: 1158..1452 -> 294-tiles track\n",
            "Track generation: 1068..1344 -> 276-tiles track\n",
            "updating\n",
            "Track generation: 1176..1483 -> 307-tiles track\n",
            "Track generation: 1156..1449 -> 293-tiles track\n",
            "Track generation: 1161..1456 -> 295-tiles track\n",
            "Track generation: 1045..1317 -> 272-tiles track\n",
            "Track generation: 1349..1690 -> 341-tiles track\n",
            "Track generation: 1176..1474 -> 298-tiles track\n",
            "Ep 260\tLast score: 8.70\tMoving average score: -1.77\n",
            "Track generation: 985..1242 -> 257-tiles track\n",
            "Track generation: 1235..1548 -> 313-tiles track\n",
            "Track generation: 1220..1529 -> 309-tiles track\n",
            "Track generation: 1154..1446 -> 292-tiles track\n",
            "Track generation: 1288..1614 -> 326-tiles track\n",
            "Track generation: 1181..1480 -> 299-tiles track\n",
            "Track generation: 1141..1414 -> 273-tiles track\n",
            "Track generation: 1127..1413 -> 286-tiles track\n",
            "Track generation: 1179..1478 -> 299-tiles track\n",
            "Track generation: 1151..1443 -> 292-tiles track\n",
            "Ep 270\tLast score: -17.98\tMoving average score: -0.69\n",
            "Track generation: 963..1219 -> 256-tiles track\n",
            "Track generation: 1065..1341 -> 276-tiles track\n",
            "Track generation: 1315..1648 -> 333-tiles track\n",
            "Track generation: 1135..1423 -> 288-tiles track\n",
            "Track generation: 1090..1367 -> 277-tiles track\n",
            "Track generation: 1101..1380 -> 279-tiles track\n",
            "Track generation: 1199..1503 -> 304-tiles track\n",
            "Track generation: 1059..1330 -> 271-tiles track\n",
            "retry to generate track (normal if there are not manyinstances of this message)\n",
            "Track generation: 1136..1424 -> 288-tiles track\n",
            "Track generation: 1153..1445 -> 292-tiles track\n",
            "Track generation: 1213..1524 -> 311-tiles track\n",
            "Ep 280\tLast score: -17.91\tMoving average score: -0.13\n",
            "Track generation: 1035..1301 -> 266-tiles track\n",
            "retry to generate track (normal if there are not manyinstances of this message)\n",
            "Track generation: 1218..1526 -> 308-tiles track\n",
            "updating\n",
            "Track generation: 1099..1378 -> 279-tiles track\n",
            "Track generation: 1011..1268 -> 257-tiles track\n",
            "Track generation: 1299..1628 -> 329-tiles track\n",
            "Track generation: 1092..1369 -> 277-tiles track\n",
            "Track generation: 1134..1430 -> 296-tiles track\n",
            "Track generation: 1148..1439 -> 291-tiles track\n",
            "Track generation: 1092..1373 -> 281-tiles track\n",
            "retry to generate track (normal if there are not manyinstances of this message)\n",
            "Track generation: 1183..1483 -> 300-tiles track\n",
            "Track generation: 1192..1494 -> 302-tiles track\n",
            "Track generation: 1151..1443 -> 292-tiles track\n",
            "Ep 290\tLast score: 12.03\tMoving average score: 0.71\n",
            "Track generation: 1315..1648 -> 333-tiles track\n",
            "Track generation: 1027..1288 -> 261-tiles track\n",
            "Track generation: 1148..1439 -> 291-tiles track\n",
            "Track generation: 1076..1349 -> 273-tiles track\n",
            "Track generation: 1279..1603 -> 324-tiles track\n",
            "Track generation: 1094..1372 -> 278-tiles track\n",
            "Track generation: 914..1152 -> 238-tiles track\n",
            "retry to generate track (normal if there are not manyinstances of this message)\n",
            "Track generation: 1155..1448 -> 293-tiles track\n",
            "Track generation: 1262..1582 -> 320-tiles track\n",
            "Track generation: 1115..1398 -> 283-tiles track\n",
            "Track generation: 1065..1340 -> 275-tiles track\n",
            "Ep 300\tLast score: 31.89\tMoving average score: 1.24\n",
            "Track generation: 1148..1439 -> 291-tiles track\n",
            "Track generation: 1099..1378 -> 279-tiles track\n",
            "Track generation: 1079..1358 -> 279-tiles track\n",
            "Track generation: 1210..1525 -> 315-tiles track\n",
            "Track generation: 1305..1635 -> 330-tiles track\n",
            "Track generation: 1308..1639 -> 331-tiles track\n",
            "updating\n",
            "Track generation: 1183..1483 -> 300-tiles track\n",
            "Track generation: 1075..1348 -> 273-tiles track\n",
            "Track generation: 1159..1453 -> 294-tiles track\n",
            "Track generation: 1175..1473 -> 298-tiles track\n",
            "Ep 310\tLast score: 35.65\tMoving average score: 2.56\n",
            "Track generation: 1171..1467 -> 296-tiles track\n",
            "Track generation: 1147..1441 -> 294-tiles track\n",
            "retry to generate track (normal if there are not manyinstances of this message)\n",
            "Track generation: 1129..1416 -> 287-tiles track\n",
            "Track generation: 1063..1333 -> 270-tiles track\n",
            "Track generation: 1224..1534 -> 310-tiles track\n",
            "Track generation: 1140..1429 -> 289-tiles track\n",
            "Track generation: 1186..1487 -> 301-tiles track\n",
            "Track generation: 1128..1414 -> 286-tiles track\n",
            "Track generation: 1317..1650 -> 333-tiles track\n",
            "Track generation: 1229..1547 -> 318-tiles track\n",
            "Track generation: 1143..1433 -> 290-tiles track\n",
            "Ep 320\tLast score: -17.92\tMoving average score: 2.74\n",
            "Track generation: 1124..1409 -> 285-tiles track\n",
            "Track generation: 1268..1589 -> 321-tiles track\n",
            "Track generation: 1149..1440 -> 291-tiles track\n",
            "Track generation: 1135..1423 -> 288-tiles track\n",
            "Track generation: 1220..1529 -> 309-tiles track\n",
            "Track generation: 1182..1488 -> 306-tiles track\n",
            "Track generation: 1260..1579 -> 319-tiles track\n",
            "Track generation: 1117..1400 -> 283-tiles track\n",
            "Track generation: 1075..1354 -> 279-tiles track\n",
            "Track generation: 1259..1578 -> 319-tiles track\n",
            "Ep 330\tLast score: -18.05\tMoving average score: 2.66\n",
            "Track generation: 1092..1369 -> 277-tiles track\n",
            "Track generation: 1292..1619 -> 327-tiles track\n",
            "Track generation: 1165..1460 -> 295-tiles track\n",
            "Track generation: 1189..1490 -> 301-tiles track\n",
            "Track generation: 1279..1603 -> 324-tiles track\n",
            "Track generation: 1216..1524 -> 308-tiles track\n",
            "Track generation: 1149..1441 -> 292-tiles track\n",
            "Track generation: 1049..1316 -> 267-tiles track\n",
            "updating\n",
            "Track generation: 1143..1433 -> 290-tiles track\n",
            "Track generation: 1223..1533 -> 310-tiles track\n",
            "Ep 340\tLast score: 24.93\tMoving average score: 2.79\n",
            "Track generation: 1125..1421 -> 296-tiles track\n",
            "Track generation: 1076..1349 -> 273-tiles track\n",
            "Track generation: 1156..1449 -> 293-tiles track\n",
            "Track generation: 1121..1411 -> 290-tiles track\n",
            "Track generation: 1195..1498 -> 303-tiles track\n",
            "Track generation: 1060..1329 -> 269-tiles track\n",
            "Track generation: 1020..1286 -> 266-tiles track\n",
            "Track generation: 1281..1609 -> 328-tiles track\n",
            "retry to generate track (normal if there are not manyinstances of this message)\n",
            "Track generation: 1344..1684 -> 340-tiles track\n",
            "Track generation: 1049..1319 -> 270-tiles track\n",
            "retry to generate track (normal if there are not manyinstances of this message)\n",
            "Track generation: 1132..1419 -> 287-tiles track\n",
            "Track generation: 1232..1544 -> 312-tiles track\n",
            "Ep 350\tLast score: -18.02\tMoving average score: 4.03\n",
            "Track generation: 1120..1404 -> 284-tiles track\n",
            "Track generation: 1117..1400 -> 283-tiles track\n",
            "Track generation: 1171..1468 -> 297-tiles track\n",
            "Track generation: 1051..1321 -> 270-tiles track\n",
            "retry to generate track (normal if there are not manyinstances of this message)\n",
            "Track generation: 1133..1420 -> 287-tiles track\n",
            "Track generation: 1140..1429 -> 289-tiles track\n",
            "Track generation: 1183..1483 -> 300-tiles track\n",
            "Track generation: 1156..1449 -> 293-tiles track\n",
            "Track generation: 1166..1471 -> 305-tiles track\n",
            "Track generation: 1004..1259 -> 255-tiles track\n",
            "Track generation: 1104..1384 -> 280-tiles track\n",
            "Ep 360\tLast score: 35.47\tMoving average score: 5.06\n",
            "Track generation: 1219..1528 -> 309-tiles track\n",
            "Track generation: 1075..1348 -> 273-tiles track\n",
            "Track generation: 1137..1425 -> 288-tiles track\n",
            "Track generation: 1088..1372 -> 284-tiles track\n",
            "Track generation: 1119..1403 -> 284-tiles track\n",
            "Track generation: 1201..1505 -> 304-tiles track\n",
            "Track generation: 1140..1438 -> 298-tiles track\n",
            "Track generation: 1050..1327 -> 277-tiles track\n",
            "updating\n"
          ]
        },
        {
          "output_type": "error",
          "ename": "KeyboardInterrupt",
          "evalue": "ignored",
          "traceback": [
            "\u001b[0;31m---------------------------------------------------------------------------\u001b[0m",
            "\u001b[0;31mKeyboardInterrupt\u001b[0m                         Traceback (most recent call last)",
            "\u001b[0;32m<ipython-input-69-fbfa6ab0c51d>\u001b[0m in \u001b[0;36m<module>\u001b[0;34m()\u001b[0m\n\u001b[1;32m     18\u001b[0m             \u001b[0;32mif\u001b[0m \u001b[0magent\u001b[0m\u001b[0;34m.\u001b[0m\u001b[0mstore\u001b[0m\u001b[0;34m(\u001b[0m\u001b[0;34m(\u001b[0m\u001b[0mstate\u001b[0m\u001b[0;34m,\u001b[0m \u001b[0maction\u001b[0m\u001b[0;34m,\u001b[0m \u001b[0ma_logp\u001b[0m\u001b[0;34m,\u001b[0m \u001b[0mreward\u001b[0m\u001b[0;34m,\u001b[0m \u001b[0mstate_\u001b[0m\u001b[0;34m)\u001b[0m\u001b[0;34m)\u001b[0m\u001b[0;34m:\u001b[0m\u001b[0;34m\u001b[0m\u001b[0;34m\u001b[0m\u001b[0m\n\u001b[1;32m     19\u001b[0m                 \u001b[0mprint\u001b[0m\u001b[0;34m(\u001b[0m\u001b[0;34m'updating'\u001b[0m\u001b[0;34m)\u001b[0m\u001b[0;34m\u001b[0m\u001b[0;34m\u001b[0m\u001b[0m\n\u001b[0;32m---> 20\u001b[0;31m                 \u001b[0magent\u001b[0m\u001b[0;34m.\u001b[0m\u001b[0mupdate\u001b[0m\u001b[0;34m(\u001b[0m\u001b[0;34m)\u001b[0m\u001b[0;34m\u001b[0m\u001b[0;34m\u001b[0m\u001b[0m\n\u001b[0m\u001b[1;32m     21\u001b[0m             \u001b[0mscore\u001b[0m \u001b[0;34m+=\u001b[0m \u001b[0mreward\u001b[0m\u001b[0;34m\u001b[0m\u001b[0;34m\u001b[0m\u001b[0m\n\u001b[1;32m     22\u001b[0m             \u001b[0mstate\u001b[0m \u001b[0;34m=\u001b[0m \u001b[0mstate_\u001b[0m\u001b[0;34m\u001b[0m\u001b[0;34m\u001b[0m\u001b[0m\n",
            "\u001b[0;32m<ipython-input-68-702b3ad9dd6e>\u001b[0m in \u001b[0;36mupdate\u001b[0;34m(self)\u001b[0m\n\u001b[1;32m     70\u001b[0m \u001b[0;34m\u001b[0m\u001b[0m\n\u001b[1;32m     71\u001b[0m                 \u001b[0mself\u001b[0m\u001b[0;34m.\u001b[0m\u001b[0moptimizer\u001b[0m\u001b[0;34m.\u001b[0m\u001b[0mzero_grad\u001b[0m\u001b[0;34m(\u001b[0m\u001b[0;34m)\u001b[0m\u001b[0;34m\u001b[0m\u001b[0;34m\u001b[0m\u001b[0m\n\u001b[0;32m---> 72\u001b[0;31m                 \u001b[0mloss\u001b[0m\u001b[0;34m.\u001b[0m\u001b[0mbackward\u001b[0m\u001b[0;34m(\u001b[0m\u001b[0;34m)\u001b[0m\u001b[0;34m\u001b[0m\u001b[0;34m\u001b[0m\u001b[0m\n\u001b[0m\u001b[1;32m     73\u001b[0m                 \u001b[0;31m# nn.utils.clip_grad_norm_(self.net.parameters(), self.max_grad_norm)\u001b[0m\u001b[0;34m\u001b[0m\u001b[0;34m\u001b[0m\u001b[0;34m\u001b[0m\u001b[0m\n\u001b[1;32m     74\u001b[0m                 \u001b[0mself\u001b[0m\u001b[0;34m.\u001b[0m\u001b[0moptimizer\u001b[0m\u001b[0;34m.\u001b[0m\u001b[0mstep\u001b[0m\u001b[0;34m(\u001b[0m\u001b[0;34m)\u001b[0m\u001b[0;34m\u001b[0m\u001b[0;34m\u001b[0m\u001b[0m\n",
            "\u001b[0;32m/usr/local/lib/python3.7/dist-packages/torch/_tensor.py\u001b[0m in \u001b[0;36mbackward\u001b[0;34m(self, gradient, retain_graph, create_graph, inputs)\u001b[0m\n\u001b[1;32m    361\u001b[0m                 \u001b[0mcreate_graph\u001b[0m\u001b[0;34m=\u001b[0m\u001b[0mcreate_graph\u001b[0m\u001b[0;34m,\u001b[0m\u001b[0;34m\u001b[0m\u001b[0;34m\u001b[0m\u001b[0m\n\u001b[1;32m    362\u001b[0m                 inputs=inputs)\n\u001b[0;32m--> 363\u001b[0;31m         \u001b[0mtorch\u001b[0m\u001b[0;34m.\u001b[0m\u001b[0mautograd\u001b[0m\u001b[0;34m.\u001b[0m\u001b[0mbackward\u001b[0m\u001b[0;34m(\u001b[0m\u001b[0mself\u001b[0m\u001b[0;34m,\u001b[0m \u001b[0mgradient\u001b[0m\u001b[0;34m,\u001b[0m \u001b[0mretain_graph\u001b[0m\u001b[0;34m,\u001b[0m \u001b[0mcreate_graph\u001b[0m\u001b[0;34m,\u001b[0m \u001b[0minputs\u001b[0m\u001b[0;34m=\u001b[0m\u001b[0minputs\u001b[0m\u001b[0;34m)\u001b[0m\u001b[0;34m\u001b[0m\u001b[0;34m\u001b[0m\u001b[0m\n\u001b[0m\u001b[1;32m    364\u001b[0m \u001b[0;34m\u001b[0m\u001b[0m\n\u001b[1;32m    365\u001b[0m     \u001b[0;32mdef\u001b[0m \u001b[0mregister_hook\u001b[0m\u001b[0;34m(\u001b[0m\u001b[0mself\u001b[0m\u001b[0;34m,\u001b[0m \u001b[0mhook\u001b[0m\u001b[0;34m)\u001b[0m\u001b[0;34m:\u001b[0m\u001b[0;34m\u001b[0m\u001b[0;34m\u001b[0m\u001b[0m\n",
            "\u001b[0;32m/usr/local/lib/python3.7/dist-packages/torch/autograd/__init__.py\u001b[0m in \u001b[0;36mbackward\u001b[0;34m(tensors, grad_tensors, retain_graph, create_graph, grad_variables, inputs)\u001b[0m\n\u001b[1;32m    173\u001b[0m     Variable._execution_engine.run_backward(  # Calls into the C++ engine to run the backward pass\n\u001b[1;32m    174\u001b[0m         \u001b[0mtensors\u001b[0m\u001b[0;34m,\u001b[0m \u001b[0mgrad_tensors_\u001b[0m\u001b[0;34m,\u001b[0m \u001b[0mretain_graph\u001b[0m\u001b[0;34m,\u001b[0m \u001b[0mcreate_graph\u001b[0m\u001b[0;34m,\u001b[0m \u001b[0minputs\u001b[0m\u001b[0;34m,\u001b[0m\u001b[0;34m\u001b[0m\u001b[0;34m\u001b[0m\u001b[0m\n\u001b[0;32m--> 175\u001b[0;31m         allow_unreachable=True, accumulate_grad=True)  # Calls into the C++ engine to run the backward pass\n\u001b[0m\u001b[1;32m    176\u001b[0m \u001b[0;34m\u001b[0m\u001b[0m\n\u001b[1;32m    177\u001b[0m def grad(\n",
            "\u001b[0;31mKeyboardInterrupt\u001b[0m: "
          ]
        }
      ]
    }
  ],
  "metadata": {
    "language_info": {
      "name": "python"
    },
    "orig_nbformat": 4,
    "colab": {
      "name": "car_racing_colab.ipynb",
      "provenance": []
    },
    "kernelspec": {
      "name": "python3",
      "display_name": "Python 3"
    },
    "gpuClass": "standard"
  },
  "nbformat": 4,
  "nbformat_minor": 0
}