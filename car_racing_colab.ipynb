{
 "cells": [
  {
   "cell_type": "code",
   "execution_count": null,
   "metadata": {},
   "outputs": [],
   "source": [
    "!git clone https://github.com/bochendong/Car_racing.git"
   ]
  },
  {
   "cell_type": "code",
   "execution_count": null,
   "metadata": {},
   "outputs": [],
   "source": [
    "%%capture\n",
    "!sudo apt update && sudo apt install python-opengl\n",
    "!sudo apt update && sudo apt install xvfb\n",
    "!pip install gym-notebook-wrapper stable-baselines[mpi] box2d box2d-kengz pyvirtualdisplay pyglet\n",
    "!pip install wandb\n",
    "!pip install pyvirtualdisplay -qq\n",
    "!pip install folium==0.2.1\n",
    "!apt-get install -y xvfb python-opengl ffmpeg -qq"
   ]
  },
  {
   "cell_type": "code",
   "execution_count": null,
   "metadata": {},
   "outputs": [],
   "source": [
    "import numpy as np\n",
    "import matplotlib\n",
    "import matplotlib.pyplot as plt\n",
    "from collections import namedtuple\n",
    "from itertools import count\n",
    "from PIL import Image\n",
    "\n",
    "import torch\n",
    "import torch.nn as nn\n",
    "import torch.nn.functional as F\n",
    "import torchvision.transforms as T\n",
    "import torch.optim as optim\n",
    "\n",
    "import gnwrapper\n",
    "import gym\n",
    "from gym import logger as gymlogger\n",
    "from gym.wrappers import Monitor\n",
    "gymlogger.set_level(30)\n",
    "\n",
    "from IPython.display import HTML\n",
    "from IPython import display as ipythondisplay\n",
    "from pyvirtualdisplay import Display\n",
    "import wandb\n",
    "\n",
    "is_ipython = 'inline' in matplotlib.get_backend()\n",
    "if is_ipython:\n",
    "    from IPython import display"
   ]
  },
  {
   "cell_type": "code",
   "execution_count": null,
   "metadata": {},
   "outputs": [],
   "source": [
    "!pip install box2d"
   ]
  },
  {
   "cell_type": "code",
   "execution_count": null,
   "metadata": {},
   "outputs": [],
   "source": [
    "# Use cuda if present\n",
    "device = torch.device(\"cuda\" if torch.cuda.is_available() else \"cpu\")\n",
    "print(\"Device available for running: \")\n",
    "print(device)"
   ]
  },
  {
   "cell_type": "code",
   "execution_count": null,
   "metadata": {},
   "outputs": [],
   "source": [
    "%cd Car_racing"
   ]
  },
  {
   "cell_type": "code",
   "execution_count": null,
   "metadata": {},
   "outputs": [],
   "source": [
    "env = gnwrapper.Animation(cr.CarRacing())\n",
    "env = cr.CarRacing()\n",
    "\n",
    "obs = env.reset()"
   ]
  },
  {
   "cell_type": "code",
   "execution_count": null,
   "metadata": {},
   "outputs": [],
   "source": [
    "height = width = 42"
   ]
  },
  {
   "cell_type": "code",
   "execution_count": null,
   "metadata": {},
   "outputs": [],
   "source": [
    "obs_array = []\n",
    "discrete_actions = {0 : np.array([0,0,0]),       # do nothing\n",
    "                                 1 : np.array([-1,0,0]),      # steer sharp left\n",
    "                                 2 : np.array([1,0,0]),       # steer sharp right\n",
    "                                 3 : np.array([-0.5,0,0]),    # steer left\n",
    "                                 4 : np.array([0.5,0,0]),     # steer right\n",
    "                                 5 : np.array([0,1,0]),       # accelerate 100%\n",
    "                                 6 : np.array([0,0.5,0]),     # accelerate 50%\n",
    "                                 7 : np.array([0,0.25,0]),    # accelerate 25%\n",
    "                                 8 : np.array([0,0,1]),       # brake 100%\n",
    "                                 9 : np.array([0,0,0.5]),     # brake 50%\n",
    "                                 10 : np.array([0,0,0.25])}   # brake 25%\n",
    "\n",
    "n_actions = len(discrete_actions)\n",
    "for i in range (0, 40):\n",
    "    action = torch.randint(low=0, high=11, size=(1,))\n",
    "    action_transfered = discrete_actions.get(int(action[0]))\n",
    "\n",
    "    obs, reward, done, _ = env.step([action_transfered[0], action_transfered[1], action_transfered[2]])\n",
    "    if (i % 4 == 0):\n",
    "        obs_array.append(obs)"
   ]
  },
  {
   "cell_type": "code",
   "execution_count": null,
   "metadata": {},
   "outputs": [],
   "source": []
  }
 ],
 "metadata": {
  "language_info": {
   "name": "python"
  },
  "orig_nbformat": 4
 },
 "nbformat": 4,
 "nbformat_minor": 2
}
