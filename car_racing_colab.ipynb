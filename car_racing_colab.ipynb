{
  "cells": [
    {
      "cell_type": "markdown",
      "source": [
        "# Colab env settings"
      ],
      "metadata": {
        "id": "hpANlTAssfdF"
      }
    },
    {
      "cell_type": "code",
      "source": [
        "!git clone https://github.com/bochendong/car_racing.git"
      ],
      "metadata": {
        "colab": {
          "base_uri": "https://localhost:8080/"
        },
        "id": "UfHgya4Jsdas",
        "outputId": "b0fa8657-fa22-4fdb-cba2-e088876c87c2"
      },
      "execution_count": 1,
      "outputs": [
        {
          "output_type": "stream",
          "name": "stdout",
          "text": [
            "fatal: destination path 'car_racing' already exists and is not an empty directory.\n"
          ]
        }
      ]
    },
    {
      "cell_type": "code",
      "execution_count": 2,
      "metadata": {
        "id": "yX7L7IlDnyvU"
      },
      "outputs": [],
      "source": [
        "%%capture\n",
        "!sudo apt update && sudo apt install python-opengl\n",
        "!sudo apt update && sudo apt install xvfb\n",
        "!pip install gym-notebook-wrapper stable-baselines[mpi] box2d box2d-kengz pyvirtualdisplay pyglet\n",
        "!pip install wandb\n",
        "!pip install pyvirtualdisplay -qq\n",
        "!pip install folium==0.2.1\n",
        "!apt-get install -y xvfb python-opengl ffmpeg -qq"
      ]
    },
    {
      "cell_type": "code",
      "execution_count": 3,
      "metadata": {
        "id": "zUgm5ewmnyvV"
      },
      "outputs": [],
      "source": [
        "import numpy as np\n",
        "\n",
        "from PIL import Image\n",
        "import matplotlib\n",
        "import matplotlib.pyplot as plt\n",
        "from collections import namedtuple\n",
        "from itertools import count\n",
        "\n",
        "import torch\n",
        "import torch.nn as nn\n",
        "import torch.nn.functional as F\n",
        "import torchvision.transforms as T\n",
        "import torch.optim as optim\n",
        "from torch.distributions import Beta\n",
        "from torch.utils.data.sampler import BatchSampler, SubsetRandomSampler\n",
        "\n",
        "from torch.autograd import Function\n",
        "\n",
        "import gnwrapper\n",
        "import gym\n",
        "from gym import logger as gymlogger\n",
        "from gym.wrappers import Monitor\n",
        "gymlogger.set_level(30)\n",
        "\n",
        "from IPython.display import HTML\n",
        "from IPython import display as ipythondisplay\n",
        "from pyvirtualdisplay import Display\n",
        "import wandb\n",
        "\n",
        "is_ipython = 'inline' in matplotlib.get_backend()\n",
        "if is_ipython:\n",
        "    from IPython import display"
      ]
    },
    {
      "cell_type": "code",
      "execution_count": 4,
      "metadata": {
        "colab": {
          "base_uri": "https://localhost:8080/"
        },
        "id": "-x-zGeDRnyvX",
        "outputId": "3663f5b2-f59f-4175-ddbe-fb9dbd2d538f"
      },
      "outputs": [
        {
          "output_type": "stream",
          "name": "stdout",
          "text": [
            "Looking in indexes: https://pypi.org/simple, https://us-python.pkg.dev/colab-wheels/public/simple/\n",
            "Requirement already satisfied: box2d in /usr/local/lib/python3.7/dist-packages (2.3.10)\n"
          ]
        }
      ],
      "source": [
        "!pip install box2d"
      ]
    },
    {
      "cell_type": "code",
      "execution_count": 5,
      "metadata": {
        "colab": {
          "base_uri": "https://localhost:8080/"
        },
        "id": "wAbUZ5PBnyvY",
        "outputId": "dadcf9dd-dd10-455c-aee1-a3d58161fb36"
      },
      "outputs": [
        {
          "output_type": "stream",
          "name": "stdout",
          "text": [
            "Device available for running: \n",
            "cuda\n"
          ]
        }
      ],
      "source": [
        "# Use cuda if present\n",
        "device = torch.device(\"cuda\" if torch.cuda.is_available() else \"cpu\")\n",
        "print(\"Device available for running: \")\n",
        "print(device)"
      ]
    },
    {
      "cell_type": "code",
      "execution_count": 6,
      "metadata": {
        "colab": {
          "base_uri": "https://localhost:8080/"
        },
        "id": "3ijK2eBYnyvZ",
        "outputId": "f88b8b76-7995-4a85-d4c6-a0e8dc35bc69"
      },
      "outputs": [
        {
          "output_type": "stream",
          "name": "stdout",
          "text": [
            "/content/car_racing\n"
          ]
        }
      ],
      "source": [
        "%cd car_racing"
      ]
    },
    {
      "cell_type": "code",
      "source": [
        "import car_racing as cr\n",
        "import replay_memory as rm"
      ],
      "metadata": {
        "id": "6ia5ibGfqWfZ"
      },
      "execution_count": 7,
      "outputs": []
    },
    {
      "cell_type": "markdown",
      "source": [
        "# Carracing Enviorment settings"
      ],
      "metadata": {
        "id": "nu12ch3KssCE"
      }
    },
    {
      "cell_type": "code",
      "source": [
        "use_cuda = torch.cuda.is_available()\n",
        "device = torch.device(\"cuda\" if use_cuda else \"cpu\")"
      ],
      "metadata": {
        "id": "0bSmOb2d6qPq"
      },
      "execution_count": 8,
      "outputs": []
    },
    {
      "cell_type": "code",
      "execution_count": 9,
      "metadata": {
        "colab": {
          "base_uri": "https://localhost:8080/"
        },
        "id": "HBhiAnYKnyvZ",
        "outputId": "fd003074-cc8f-4483-bf90-86529b9ab4f7"
      },
      "outputs": [
        {
          "output_type": "stream",
          "name": "stdout",
          "text": [
            "retry to generate track (normal if there are not manyinstances of this message)\n"
          ]
        },
        {
          "output_type": "stream",
          "name": "stderr",
          "text": [
            "/usr/local/lib/python3.7/dist-packages/gym/logger.py:30: UserWarning: \u001b[33mWARN: Box bound precision lowered by casting to float32\u001b[0m\n",
            "  warnings.warn(colorize('%s: %s'%('WARN', msg % args), 'yellow'))\n",
            "/usr/local/lib/python3.7/dist-packages/gym/logger.py:30: UserWarning: \u001b[33mWARN: Box bound precision lowered by casting to float32\u001b[0m\n",
            "  warnings.warn(colorize('%s: %s'%('WARN', msg % args), 'yellow'))\n"
          ]
        },
        {
          "output_type": "stream",
          "name": "stdout",
          "text": [
            "(96, 96, 3)\n"
          ]
        }
      ],
      "source": [
        "env_green = gnwrapper.Animation(cr.CarRacing())\n",
        "env_green = cr.CarRacing(color = 'g')\n",
        "obs = env_green.reset()\n",
        "print(obs.shape)"
      ]
    },
    {
      "cell_type": "code",
      "source": [
        "env_red= gnwrapper.Animation(cr.CarRacing(color = 'r'))\n",
        "env_red = cr.CarRacing(color = 'r')\n",
        "obs = env_red.reset()"
      ],
      "metadata": {
        "colab": {
          "base_uri": "https://localhost:8080/"
        },
        "id": "U8sAj_hEq2aW",
        "outputId": "a3d72f0b-1a75-478d-c927-c1c87c22ec33"
      },
      "execution_count": 10,
      "outputs": [
        {
          "output_type": "stream",
          "name": "stderr",
          "text": [
            "/usr/local/lib/python3.7/dist-packages/gym/logger.py:30: UserWarning: \u001b[33mWARN: Box bound precision lowered by casting to float32\u001b[0m\n",
            "  warnings.warn(colorize('%s: %s'%('WARN', msg % args), 'yellow'))\n"
          ]
        }
      ]
    },
    {
      "cell_type": "code",
      "source": [
        "env_blue = gnwrapper.Animation(cr.CarRacing(color = 'b'))\n",
        "env_blue = cr.CarRacing(color = 'b')\n",
        "obs = env_blue.reset()"
      ],
      "metadata": {
        "colab": {
          "base_uri": "https://localhost:8080/"
        },
        "id": "rWhhOvPjsOHd",
        "outputId": "a636859c-c358-4f65-81b4-33121316586e"
      },
      "execution_count": 11,
      "outputs": [
        {
          "output_type": "stream",
          "name": "stderr",
          "text": [
            "/usr/local/lib/python3.7/dist-packages/gym/logger.py:30: UserWarning: \u001b[33mWARN: Box bound precision lowered by casting to float32\u001b[0m\n",
            "  warnings.warn(colorize('%s: %s'%('WARN', msg % args), 'yellow'))\n"
          ]
        }
      ]
    },
    {
      "cell_type": "code",
      "source": [
        "env_yellow = gnwrapper.Animation(cr.CarRacing(color = 'y'))\n",
        "env_yellow = cr.CarRacing(color = 'y')\n",
        "obs = env_yellow.reset()"
      ],
      "metadata": {
        "colab": {
          "base_uri": "https://localhost:8080/"
        },
        "id": "mnTjQW-dchbE",
        "outputId": "56b83494-ba27-4f28-9f06-ecba83aa1714"
      },
      "execution_count": 12,
      "outputs": [
        {
          "output_type": "stream",
          "name": "stderr",
          "text": [
            "/usr/local/lib/python3.7/dist-packages/gym/logger.py:30: UserWarning: \u001b[33mWARN: Box bound precision lowered by casting to float32\u001b[0m\n",
            "  warnings.warn(colorize('%s: %s'%('WARN', msg % args), 'yellow'))\n"
          ]
        }
      ]
    },
    {
      "cell_type": "code",
      "source": [
        "env_gray = gnwrapper.Animation(cr.CarRacing(color = 'gr'))\n",
        "env_gray = cr.CarRacing(color = 'gr')\n",
        "obs = env_gray.reset()"
      ],
      "metadata": {
        "colab": {
          "base_uri": "https://localhost:8080/"
        },
        "id": "NWuc9OjAcnBo",
        "outputId": "7e9602f9-cb45-41f3-a5f9-8b6c2dad3dc6"
      },
      "execution_count": 13,
      "outputs": [
        {
          "output_type": "stream",
          "name": "stderr",
          "text": [
            "/usr/local/lib/python3.7/dist-packages/gym/logger.py:30: UserWarning: \u001b[33mWARN: Box bound precision lowered by casting to float32\u001b[0m\n",
            "  warnings.warn(colorize('%s: %s'%('WARN', msg % args), 'yellow'))\n"
          ]
        },
        {
          "output_type": "stream",
          "name": "stdout",
          "text": [
            "retry to generate track (normal if there are not manyinstances of this message)\n"
          ]
        }
      ]
    },
    {
      "cell_type": "code",
      "execution_count": 14,
      "metadata": {
        "id": "BiivK79Vnyvc"
      },
      "outputs": [],
      "source": [
        "discrete_actions = {0 : np.array([0,0,0]),       # do nothing\n",
        "                                 1 : np.array([-1,0,0]),      # steer sharp left\n",
        "                                 2 : np.array([1,0,0]),       # steer sharp right\n",
        "                                 3 : np.array([-0.5,0,0]),    # steer left\n",
        "                                 4 : np.array([0.5,0,0]),     # steer right\n",
        "                                 5 : np.array([0,1,0]),       # accelerate 100%\n",
        "                                 6 : np.array([0,0.5,0]),     # accelerate 50%\n",
        "                                 7 : np.array([0,0.25,0]),    # accelerate 25%\n",
        "                                 8 : np.array([0,0,1]),       # brake 100%\n",
        "                                 9 : np.array([0,0,0.5]),     # brake 50%\n",
        "                                 10 : np.array([0,0,0.25])}   # brake 25%\n",
        "\n",
        "def get_obs(env):\n",
        "    n_actions = len(discrete_actions)\n",
        "    for i in range (0, 40):\n",
        "        action = torch.randint(low=0, high=11, size=(1,))\n",
        "        action_transfered = discrete_actions.get(int(action[0]))\n",
        "\n",
        "        obs, reward, done, _ = env.step([action_transfered[0], action_transfered[1], action_transfered[2]])\n",
        "\n",
        "    return obs"
      ]
    },
    {
      "cell_type": "code",
      "execution_count": 15,
      "metadata": {
        "colab": {
          "base_uri": "https://localhost:8080/",
          "height": 167
        },
        "id": "dqF3wdU8nyve",
        "outputId": "c8eb2938-8bc7-473a-8df5-336957dea2f9"
      },
      "outputs": [
        {
          "output_type": "display_data",
          "data": {
            "text/plain": [
              "<Figure size 864x288 with 5 Axes>"
            ],
            "image/png": "[encoded data removed]"
          },
          "metadata": {
            "needs_background": "light"
          }
        }
      ],
      "source": [
        "f, axs = plt.subplots(1, 5, figsize = (12, 4))\n",
        "\n",
        "axs = axs.flatten()\n",
        "\n",
        "env_preview = []\n",
        "env_preview.append(get_obs(env_green))\n",
        "env_preview.append(get_obs(env_blue))\n",
        "env_preview.append(get_obs(env_gray))\n",
        "env_preview.append(get_obs(env_yellow))\n",
        "env_preview.append(get_obs(env_red))\n",
        "\n",
        "for img, ax in zip(env_preview, axs):\n",
        "    ax.imshow(img)\n",
        "plt.show()"
      ]
    },
    {
      "cell_type": "code",
      "source": [
        "def add_block(obs):\n",
        "    for i in range(80, 90):\n",
        "        for j in range(36, 42):\n",
        "            obs[j][i][0] = 255\n",
        "    return obs\n",
        "\n",
        "green_block = add_block(env_preview[0])\n",
        "\n",
        "plt.imshow(green_block)"
      ],
      "metadata": {
        "id": "tHdiaCnRjzLn",
        "outputId": "01004e00-dd7b-40dc-8e85-3d0edcff9c2e",
        "colab": {
          "base_uri": "https://localhost:8080/",
          "height": 286
        }
      },
      "execution_count": 16,
      "outputs": [
        {
          "output_type": "execute_result",
          "data": {
            "text/plain": [
              "<matplotlib.image.AxesImage at 0x7fed75f81f50>"
            ]
          },
          "metadata": {},
          "execution_count": 16
        },
        {
          "output_type": "display_data",
          "data": {
            "text/plain": [
              "<Figure size 432x288 with 1 Axes>"
            ],
            "image/png": "[encoded data removed]"
          },
          "metadata": {
            "needs_background": "light"
          }
        }
      ]
    },
    {
      "cell_type": "markdown",
      "source": [
        "# PPO Models"
      ],
      "metadata": {
        "id": "4n0GPeGzs1kf"
      }
    },
    {
      "cell_type": "code",
      "source": [
        "class Env():\n",
        "    def __init__(self, color, seed = 0):\n",
        "        self.env = gnwrapper.Animation(cr.CarRacing(color = color))\n",
        "        self.env = cr.CarRacing(color = color)\n",
        "        self.color = color\n",
        "        self.env.seed(seed)\n",
        "        self.reward_threshold = 1000\n",
        "\n",
        "    def reset(self):\n",
        "        self.counter = 0\n",
        "        self.av_r = self.reward_memory()\n",
        "\n",
        "        self.die = False\n",
        "        img_rgb = self.env.reset()\n",
        "        img_rgb = img_rgb / 128. - 1\n",
        "        self.stack = [img_rgb] * 4\n",
        "        return np.array(self.stack)\n",
        "\n",
        "    def step(self, action):\n",
        "        total_reward = 0\n",
        "        for i in range(8):\n",
        "            img_rgb, reward, die, _ = self.env.step(action)\n",
        "\n",
        "            if die: reward += 100\n",
        "\n",
        "            if self.color == 'g' and np.mean(img_rgb[:, :, 1]) > 185.0:\n",
        "                  reward -= 0.05\n",
        "\n",
        "            total_reward += reward\n",
        "\n",
        "            done = True if self.av_r(reward) <= -0.1 else False\n",
        "            if done or die:\n",
        "                break\n",
        "\n",
        "        img_rgb = img_rgb / 128. - 1\n",
        "        self.stack.pop(0)\n",
        "        self.stack.append(img_rgb)\n",
        "        assert len(self.stack) == 4\n",
        "        return np.array(self.stack), total_reward, done, die\n",
        "\n",
        "    def step_eval(self, action):\n",
        "        img_rgb, reward, done, _ = self.env.step(action)\n",
        "\n",
        "        img_rgb = img_rgb / 128. - 1\n",
        "        self.stack.pop(0)\n",
        "        self.stack.append(img_rgb)\n",
        "        return np.array(self.stack), reward, done, _\n",
        "\n",
        "    def render(self, *arg):\n",
        "        self.env.render(*arg)\n",
        "\n",
        "    @staticmethod\n",
        "    def reward_memory():\n",
        "        count = 0\n",
        "        length = 100\n",
        "        history = np.zeros(length)\n",
        "\n",
        "        def memory(reward):\n",
        "            nonlocal count\n",
        "            history[count] = reward\n",
        "            count = (count + 1) % length\n",
        "            return np.mean(history)\n",
        "\n",
        "        return memory"
      ],
      "metadata": {
        "id": "kuIh8kXuszw6"
      },
      "execution_count": 17,
      "outputs": []
    },
    {
      "cell_type": "code",
      "source": [
        "class ReverseLayerF(Function):\n",
        "    @staticmethod\n",
        "    def forward(ctx, x, alpha):\n",
        "        ctx.alpha = alpha\n",
        "\n",
        "        return x.view_as(x)\n",
        "\n",
        "    @staticmethod\n",
        "    def backward(ctx, grad_output):\n",
        "        output = grad_output.neg() * ctx.alpha\n",
        "\n",
        "        return output, None  \n",
        "\n",
        "class DANN(nn.Module):\n",
        "    def __init__(self, num_out):\n",
        "        super(DANN, self).__init__()\n",
        "        self.sketch = nn.Sequential(\n",
        "            nn.Conv3d(4, 4, kernel_size=(1, 1, 3), stride=1),\n",
        "            nn.ReLU(),\n",
        "        )\n",
        "        self.feature = nn.Sequential(  # input shape (4, 96, 96)\n",
        "            nn.Conv2d(4, 8, kernel_size=4, stride=2),\n",
        "            nn.ReLU(),\n",
        "            nn.Conv2d(8, 16, kernel_size=3, stride=2),  # (8, 47, 47)\n",
        "            nn.ReLU(),\n",
        "            nn.Conv2d(16, 32, kernel_size=3, stride=2),  # (16, 23, 23)\n",
        "            nn.ReLU(),\n",
        "            nn.Conv2d(32, 64, kernel_size=3, stride=2),  # (32, 11, 11)\n",
        "            nn.ReLU(),\n",
        "        )\n",
        "\n",
        "        self.cnn_base = nn.Sequential(\n",
        "            nn.Conv2d(64, 128, kernel_size=3, stride=1),  # (64, 5, 5)\n",
        "            nn.ReLU(),\n",
        "            nn.Conv2d(128, 256, kernel_size=3, stride=1),  # (128, 3, 3)\n",
        "            nn.ReLU(),\n",
        "        )\n",
        "\n",
        "        self.domain_classifier = nn.Sequential(\n",
        "            nn.Linear(64 * 5 * 5, 1000),\n",
        "            nn.BatchNorm1d(1000),\n",
        "            nn.ReLU(True),\n",
        "            nn.Linear(1000, 100),\n",
        "            nn.BatchNorm1d(100),\n",
        "            nn.ReLU(True),\n",
        "            nn.Linear(100, num_out),\n",
        "        )\n",
        "\n",
        "        self.v = nn.Sequential(nn.Linear(256, 100), nn.ReLU(), nn.Linear(100, 1))\n",
        "        self.fc = nn.Sequential(nn.Linear(256, 100), nn.ReLU())\n",
        "        self.alpha_head = nn.Sequential(nn.Linear(100, 3), nn.Softplus())\n",
        "        self.beta_head = nn.Sequential(nn.Linear(100, 3), nn.Softplus())\n",
        "        self.apply(self._weights_init)\n",
        "      \n",
        "    def forward(self, input, a = 0.1):\n",
        "        sketch = self.sketch(input)\n",
        "        sketch = torch.squeeze(sketch)\n",
        "\n",
        "        feature = self.feature(sketch)\n",
        "\n",
        "        out = self.cnn_base(feature)\n",
        "        out = out.view(-1, 256)\n",
        "        v = self.v(out)\n",
        "        out = self.fc(out)\n",
        "\n",
        "        alpha = self.alpha_head(out) + 1\n",
        "        beta = self.beta_head(out) + 1\n",
        "\n",
        "        feature = feature.view(-1, 64 * 5 * 5)\n",
        "        reverse_feature = ReverseLayerF.apply(feature, a)\n",
        "        domain_output = self.domain_classifier(reverse_feature)\n",
        "\n",
        "        return (alpha, beta), v, domain_output\n",
        "\n",
        "    @staticmethod\n",
        "    def _weights_init(m):\n",
        "        if isinstance(m, nn.Conv2d):\n",
        "            nn.init.xavier_uniform_(m.weight, gain=nn.init.calculate_gain('relu'))\n",
        "            nn.init.constant_(m.bias, 0.1)"
      ],
      "metadata": {
        "id": "0Qatrg357OC6"
      },
      "execution_count": 18,
      "outputs": []
    },
    {
      "cell_type": "code",
      "source": [
        "class Agent():\n",
        "    max_grad_norm = 0.5\n",
        "    clip_param = 0.1\n",
        "    ppo_epoch = 10\n",
        "\n",
        "    transition = np.dtype([('s', np.float64, (4, 96, 96, 3)), ('a', np.float64, (3,)), ('a_logp', np.float64),\n",
        "                       ('r', np.float64), ('s_', np.float64, (4, 96, 96, 3))])\n",
        "    target_transition_2 =  np.dtype([('0', np.float64, (4, 96, 96, 3)), ('1', np.float64, (4, 96, 96, 3))])\n",
        "    target_transition_3 =  np.dtype([('0', np.float64, (4, 96, 96, 3)), ('1', np.float64, (4, 96, 96, 3)), ('2', np.float64, (4, 96, 96, 3))])\n",
        "\n",
        "    def __init__(self, num_target = 3, buffer_capacity = 2000, batch_size = 128):\n",
        "        self.training_step = 0\n",
        "        self.buffer_capacity = buffer_capacity\n",
        "        self.num_target = num_target\n",
        "        self.batch_size = batch_size\n",
        "        self.criterion = nn.CrossEntropyLoss().to(device)\n",
        "\n",
        "        self.net = DANN(num_out = num_target + 1).double().to(device)\n",
        "        self.optimizer = optim.Adam(self.net.parameters(), lr=1e-3)\n",
        "\n",
        "        self.source_buffer = np.empty(self.buffer_capacity, dtype=self.transition)\n",
        "        if (num_target == 2):\n",
        "            self.target_buffer = np.empty(self.buffer_capacity, dtype=self.target_transition_2)\n",
        "        elif (num_target == 3):\n",
        "            self.target_buffer = np.empty(self.buffer_capacity, dtype=self.target_transition_3)\n",
        "\n",
        "        self.counter = 0\n",
        "\n",
        "    def select_action(self, state):\n",
        "        state = torch.from_numpy(state).double().to(device).unsqueeze(0)\n",
        "        with torch.no_grad():\n",
        "            out = self.net.sketch(state)\n",
        "            out = torch.squeeze(out)\n",
        "            out = self.net.feature(out)\n",
        "\n",
        "            out = self.net.cnn_base(out)\n",
        "            out = out.view(-1, 256)\n",
        "            out = self.net.fc(out)\n",
        "            alpha = self.net.alpha_head(out) + 1\n",
        "            beta = self.net.beta_head(out) + 1\n",
        "\n",
        "        dist = Beta(alpha, beta)\n",
        "        action = dist.sample()\n",
        "        a_logp = dist.log_prob(action).sum(dim=1)\n",
        "\n",
        "        action = action.squeeze().cpu().numpy()\n",
        "        a_logp = a_logp.item()\n",
        "        return action, a_logp\n",
        "\n",
        "    def store(self, transition, target_transition):\n",
        "        self.source_buffer[self.counter] = transition\n",
        "        self.target_buffer[self.counter] = target_transition\n",
        "        self.counter += 1\n",
        "        if self.counter == self.buffer_capacity:\n",
        "            self.counter = 0\n",
        "            return True\n",
        "\n",
        "        return False\n",
        "\n",
        "    def update(self):\n",
        "        self.training_step += 1\n",
        "\n",
        "        s = torch.tensor(self.source_buffer['s'], dtype=torch.double).to(device)\n",
        "        a = torch.tensor(self.source_buffer['a'], dtype=torch.double).to(device)\n",
        "        r = torch.tensor(self.source_buffer['r'], dtype=torch.double).to(device).view(-1, 1)\n",
        "        s_ = torch.tensor(self.source_buffer['s_'], dtype=torch.double).to(device)\n",
        "        old_a_logp = torch.tensor(self.source_buffer['a_logp'], dtype=torch.double).to(device).view(-1, 1)\n",
        "\n",
        "        domain_labels = {}\n",
        "        target_data = {}\n",
        "\n",
        "        for i in range(self.num_target + 1):\n",
        "            domain_label = torch.full([self.batch_size], i).long()\n",
        "            domain_label = domain_label.to(device)\n",
        "            domain_labels[i] = domain_label\n",
        "\n",
        "        for i in range(self.num_target):\n",
        "            target_data[i] = torch.tensor(self.target_buffer[str(i)], dtype=torch.double).to(device)\n",
        "\n",
        "        with torch.no_grad():\n",
        "            target_v = r + 0.99 * self.net(s_)[1]\n",
        "            adv = target_v - self.net(s)[1]\n",
        "\n",
        "        for _ in range(self.ppo_epoch):\n",
        "            correct = []\n",
        "            for i in range(self.num_target + 1):\n",
        "                correct.append(0)\n",
        "            total = 0\n",
        "            for index in BatchSampler(SubsetRandomSampler(range(self.buffer_capacity)), self.batch_size, True):\n",
        "                total += self.batch_size\n",
        "                loss = 0\n",
        "\n",
        "                for i in range (self.num_target + 1):\n",
        "                    if (i == 0):\n",
        "                        (alpha, beta), v, domain_out = self.net(s[index])\n",
        "                    else:\n",
        "                        _, _, domain_out = self.net(target_data[i - 1][index])\n",
        "\n",
        "                    domain_loss = self.criterion(domain_out, domain_labels[i])\n",
        "                    loss += domain_loss\n",
        "\n",
        "                    _, predicted = torch.max(domain_out.data, 1)\n",
        "                    correct[i] += predicted.eq(domain_labels[i].data).cpu().sum().item()\n",
        "\n",
        "\n",
        "                dist = Beta(alpha, beta)\n",
        "                a_logp = dist.log_prob(a[index]).sum(dim=1, keepdim=True)\n",
        "                ratio = torch.exp(a_logp - old_a_logp[index])\n",
        "                surr1 = ratio * adv[index]\n",
        "                surr2 = torch.clamp(ratio, 1.0 - self.clip_param, 1.0 + self.clip_param) * adv[index]\n",
        "                action_loss = -torch.min(surr1, surr2).mean()\n",
        "                value_loss = F.smooth_l1_loss(self.net(s[index])[1], target_v[index])\n",
        "\n",
        "                loss += action_loss + 2. * value_loss\n",
        "                self.optimizer.zero_grad()\n",
        "                loss.backward()\n",
        "                self.optimizer.step()\n",
        "\n",
        "            for i in range(self.num_target + 1):\n",
        "              print(\"[Domain %d, Acc: %.2f]\" % (i, correct[i]/ total), end = ' ')\n",
        "            print(\"\")"
      ],
      "metadata": {
        "id": "AVP6jVNV3y5R"
      },
      "execution_count": 19,
      "outputs": []
    },
    {
      "cell_type": "markdown",
      "source": [
        "# Training"
      ],
      "metadata": {
        "id": "mR64oV7bfdKE"
      }
    },
    {
      "cell_type": "code",
      "source": [
        "env_green = Env(color = 'g', seed = 0)\n",
        "env_red = Env(color = 'r', seed = 0)\n",
        "env_yellow = Env(color = 'y', seed = 0)\n",
        "env_blue= Env(color = 'b', seed = 0)\n",
        "\n",
        "num_target = 3\n",
        "source_env = env_green\n",
        "target_envs = [env_red, env_yellow, env_blue]\n",
        "\n",
        "running_scores = [0, 0, 0, 0]\n",
        "\n",
        "agent = Agent()"
      ],
      "metadata": {
        "id": "_NJ5oeTvfkRH",
        "outputId": "24d84f5f-ee28-4583-c81a-478985480cb3",
        "colab": {
          "base_uri": "https://localhost:8080/"
        }
      },
      "execution_count": 20,
      "outputs": [
        {
          "output_type": "stream",
          "name": "stderr",
          "text": [
            "/usr/local/lib/python3.7/dist-packages/gym/logger.py:30: UserWarning: \u001b[33mWARN: Box bound precision lowered by casting to float32\u001b[0m\n",
            "  warnings.warn(colorize('%s: %s'%('WARN', msg % args), 'yellow'))\n"
          ]
        }
      ]
    },
    {
      "cell_type": "code",
      "source": [
        "training_records = []\n",
        "for i_ep in range(1800):\n",
        "    scores = [0]\n",
        "    source_state = source_env.reset()\n",
        "    target_states = []\n",
        "\n",
        "    for env in target_envs:\n",
        "        scores.append(0)\n",
        "        target_states.append(env.reset())\n",
        "\n",
        "    for t in range(1000):\n",
        "        # Source\n",
        "        source_action, source_a_logp = agent.select_action(source_state)\n",
        "        source_state_, source_reward, done, die = source_env.step(source_action * np.array([2., 1., 1.]) + np.array([-1., 0., 0.]))\n",
        "        scores[0] += source_reward\n",
        "\n",
        "        # Target\n",
        "        target_actions = []\n",
        "        for i, state in enumerate(target_states):\n",
        "            target_action, _ = agent.select_action(state)\n",
        "            target_actions.append(target_action)\n",
        "\n",
        "        target_states_ = []\n",
        "        for i, action in enumerate(target_actions):\n",
        "            target_state_, target_reward, target_done, target_die = target_envs[i].step(action * np.array([2., 1., 1.]) + np.array([-1., 0., 0.]))\n",
        "            target_states_.append(target_state_)\n",
        "            scores[i + 1] += target_reward\n",
        "\n",
        "            done = done or target_done\n",
        "            die = die or target_die\n",
        "\n",
        "        # Update\n",
        "        should_update = agent.store((source_state, source_action, source_a_logp, source_reward, source_state_), (target_states[0], target_states[1], target_states[2]))\n",
        "\n",
        "        if should_update: agent.update()\n",
        "\n",
        "        source_state = source_state_\n",
        "        target_states = target_states_\n",
        "\n",
        "        if done or die: break\n",
        "\n",
        "    for i, score in enumerate(scores):\n",
        "        running_scores[i] = running_scores[i] * 0.99 + score * 0.01\n",
        "\n",
        "    if i_ep % 10 == 0:\n",
        "        for i, score in enumerate(scores):\n",
        "          print('Domain {}: Ep {}\\tLast score: {:.2f}\\tMoving average score: {:.2f}'.format(i, i_ep, score, running_scores[i]))\n",
        "        "
      ],
      "metadata": {
        "colab": {
          "base_uri": "https://localhost:8080/"
        },
        "id": "LvWkGW4d4JFr",
        "outputId": "a7fc6de0-48c4-44ce-dc3b-d0229a72278f"
      },
      "execution_count": null,
      "outputs": [
        {
          "output_type": "stream",
          "name": "stdout",
          "text": [
            "Domain 0: Ep 0\tLast score: -34.69\tMoving average score: -0.35\n",
            "Domain 1: Ep 0\tLast score: -11.70\tMoving average score: -0.12\n",
            "Domain 2: Ep 0\tLast score: -18.42\tMoving average score: -0.18\n",
            "Domain 3: Ep 0\tLast score: -31.84\tMoving average score: -0.32\n",
            "retry to generate track (normal if there are not manyinstances of this message)\n",
            "retry to generate track (normal if there are not manyinstances of this message)\n",
            "retry to generate track (normal if there are not manyinstances of this message)\n",
            "retry to generate track (normal if there are not manyinstances of this message)\n",
            "Domain 0: Ep 10\tLast score: 1.31\tMoving average score: -1.60\n",
            "Domain 1: Ep 10\tLast score: -18.07\tMoving average score: -1.65\n",
            "Domain 2: Ep 10\tLast score: 1.31\tMoving average score: -1.57\n",
            "Domain 3: Ep 10\tLast score: 9.18\tMoving average score: -1.56\n",
            "retry to generate track (normal if there are not manyinstances of this message)\n",
            "retry to generate track (normal if there are not manyinstances of this message)\n",
            "retry to generate track (normal if there are not manyinstances of this message)\n",
            "retry to generate track (normal if there are not manyinstances of this message)\n",
            "[Domain 0, Acc: 0.63] [Domain 1, Acc: 0.57] [Domain 2, Acc: 0.65] [Domain 3, Acc: 0.66] \n",
            "[Domain 0, Acc: 0.77] [Domain 1, Acc: 0.61] [Domain 2, Acc: 0.86] [Domain 3, Acc: 0.91] \n",
            "[Domain 0, Acc: 0.44] [Domain 1, Acc: 0.53] [Domain 2, Acc: 0.59] [Domain 3, Acc: 0.63] \n",
            "[Domain 0, Acc: 0.37] [Domain 1, Acc: 0.33] [Domain 2, Acc: 0.40] [Domain 3, Acc: 0.66] \n",
            "[Domain 0, Acc: 0.37] [Domain 1, Acc: 0.39] [Domain 2, Acc: 0.56] [Domain 3, Acc: 0.88] \n",
            "[Domain 0, Acc: 0.55] [Domain 1, Acc: 0.46] [Domain 2, Acc: 0.65] [Domain 3, Acc: 0.65] \n",
            "[Domain 0, Acc: 0.54] [Domain 1, Acc: 0.25] [Domain 2, Acc: 0.63] [Domain 3, Acc: 0.86] \n",
            "[Domain 0, Acc: 0.55] [Domain 1, Acc: 0.42] [Domain 2, Acc: 0.62] [Domain 3, Acc: 0.74] \n",
            "[Domain 0, Acc: 0.47] [Domain 1, Acc: 0.24] [Domain 2, Acc: 0.44] [Domain 3, Acc: 0.91] \n",
            "[Domain 0, Acc: 0.32] [Domain 1, Acc: 0.23] [Domain 2, Acc: 0.70] [Domain 3, Acc: 0.72] \n",
            "Domain 0: Ep 20\tLast score: -17.96\tMoving average score: -2.72\n",
            "Domain 1: Ep 20\tLast score: -12.21\tMoving average score: -2.78\n",
            "Domain 2: Ep 20\tLast score: -15.43\tMoving average score: -2.86\n",
            "Domain 3: Ep 20\tLast score: -12.21\tMoving average score: -2.74\n",
            "Domain 0: Ep 30\tLast score: -24.12\tMoving average score: -4.01\n",
            "Domain 1: Ep 30\tLast score: -18.13\tMoving average score: -3.53\n",
            "Domain 2: Ep 30\tLast score: -21.13\tMoving average score: -3.43\n",
            "Domain 3: Ep 30\tLast score: -23.92\tMoving average score: -3.36\n",
            "[Domain 0, Acc: 0.41] [Domain 1, Acc: 0.35] [Domain 2, Acc: 0.36] [Domain 3, Acc: 0.52] \n",
            "[Domain 0, Acc: 0.72] [Domain 1, Acc: 0.28] [Domain 2, Acc: 0.60] [Domain 3, Acc: 0.58] \n",
            "[Domain 0, Acc: 0.78] [Domain 1, Acc: 0.59] [Domain 2, Acc: 0.71] [Domain 3, Acc: 0.86] \n",
            "[Domain 0, Acc: 0.75] [Domain 1, Acc: 0.49] [Domain 2, Acc: 0.60] [Domain 3, Acc: 0.52] \n",
            "[Domain 0, Acc: 0.89] [Domain 1, Acc: 0.70] [Domain 2, Acc: 0.80] [Domain 3, Acc: 0.80] \n",
            "[Domain 0, Acc: 0.89] [Domain 1, Acc: 0.74] [Domain 2, Acc: 0.81] [Domain 3, Acc: 0.82] \n",
            "[Domain 0, Acc: 0.92] [Domain 1, Acc: 0.86] [Domain 2, Acc: 0.85] [Domain 3, Acc: 0.97] \n",
            "[Domain 0, Acc: 0.90] [Domain 1, Acc: 0.82] [Domain 2, Acc: 0.78] [Domain 3, Acc: 0.90] \n",
            "[Domain 0, Acc: 0.86] [Domain 1, Acc: 0.82] [Domain 2, Acc: 0.74] [Domain 3, Acc: 0.97] \n",
            "[Domain 0, Acc: 0.91] [Domain 1, Acc: 0.84] [Domain 2, Acc: 0.81] [Domain 3, Acc: 0.99] \n",
            "retry to generate track (normal if there are not manyinstances of this message)\n",
            "retry to generate track (normal if there are not manyinstances of this message)\n",
            "retry to generate track (normal if there are not manyinstances of this message)\n",
            "retry to generate track (normal if there are not manyinstances of this message)\n",
            "Domain 0: Ep 40\tLast score: -15.58\tMoving average score: -4.95\n",
            "Domain 1: Ep 40\tLast score: -18.65\tMoving average score: -4.14\n",
            "Domain 2: Ep 40\tLast score: -15.58\tMoving average score: -4.17\n",
            "Domain 3: Ep 40\tLast score: -17.95\tMoving average score: -4.17\n",
            "retry to generate track (normal if there are not manyinstances of this message)\n",
            "retry to generate track (normal if there are not manyinstances of this message)\n",
            "retry to generate track (normal if there are not manyinstances of this message)\n",
            "retry to generate track (normal if there are not manyinstances of this message)\n",
            "Domain 0: Ep 50\tLast score: -14.65\tMoving average score: -5.79\n",
            "Domain 1: Ep 50\tLast score: -7.90\tMoving average score: -4.98\n",
            "Domain 2: Ep 50\tLast score: -14.65\tMoving average score: -5.18\n",
            "Domain 3: Ep 50\tLast score: -17.93\tMoving average score: -5.04\n",
            "[Domain 0, Acc: 0.54] [Domain 1, Acc: 0.30] [Domain 2, Acc: 0.79] [Domain 3, Acc: 0.97] \n",
            "[Domain 0, Acc: 0.43] [Domain 1, Acc: 0.25] [Domain 2, Acc: 0.36] [Domain 3, Acc: 0.46] \n",
            "[Domain 0, Acc: 0.50] [Domain 1, Acc: 0.35] [Domain 2, Acc: 0.48] [Domain 3, Acc: 0.71] \n",
            "[Domain 0, Acc: 0.63] [Domain 1, Acc: 0.46] [Domain 2, Acc: 0.59] [Domain 3, Acc: 0.55] \n",
            "[Domain 0, Acc: 0.78] [Domain 1, Acc: 0.52] [Domain 2, Acc: 0.74] [Domain 3, Acc: 0.90] \n",
            "[Domain 0, Acc: 0.74] [Domain 1, Acc: 0.54] [Domain 2, Acc: 0.68] [Domain 3, Acc: 0.89] \n",
            "[Domain 0, Acc: 0.54] [Domain 1, Acc: 0.37] [Domain 2, Acc: 0.54] [Domain 3, Acc: 0.25] \n",
            "[Domain 0, Acc: 0.58] [Domain 1, Acc: 0.49] [Domain 2, Acc: 0.63] [Domain 3, Acc: 0.72] \n",
            "[Domain 0, Acc: 0.76] [Domain 1, Acc: 0.59] [Domain 2, Acc: 0.73] [Domain 3, Acc: 0.90] \n",
            "[Domain 0, Acc: 0.57] [Domain 1, Acc: 0.55] [Domain 2, Acc: 0.62] [Domain 3, Acc: 0.60] \n",
            "retry to generate track (normal if there are not manyinstances of this message)\n",
            "retry to generate track (normal if there are not manyinstances of this message)\n",
            "retry to generate track (normal if there are not manyinstances of this message)\n",
            "retry to generate track (normal if there are not manyinstances of this message)\n",
            "retry to generate track (normal if there are not manyinstances of this message)\n",
            "retry to generate track (normal if there are not manyinstances of this message)\n",
            "retry to generate track (normal if there are not manyinstances of this message)\n",
            "retry to generate track (normal if there are not manyinstances of this message)\n",
            "Domain 0: Ep 60\tLast score: 4.95\tMoving average score: -6.17\n",
            "Domain 1: Ep 60\tLast score: 12.83\tMoving average score: -5.44\n",
            "Domain 2: Ep 60\tLast score: -18.07\tMoving average score: -5.79\n",
            "Domain 3: Ep 60\tLast score: 12.83\tMoving average score: -5.23\n",
            "retry to generate track (normal if there are not manyinstances of this message)\n",
            "retry to generate track (normal if there are not manyinstances of this message)\n",
            "retry to generate track (normal if there are not manyinstances of this message)\n",
            "retry to generate track (normal if there are not manyinstances of this message)\n",
            "retry to generate track (normal if there are not manyinstances of this message)\n",
            "retry to generate track (normal if there are not manyinstances of this message)\n",
            "retry to generate track (normal if there are not manyinstances of this message)\n",
            "retry to generate track (normal if there are not manyinstances of this message)\n",
            "Domain 0: Ep 70\tLast score: -14.74\tMoving average score: -6.61\n",
            "Domain 1: Ep 70\tLast score: -18.00\tMoving average score: -6.04\n",
            "Domain 2: Ep 70\tLast score: -18.00\tMoving average score: -6.56\n",
            "Domain 3: Ep 70\tLast score: -11.48\tMoving average score: -5.63\n",
            "[Domain 0, Acc: 0.50] [Domain 1, Acc: 0.24] [Domain 2, Acc: 0.59] [Domain 3, Acc: 0.46] \n",
            "[Domain 0, Acc: 0.62] [Domain 1, Acc: 0.41] [Domain 2, Acc: 0.85] [Domain 3, Acc: 0.77] \n",
            "[Domain 0, Acc: 0.75] [Domain 1, Acc: 0.64] [Domain 2, Acc: 0.87] [Domain 3, Acc: 0.88] \n",
            "[Domain 0, Acc: 0.60] [Domain 1, Acc: 0.66] [Domain 2, Acc: 0.93] [Domain 3, Acc: 0.65] \n",
            "[Domain 0, Acc: 0.64] [Domain 1, Acc: 0.77] [Domain 2, Acc: 0.88] [Domain 3, Acc: 0.73] \n",
            "[Domain 0, Acc: 0.79] [Domain 1, Acc: 0.85] [Domain 2, Acc: 0.93] [Domain 3, Acc: 0.82] \n",
            "[Domain 0, Acc: 0.79] [Domain 1, Acc: 0.86] [Domain 2, Acc: 0.92] [Domain 3, Acc: 0.90] \n",
            "[Domain 0, Acc: 0.76] [Domain 1, Acc: 0.84] [Domain 2, Acc: 0.95] [Domain 3, Acc: 0.89] \n",
            "[Domain 0, Acc: 0.69] [Domain 1, Acc: 0.82] [Domain 2, Acc: 0.92] [Domain 3, Acc: 0.57] \n",
            "[Domain 0, Acc: 0.72] [Domain 1, Acc: 0.78] [Domain 2, Acc: 0.95] [Domain 3, Acc: 0.76] \n"
          ]
        }
      ]
    },
    {
      "cell_type": "markdown",
      "source": [
        "# Eval"
      ],
      "metadata": {
        "id": "cKdFGMaqcXPS"
      }
    },
    {
      "cell_type": "code",
      "source": [
        "def eval(agent, env):\n",
        "    score = 0\n",
        "    state = env.reset()\n",
        "\n",
        "    for t in range(1000):\n",
        "        action, a_logp = agent.select_action(state)\n",
        "\n",
        "        state_, reward, done, _ = env.step_eval(action * np.array([2., 1., 1.]) + np.array([-1., 0., 0.]))\n",
        "\n",
        "        score += reward\n",
        "\n",
        "        state = state_\n",
        "\n",
        "        if done:\n",
        "            break\n",
        "\n",
        "    return score"
      ],
      "metadata": {
        "id": "zOu192CXcZV-"
      },
      "execution_count": null,
      "outputs": []
    },
    {
      "cell_type": "code",
      "source": [
        "green_score = eval(agent, env_green)"
      ],
      "metadata": {
        "id": "SUzqmJmzicXA"
      },
      "execution_count": null,
      "outputs": []
    },
    {
      "cell_type": "code",
      "source": [
        "print(green_score)"
      ],
      "metadata": {
        "id": "IpEYXPCsi3Xy"
      },
      "execution_count": null,
      "outputs": []
    },
    {
      "cell_type": "code",
      "source": [
        "red_score = eval(agent, env_red)"
      ],
      "metadata": {
        "id": "6NUZ5JN2i-VM"
      },
      "execution_count": null,
      "outputs": []
    },
    {
      "cell_type": "code",
      "source": [
        "print(red_score)"
      ],
      "metadata": {
        "id": "x9ji0eHDjHCc"
      },
      "execution_count": null,
      "outputs": []
    },
    {
      "cell_type": "code",
      "source": [
        "yellow_score = eval(agent, env_yellow)"
      ],
      "metadata": {
        "id": "YnUpvNqIrQH6"
      },
      "execution_count": null,
      "outputs": []
    },
    {
      "cell_type": "code",
      "source": [
        "print(yellow_score)"
      ],
      "metadata": {
        "id": "ZHRMe6QTrS8w"
      },
      "execution_count": null,
      "outputs": []
    },
    {
      "cell_type": "code",
      "source": [
        "blue_score = eval(agent, env_blue)"
      ],
      "metadata": {
        "id": "qTDs3idujAp4"
      },
      "execution_count": null,
      "outputs": []
    },
    {
      "cell_type": "code",
      "source": [
        "print(blue_score)"
      ],
      "metadata": {
        "id": "uXciPGgcjJPP"
      },
      "execution_count": null,
      "outputs": []
    }
  ],
  "metadata": {
    "language_info": {
      "name": "python"
    },
    "orig_nbformat": 4,
    "colab": {
      "name": "car_racing_colab.ipynb",
      "provenance": [],
      "machine_shape": "hm"
    },
    "kernelspec": {
      "name": "python3",
      "display_name": "Python 3"
    },
    "gpuClass": "standard",
    "accelerator": "GPU"
  },
  "nbformat": 4,
  "nbformat_minor": 0
}