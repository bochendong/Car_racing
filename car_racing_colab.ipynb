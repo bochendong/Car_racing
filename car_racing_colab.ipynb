{
  "cells": [
    {
      "cell_type": "markdown",
      "source": [
        "# Colab env settings"
      ],
      "metadata": {
        "id": "hpANlTAssfdF"
      }
    },
    {
      "cell_type": "code",
      "source": [
        "!git clone https://github.com/bochendong/car_racing.git"
      ],
      "metadata": {
        "colab": {
          "base_uri": "https://localhost:8080/"
        },
        "id": "UfHgya4Jsdas",
        "outputId": "b6ed9b86-c9a0-4732-e06d-4228b087415c"
      },
      "execution_count": 1,
      "outputs": [
        {
          "output_type": "stream",
          "name": "stdout",
          "text": [
            "fatal: destination path 'car_racing' already exists and is not an empty directory.\n"
          ]
        }
      ]
    },
    {
      "cell_type": "code",
      "execution_count": 2,
      "metadata": {
        "id": "yX7L7IlDnyvU"
      },
      "outputs": [],
      "source": [
        "%%capture\n",
        "!sudo apt update && sudo apt install python-opengl\n",
        "!sudo apt update && sudo apt install xvfb\n",
        "!pip install gym-notebook-wrapper stable-baselines[mpi] box2d box2d-kengz pyvirtualdisplay pyglet\n",
        "!pip install wandb\n",
        "!pip install pyvirtualdisplay -qq\n",
        "!pip install folium==0.2.1\n",
        "!apt-get install -y xvfb python-opengl ffmpeg -qq"
      ]
    },
    {
      "cell_type": "code",
      "execution_count": 3,
      "metadata": {
        "id": "zUgm5ewmnyvV"
      },
      "outputs": [],
      "source": [
        "import numpy as np\n",
        "\n",
        "from PIL import Image\n",
        "import matplotlib\n",
        "import matplotlib.pyplot as plt\n",
        "from collections import namedtuple\n",
        "from itertools import count\n",
        "\n",
        "import torch\n",
        "import torch.nn as nn\n",
        "import torch.nn.functional as F\n",
        "import torchvision.transforms as T\n",
        "import torch.optim as optim\n",
        "from torch.distributions import Beta\n",
        "from torch.utils.data.sampler import BatchSampler, SubsetRandomSampler\n",
        "\n",
        "from torch.autograd import Function\n",
        "\n",
        "import gnwrapper\n",
        "import gym\n",
        "from gym import logger as gymlogger\n",
        "from gym.wrappers import Monitor\n",
        "gymlogger.set_level(30)\n",
        "\n",
        "from IPython.display import HTML\n",
        "from IPython import display as ipythondisplay\n",
        "from pyvirtualdisplay import Display\n",
        "import wandb\n",
        "\n",
        "is_ipython = 'inline' in matplotlib.get_backend()\n",
        "if is_ipython:\n",
        "    from IPython import display"
      ]
    },
    {
      "cell_type": "code",
      "execution_count": 4,
      "metadata": {
        "colab": {
          "base_uri": "https://localhost:8080/"
        },
        "id": "-x-zGeDRnyvX",
        "outputId": "cec28791-74d6-4815-fdad-ed0c47bffce8"
      },
      "outputs": [
        {
          "output_type": "stream",
          "name": "stdout",
          "text": [
            "Looking in indexes: https://pypi.org/simple, https://us-python.pkg.dev/colab-wheels/public/simple/\n",
            "Requirement already satisfied: box2d in /usr/local/lib/python3.7/dist-packages (2.3.10)\n"
          ]
        }
      ],
      "source": [
        "!pip install box2d"
      ]
    },
    {
      "cell_type": "code",
      "execution_count": 5,
      "metadata": {
        "colab": {
          "base_uri": "https://localhost:8080/"
        },
        "id": "wAbUZ5PBnyvY",
        "outputId": "730d5971-0142-4946-9e34-711674e46db4"
      },
      "outputs": [
        {
          "output_type": "stream",
          "name": "stdout",
          "text": [
            "Device available for running: \n",
            "cuda\n"
          ]
        }
      ],
      "source": [
        "# Use cuda if present\n",
        "device = torch.device(\"cuda\" if torch.cuda.is_available() else \"cpu\")\n",
        "print(\"Device available for running: \")\n",
        "print(device)"
      ]
    },
    {
      "cell_type": "code",
      "execution_count": 6,
      "metadata": {
        "colab": {
          "base_uri": "https://localhost:8080/"
        },
        "id": "3ijK2eBYnyvZ",
        "outputId": "3c5447a8-e6b6-42c8-a07c-936819c1c666"
      },
      "outputs": [
        {
          "output_type": "stream",
          "name": "stdout",
          "text": [
            "/content/car_racing\n"
          ]
        }
      ],
      "source": [
        "%cd car_racing"
      ]
    },
    {
      "cell_type": "code",
      "source": [
        "import car_racing as cr\n",
        "import replay_memory as rm"
      ],
      "metadata": {
        "id": "6ia5ibGfqWfZ"
      },
      "execution_count": 7,
      "outputs": []
    },
    {
      "cell_type": "markdown",
      "source": [
        "# Carracing Enviorment settings"
      ],
      "metadata": {
        "id": "nu12ch3KssCE"
      }
    },
    {
      "cell_type": "code",
      "source": [
        "use_cuda = torch.cuda.is_available()\n",
        "device = torch.device(\"cuda\" if use_cuda else \"cpu\")"
      ],
      "metadata": {
        "id": "0bSmOb2d6qPq"
      },
      "execution_count": 8,
      "outputs": []
    },
    {
      "cell_type": "code",
      "execution_count": 9,
      "metadata": {
        "colab": {
          "base_uri": "https://localhost:8080/"
        },
        "id": "HBhiAnYKnyvZ",
        "outputId": "5bd0194b-805b-4c00-bd20-b5da38d2aa0a"
      },
      "outputs": [
        {
          "output_type": "stream",
          "name": "stderr",
          "text": [
            "/usr/local/lib/python3.7/dist-packages/gym/logger.py:30: UserWarning: \u001b[33mWARN: Box bound precision lowered by casting to float32\u001b[0m\n",
            "  warnings.warn(colorize('%s: %s'%('WARN', msg % args), 'yellow'))\n",
            "/usr/local/lib/python3.7/dist-packages/gym/logger.py:30: UserWarning: \u001b[33mWARN: Box bound precision lowered by casting to float32\u001b[0m\n",
            "  warnings.warn(colorize('%s: %s'%('WARN', msg % args), 'yellow'))\n"
          ]
        },
        {
          "output_type": "stream",
          "name": "stdout",
          "text": [
            "retry to generate track (normal if there are not manyinstances of this message)\n",
            "(96, 96, 3)\n"
          ]
        }
      ],
      "source": [
        "env_green = gnwrapper.Animation(cr.CarRacing())\n",
        "env_green = cr.CarRacing(color = 'g')\n",
        "obs = env_green.reset()\n",
        "print(obs.shape)"
      ]
    },
    {
      "cell_type": "code",
      "source": [
        "env_red= gnwrapper.Animation(cr.CarRacing(color = 'r'))\n",
        "env_red = cr.CarRacing(color = 'r')\n",
        "obs = env_red.reset()"
      ],
      "metadata": {
        "colab": {
          "base_uri": "https://localhost:8080/"
        },
        "id": "U8sAj_hEq2aW",
        "outputId": "6aa1d237-6f00-4a04-977c-49f8f6d62c31"
      },
      "execution_count": 10,
      "outputs": [
        {
          "output_type": "stream",
          "name": "stderr",
          "text": [
            "/usr/local/lib/python3.7/dist-packages/gym/logger.py:30: UserWarning: \u001b[33mWARN: Box bound precision lowered by casting to float32\u001b[0m\n",
            "  warnings.warn(colorize('%s: %s'%('WARN', msg % args), 'yellow'))\n"
          ]
        }
      ]
    },
    {
      "cell_type": "code",
      "source": [
        "env_blue = gnwrapper.Animation(cr.CarRacing(color = 'b'))\n",
        "env_blue = cr.CarRacing(color = 'b')\n",
        "obs = env_blue.reset()"
      ],
      "metadata": {
        "colab": {
          "base_uri": "https://localhost:8080/"
        },
        "id": "rWhhOvPjsOHd",
        "outputId": "9c0c92ae-72d4-4d91-9117-aebc4d99dc17"
      },
      "execution_count": 11,
      "outputs": [
        {
          "output_type": "stream",
          "name": "stderr",
          "text": [
            "/usr/local/lib/python3.7/dist-packages/gym/logger.py:30: UserWarning: \u001b[33mWARN: Box bound precision lowered by casting to float32\u001b[0m\n",
            "  warnings.warn(colorize('%s: %s'%('WARN', msg % args), 'yellow'))\n"
          ]
        }
      ]
    },
    {
      "cell_type": "code",
      "source": [
        "print(obs.shape)"
      ],
      "metadata": {
        "colab": {
          "base_uri": "https://localhost:8080/"
        },
        "id": "c-qttO49nrcG",
        "outputId": "89d083da-151c-41e1-e300-ace11d883b7c"
      },
      "execution_count": 12,
      "outputs": [
        {
          "output_type": "stream",
          "name": "stdout",
          "text": [
            "(96, 96, 3)\n"
          ]
        }
      ]
    },
    {
      "cell_type": "code",
      "execution_count": 13,
      "metadata": {
        "id": "BiivK79Vnyvc"
      },
      "outputs": [],
      "source": [
        "obs_array = []\n",
        "discrete_actions = {0 : np.array([0,0,0]),       # do nothing\n",
        "                                 1 : np.array([-1,0,0]),      # steer sharp left\n",
        "                                 2 : np.array([1,0,0]),       # steer sharp right\n",
        "                                 3 : np.array([-0.5,0,0]),    # steer left\n",
        "                                 4 : np.array([0.5,0,0]),     # steer right\n",
        "                                 5 : np.array([0,1,0]),       # accelerate 100%\n",
        "                                 6 : np.array([0,0.5,0]),     # accelerate 50%\n",
        "                                 7 : np.array([0,0.25,0]),    # accelerate 25%\n",
        "                                 8 : np.array([0,0,1]),       # brake 100%\n",
        "                                 9 : np.array([0,0,0.5]),     # brake 50%\n",
        "                                 10 : np.array([0,0,0.25])}   # brake 25%\n",
        "\n",
        "def get_obs(env):\n",
        "    obs_array = []\n",
        "    n_actions = len(discrete_actions)\n",
        "    for i in range (0, 40):\n",
        "        action = torch.randint(low=0, high=11, size=(1,))\n",
        "        action_transfered = discrete_actions.get(int(action[0]))\n",
        "\n",
        "        obs, reward, done, _ = env.step([action_transfered[0], action_transfered[1], action_transfered[2]])\n",
        "        if (i % 4 == 0):\n",
        "            obs_array.append(obs)\n",
        "\n",
        "    return obs_array"
      ]
    },
    {
      "cell_type": "code",
      "execution_count": 14,
      "metadata": {
        "colab": {
          "base_uri": "https://localhost:8080/",
          "height": 269
        },
        "id": "dqF3wdU8nyve",
        "outputId": "7df4b516-b403-408e-fde7-542b1816829d"
      },
      "outputs": [
        {
          "output_type": "display_data",
          "data": {
            "text/plain": [
              "<Figure size 864x288 with 10 Axes>"
            ],
            "image/png": "[encoded data removed]"
          },
          "metadata": {
            "needs_background": "light"
          }
        }
      ],
      "source": [
        "f, axs = plt.subplots(2,5, figsize = (12, 4))\n",
        "\n",
        "axs = axs.flatten()\n",
        "obs_array = get_obs(env_green)\n",
        "for img, ax in zip(obs_array, axs):\n",
        "    ax.imshow(img)\n",
        "plt.show()"
      ]
    },
    {
      "cell_type": "code",
      "source": [
        "f, axs = plt.subplots(2,5, figsize = (12, 4))\n",
        "\n",
        "axs = axs.flatten()\n",
        "obs_array = get_obs(env_red)\n",
        "for img, ax in zip(obs_array, axs):\n",
        "    ax.imshow(img)\n",
        "plt.show()"
      ],
      "metadata": {
        "colab": {
          "base_uri": "https://localhost:8080/",
          "height": 269
        },
        "id": "iTvilSOJoBHt",
        "outputId": "037ac5df-b066-4536-b507-d2a62ab2aee3"
      },
      "execution_count": 15,
      "outputs": [
        {
          "output_type": "display_data",
          "data": {
            "text/plain": [
              "<Figure size 864x288 with 10 Axes>"
            ],
            "image/png": "[encoded data removed]"
          },
          "metadata": {
            "needs_background": "light"
          }
        }
      ]
    },
    {
      "cell_type": "code",
      "source": [
        "f, axs = plt.subplots(2,5, figsize = (12, 4))\n",
        "\n",
        "axs = axs.flatten()\n",
        "obs_array = get_obs(env_blue)\n",
        "for img, ax in zip(obs_array, axs):\n",
        "    ax.imshow(img)\n",
        "plt.show()"
      ],
      "metadata": {
        "colab": {
          "base_uri": "https://localhost:8080/",
          "height": 269
        },
        "id": "hBzWILB7oDfj",
        "outputId": "56110455-881d-4f59-b274-0485c6582464"
      },
      "execution_count": 16,
      "outputs": [
        {
          "output_type": "display_data",
          "data": {
            "text/plain": [
              "<Figure size 864x288 with 10 Axes>"
            ],
            "image/png": "[encoded data removed]"
          },
          "metadata": {
            "needs_background": "light"
          }
        }
      ]
    },
    {
      "cell_type": "markdown",
      "source": [
        "# PPO Models"
      ],
      "metadata": {
        "id": "4n0GPeGzs1kf"
      }
    },
    {
      "cell_type": "code",
      "source": [
        "class Env():\n",
        "    def __init__(self, color, seed = 0):\n",
        "        self.env = gnwrapper.Animation(cr.CarRacing(color = color))\n",
        "        self.env = cr.CarRacing(color = color)\n",
        "        self.color = color\n",
        "        self.env.seed(seed)\n",
        "        self.reward_threshold = 1000\n",
        "\n",
        "    def reset(self):\n",
        "        self.counter = 0\n",
        "        self.av_r = self.reward_memory()\n",
        "\n",
        "        self.die = False\n",
        "        img_rgb = self.env.reset()\n",
        "        img_rgb = img_rgb / 128. - 1\n",
        "        self.stack = [img_rgb] * 4\n",
        "        return np.array(self.stack)\n",
        "\n",
        "    def step(self, action):\n",
        "        total_reward = 0\n",
        "        for i in range(8):\n",
        "            img_rgb, reward, die, _ = self.env.step(action)\n",
        "\n",
        "            if die: reward += 100\n",
        "\n",
        "            if self.color == 'g' and np.mean(img_rgb[:, :, 1]) > 185.0:\n",
        "                  reward -= 0.05\n",
        "\n",
        "            total_reward += reward\n",
        "\n",
        "            done = True if self.av_r(reward) <= -0.1 else False\n",
        "            if done or die:\n",
        "                break\n",
        "\n",
        "        img_rgb = img_rgb / 128. - 1\n",
        "        self.stack.pop(0)\n",
        "        self.stack.append(img_rgb)\n",
        "        assert len(self.stack) == 4\n",
        "        return np.array(self.stack), total_reward, done, die\n",
        "\n",
        "    def step_eval(self, action):\n",
        "        img_rgb, reward, done, _ = self.env.step(action)\n",
        "\n",
        "        img_rgb = img_rgb / 128. - 1\n",
        "        self.stack.pop(0)\n",
        "        self.stack.append(img_rgb)\n",
        "        return np.array(self.stack), reward, done, _\n",
        "\n",
        "    def render(self, *arg):\n",
        "        self.env.render(*arg)\n",
        "\n",
        "    @staticmethod\n",
        "    def reward_memory():\n",
        "        count = 0\n",
        "        length = 100\n",
        "        history = np.zeros(length)\n",
        "\n",
        "        def memory(reward):\n",
        "            nonlocal count\n",
        "            history[count] = reward\n",
        "            count = (count + 1) % length\n",
        "            return np.mean(history)\n",
        "\n",
        "        return memory"
      ],
      "metadata": {
        "id": "kuIh8kXuszw6"
      },
      "execution_count": 17,
      "outputs": []
    },
    {
      "cell_type": "code",
      "source": [
        "env_green = Env(color = 'g', seed = 0)\n",
        "obs_green = env_green.reset()\n",
        "\n",
        "env_red = Env(color = 'r', seed = 0)\n",
        "obs_red = env_red.reset()\n",
        "\n",
        "env_blue = Env(color = 'b', seed = 0)\n",
        "obs_blue = env_blue.reset()"
      ],
      "metadata": {
        "colab": {
          "base_uri": "https://localhost:8080/"
        },
        "id": "gTOnlfd-uGpv",
        "outputId": "8d2c41d3-6cc9-4c9e-a2ca-99f3de38715d"
      },
      "execution_count": 18,
      "outputs": [
        {
          "output_type": "stream",
          "name": "stderr",
          "text": [
            "/usr/local/lib/python3.7/dist-packages/gym/logger.py:30: UserWarning: \u001b[33mWARN: Box bound precision lowered by casting to float32\u001b[0m\n",
            "  warnings.warn(colorize('%s: %s'%('WARN', msg % args), 'yellow'))\n"
          ]
        }
      ]
    },
    {
      "cell_type": "code",
      "source": [
        "class ReverseLayerF(Function):\n",
        "    @staticmethod\n",
        "    def forward(ctx, x, alpha):\n",
        "        ctx.alpha = alpha\n",
        "\n",
        "        return x.view_as(x)\n",
        "\n",
        "    @staticmethod\n",
        "    def backward(ctx, grad_output):\n",
        "        output = grad_output.neg() * ctx.alpha\n",
        "\n",
        "        return output, None  \n",
        "\n",
        "class DANN(nn.Module):\n",
        "    def __init__(self):\n",
        "        super(DANN, self).__init__()\n",
        "        self.sketch = nn.Sequential(\n",
        "            nn.Conv3d(4, 4, kernel_size=(1, 1, 3), stride=1),\n",
        "            nn.ReLU(),\n",
        "        )\n",
        "        self.feature = nn.Sequential(  # input shape (4, 96, 96)\n",
        "            nn.Conv2d(4, 8, kernel_size=4, stride=2),\n",
        "            nn.ReLU(),\n",
        "            nn.Conv2d(8, 16, kernel_size=3, stride=2),  # (8, 47, 47)\n",
        "            nn.ReLU(),\n",
        "            nn.Conv2d(16, 32, kernel_size=3, stride=2),  # (16, 23, 23)\n",
        "            nn.ReLU(),\n",
        "            nn.Conv2d(32, 64, kernel_size=3, stride=2),  # (32, 11, 11)\n",
        "            nn.ReLU(),\n",
        "        )\n",
        "\n",
        "        self.cnn_base = nn.Sequential(\n",
        "            nn.Conv2d(64, 128, kernel_size=3, stride=1),  # (64, 5, 5)\n",
        "            nn.ReLU(),\n",
        "            nn.Conv2d(128, 256, kernel_size=3, stride=1),  # (128, 3, 3)\n",
        "            nn.ReLU(),\n",
        "        )\n",
        "\n",
        "        self.domain_classifier = nn.Sequential(\n",
        "            nn.Linear(64 * 5 * 5, 1000),\n",
        "            nn.BatchNorm1d(1000),\n",
        "            nn.ReLU(True),\n",
        "            nn.Linear(1000, 100),\n",
        "            nn.BatchNorm1d(100),\n",
        "            nn.ReLU(True),\n",
        "            nn.Linear(100, 2),\n",
        "        )\n",
        "\n",
        "        self.v = nn.Sequential(nn.Linear(256, 100), nn.ReLU(), nn.Linear(100, 1))\n",
        "        self.fc = nn.Sequential(nn.Linear(256, 100), nn.ReLU())\n",
        "        self.alpha_head = nn.Sequential(nn.Linear(100, 3), nn.Softplus())\n",
        "        self.beta_head = nn.Sequential(nn.Linear(100, 3), nn.Softplus())\n",
        "        self.apply(self._weights_init)\n",
        "      \n",
        "    def forward(self, input, a = 0.1):\n",
        "        sketch = self.sketch(input)\n",
        "        sketch = torch.squeeze(sketch)\n",
        "\n",
        "        feature = self.feature(sketch)\n",
        "\n",
        "        out = self.cnn_base(feature)\n",
        "        out = out.view(-1, 256)\n",
        "        v = self.v(out)\n",
        "        out = self.fc(out)\n",
        "\n",
        "        alpha = self.alpha_head(out) + 1\n",
        "        beta = self.beta_head(out) + 1\n",
        "\n",
        "        feature = feature.view(-1, 64 * 5 * 5)\n",
        "        reverse_feature = ReverseLayerF.apply(feature, a)\n",
        "        domain_output = self.domain_classifier(reverse_feature)\n",
        "\n",
        "        return (alpha, beta), v, domain_output\n",
        "\n",
        "    @staticmethod\n",
        "    def _weights_init(m):\n",
        "        if isinstance(m, nn.Conv2d):\n",
        "            nn.init.xavier_uniform_(m.weight, gain=nn.init.calculate_gain('relu'))\n",
        "            nn.init.constant_(m.bias, 0.1)"
      ],
      "metadata": {
        "id": "0Qatrg357OC6"
      },
      "execution_count": 19,
      "outputs": []
    },
    {
      "cell_type": "code",
      "source": [
        "transition = np.dtype([('s', np.float64, (4, 96, 96, 3)), ('a', np.float64, (3,)), ('a_logp', np.float64),\n",
        "                       ('r', np.float64), ('s_', np.float64, (4, 96, 96, 3))])"
      ],
      "metadata": {
        "id": "R5EdTIe03v3V"
      },
      "execution_count": 20,
      "outputs": []
    },
    {
      "cell_type": "code",
      "source": [
        "class Agent():\n",
        "    max_grad_norm = 0.5\n",
        "    clip_param = 0.1\n",
        "    ppo_epoch = 10\n",
        "    buffer_capacity, batch_size = 2000, 128\n",
        "\n",
        "    def __init__(self):\n",
        "        self.training_step = 0\n",
        "        self.net = DANN().double().to(device)\n",
        "        self.buffer = np.empty(self.buffer_capacity, dtype=transition)\n",
        "        self.target_buffer = np.empty(self.buffer_capacity, dtype=transition)\n",
        "        self.source_counter = 0\n",
        "        self.target_counter = 0\n",
        "        self.criterion = nn.CrossEntropyLoss().to(device)\n",
        "\n",
        "        self.optimizer = optim.Adam(self.net.parameters(), lr=1e-3)\n",
        "\n",
        "    def select_action(self, state):\n",
        "        state = torch.from_numpy(state).double().to(device).unsqueeze(0)\n",
        "        with torch.no_grad():\n",
        "            out = self.net.sketch(state)\n",
        "            out = torch.squeeze(out)\n",
        "            out = self.net.feature(out)\n",
        "\n",
        "            out = self.net.cnn_base(out)\n",
        "            out = out.view(-1, 256)\n",
        "            out = self.net.fc(out)\n",
        "            alpha = self.net.alpha_head(out) + 1\n",
        "            beta = self.net.beta_head(out) + 1\n",
        "\n",
        "        dist = Beta(alpha, beta)\n",
        "        action = dist.sample()\n",
        "        a_logp = dist.log_prob(action).sum(dim=1)\n",
        "\n",
        "        action = action.squeeze().cpu().numpy()\n",
        "        a_logp = a_logp.item()\n",
        "        return action, a_logp\n",
        "\n",
        "    def save_param(self):\n",
        "        torch.save(self.net.state_dict(), 'param/ppo_net_params.pkl')\n",
        "\n",
        "    def store(self, transition, which_env = 'source'):\n",
        "        if (which_env == 'source'):\n",
        "            self.buffer[self.source_counter] = transition\n",
        "            self.source_counter += 1\n",
        "            if self.source_counter == self.buffer_capacity:\n",
        "                self.source_counter = 0\n",
        "                return True\n",
        "        else:\n",
        "            self.target_buffer[self.target_counter] = transition\n",
        "            self.target_counter += 1\n",
        "            if self.target_counter == self.buffer_capacity:\n",
        "                self.target_counter = 0\n",
        "                return True\n",
        "\n",
        "        return False\n",
        "\n",
        "    def update(self):\n",
        "        self.training_step += 1\n",
        "\n",
        "        s = torch.tensor(self.buffer['s'], dtype=torch.double).to(device)\n",
        "        a = torch.tensor(self.buffer['a'], dtype=torch.double).to(device)\n",
        "        r = torch.tensor(self.buffer['r'], dtype=torch.double).to(device).view(-1, 1)\n",
        "        s_ = torch.tensor(self.buffer['s_'], dtype=torch.double).to(device)\n",
        "        old_a_logp = torch.tensor(self.buffer['a_logp'], dtype=torch.double).to(device).view(-1, 1)\n",
        "\n",
        "\n",
        "        s_t =  torch.tensor(self.target_buffer['s'], dtype=torch.double).to(device)\n",
        "\n",
        "        with torch.no_grad():\n",
        "            target_v = r + 0.99 * self.net(s_)[1]\n",
        "            adv = target_v - self.net(s)[1]\n",
        "\n",
        "        for _ in range(self.ppo_epoch):\n",
        "            correct_source_domain = 0\n",
        "            correct_target_domain = 0\n",
        "            total = 0\n",
        "            for index in BatchSampler(SubsetRandomSampler(range(self.buffer_capacity)), self.batch_size, False):\n",
        "                (alpha, beta), v, source_domain_out = self.net(s[index])\n",
        "                _, _, target_domain_out = self.net(s_t[index])\n",
        "\n",
        "                batch_size = source_domain_out.size()[0]\n",
        "                total += batch_size\n",
        "\n",
        "                dist = Beta(alpha, beta)\n",
        "                a_logp = dist.log_prob(a[index]).sum(dim=1, keepdim=True)\n",
        "                ratio = torch.exp(a_logp - old_a_logp[index])\n",
        "                surr1 = ratio * adv[index]\n",
        "                surr2 = torch.clamp(ratio, 1.0 - self.clip_param, 1.0 + self.clip_param) * adv[index]\n",
        "                action_loss = -torch.min(surr1, surr2).mean()\n",
        "                value_loss = F.smooth_l1_loss(self.net(s[index])[1], target_v[index])\n",
        "\n",
        "                domain_label = torch.zeros(batch_size).long()\n",
        "                domain_label = domain_label.to(device)\n",
        "                source_domain_loss = self.criterion(source_domain_out, domain_label)\n",
        "                _, predicted = torch.max(source_domain_out.data, 1)\n",
        "                correct_source_domain += predicted.eq(domain_label.data).cpu().sum().item()\n",
        "\n",
        "                domain_label = torch.ones(batch_size).long()\n",
        "                domain_label = domain_label.to(device)\n",
        "                target_domain_loss = self.criterion(target_domain_out, domain_label)\n",
        "                _, predicted = torch.max(target_domain_out.data, 1)\n",
        "                correct_target_domain += predicted.eq(domain_label.data).cpu().sum().item()\n",
        "\n",
        "                loss = action_loss + 2. * value_loss + source_domain_loss + target_domain_loss\n",
        "\n",
        "                self.optimizer.zero_grad()\n",
        "                loss.backward()\n",
        "                self.optimizer.step()\n"
      ],
      "metadata": {
        "id": "AVP6jVNV3y5R"
      },
      "execution_count": 21,
      "outputs": []
    },
    {
      "cell_type": "markdown",
      "source": [
        "# Training"
      ],
      "metadata": {
        "id": "mR64oV7bfdKE"
      }
    },
    {
      "cell_type": "code",
      "source": [
        "agent = Agent()\n",
        "env_green = Env(color = 'g', seed = 0)\n",
        "env_red = Env(color = 'r', seed = 0)\n",
        "env_blue = Env(color = 'b', seed = 0)"
      ],
      "metadata": {
        "id": "_NJ5oeTvfkRH",
        "outputId": "af2780e9-ff29-497b-864f-f856cde8091f",
        "colab": {
          "base_uri": "https://localhost:8080/"
        }
      },
      "execution_count": 22,
      "outputs": [
        {
          "output_type": "stream",
          "name": "stderr",
          "text": [
            "/usr/local/lib/python3.7/dist-packages/gym/logger.py:30: UserWarning: \u001b[33mWARN: Box bound precision lowered by casting to float32\u001b[0m\n",
            "  warnings.warn(colorize('%s: %s'%('WARN', msg % args), 'yellow'))\n"
          ]
        }
      ]
    },
    {
      "cell_type": "code",
      "source": [
        "training_records = []\n",
        "source_running_score = 0\n",
        "target_running_score = 0\n",
        "for i_ep in range(3000):\n",
        "    source_score = 0\n",
        "    target_score = 0\n",
        "    source_state = env_green.reset()\n",
        "    target_state = env_red.reset()\n",
        "\n",
        "    for t in range(1000):\n",
        "        source_action, source_a_logp = agent.select_action(source_state)\n",
        "        target_action, target_a_logp = agent.select_action(target_state)\n",
        "\n",
        "        source_state_, source_reward, source_done, source_die = env_green.step(source_action * np.array([2., 1., 1.]) + np.array([-1., 0., 0.]))\n",
        "        target_state_, target_reward, target_done, target_die = env_red.step(target_action * np.array([2., 1., 1.]) + np.array([-1., 0., 0.]))\n",
        "\n",
        "        should_update = agent.store((source_state, source_action, source_a_logp, source_reward, source_state_), which_env = 'source')\n",
        "        agent.store((target_state, target_action, target_a_logp, target_reward, target_state_), which_env = 'target')\n",
        "\n",
        "        if should_update: agent.update()\n",
        "\n",
        "        source_score += source_reward\n",
        "        target_score += target_reward\n",
        "\n",
        "        source_state = source_state_\n",
        "        target_state = target_state_\n",
        "        if source_done or source_die or target_done or target_die:\n",
        "            break\n",
        "    source_running_score = source_running_score * 0.99 + source_score * 0.01\n",
        "    target_running_score = target_running_score * 0.99 + target_score * 0.01\n",
        "\n",
        "    if i_ep % 100 == 0:\n",
        "        print('Source: Ep {}\\tLast score: {:.2f}\\tMoving average score: {:.2f}'.format(i_ep, source_score, source_running_score))\n",
        "        print('Target: Ep {}\\tLast score: {:.2f}\\tMoving average score: {:.2f}'.format(i_ep, target_score, target_running_score))\n",
        "    if source_running_score > env_green.reward_threshold:\n",
        "        print(\"Solved! Running reward is now {} and the last episode runs to {}!\".format(source_running_score, source_score))\n",
        "        print(\"Solved! Running reward is now {} and the last episode runs to {}!\".format(target_running_score, target_score))\n",
        "        break"
      ],
      "metadata": {
        "colab": {
          "base_uri": "https://localhost:8080/"
        },
        "id": "LvWkGW4d4JFr",
        "outputId": "f3d59274-aff1-4cdd-bfbd-6e201862f3fd"
      },
      "execution_count": null,
      "outputs": [
        {
          "output_type": "stream",
          "name": "stderr",
          "text": [
            "/usr/local/lib/python3.7/dist-packages/torch/distributions/dirichlet.py:71: UserWarning: Specified kernel cache directory could not be created! This disables kernel caching. Specified directory is /root/.cache/torch/kernels. This warning will appear only once per process. (Triggered internally at  ../aten/src/ATen/native/cuda/jit_utils.cpp:860.)\n",
            "  torch.lgamma(self.concentration.sum(-1)) -\n"
          ]
        },
        {
          "output_type": "stream",
          "name": "stdout",
          "text": [
            "Source: Ep 0\tLast score: -30.92\tMoving average score: -0.31\n",
            "Target: Ep 0\tLast score: -7.53\tMoving average score: -0.08\n",
            "retry to generate track (normal if there are not manyinstances of this message)\n",
            "retry to generate track (normal if there are not manyinstances of this message)\n",
            "retry to generate track (normal if there are not manyinstances of this message)\n",
            "retry to generate track (normal if there are not manyinstances of this message)\n",
            "retry to generate track (normal if there are not manyinstances of this message)\n",
            "retry to generate track (normal if there are not manyinstances of this message)\n",
            "retry to generate track (normal if there are not manyinstances of this message)\n",
            "retry to generate track (normal if there are not manyinstances of this message)\n",
            "retry to generate track (normal if there are not manyinstances of this message)\n",
            "retry to generate track (normal if there are not manyinstances of this message)\n",
            "retry to generate track (normal if there are not manyinstances of this message)\n",
            "retry to generate track (normal if there are not manyinstances of this message)\n",
            "retry to generate track (normal if there are not manyinstances of this message)\n",
            "retry to generate track (normal if there are not manyinstances of this message)\n",
            "retry to generate track (normal if there are not manyinstances of this message)\n",
            "retry to generate track (normal if there are not manyinstances of this message)\n",
            "retry to generate track (normal if there are not manyinstances of this message)\n",
            "retry to generate track (normal if there are not manyinstances of this message)\n",
            "retry to generate track (normal if there are not manyinstances of this message)\n",
            "retry to generate track (normal if there are not manyinstances of this message)\n",
            "retry to generate track (normal if there are not manyinstances of this message)\n",
            "retry to generate track (normal if there are not manyinstances of this message)\n",
            "retry to generate track (normal if there are not manyinstances of this message)\n",
            "retry to generate track (normal if there are not manyinstances of this message)\n",
            "retry to generate track (normal if there are not manyinstances of this message)\n",
            "retry to generate track (normal if there are not manyinstances of this message)\n",
            "retry to generate track (normal if there are not manyinstances of this message)\n",
            "retry to generate track (normal if there are not manyinstances of this message)\n",
            "Source: Ep 100\tLast score: 17.14\tMoving average score: -7.44\n",
            "Target: Ep 100\tLast score: 10.04\tMoving average score: -7.18\n",
            "retry to generate track (normal if there are not manyinstances of this message)\n",
            "retry to generate track (normal if there are not manyinstances of this message)\n",
            "retry to generate track (normal if there are not manyinstances of this message)\n",
            "retry to generate track (normal if there are not manyinstances of this message)\n",
            "retry to generate track (normal if there are not manyinstances of this message)\n",
            "retry to generate track (normal if there are not manyinstances of this message)\n",
            "retry to generate track (normal if there are not manyinstances of this message)\n",
            "retry to generate track (normal if there are not manyinstances of this message)\n",
            "retry to generate track (normal if there are not manyinstances of this message)\n",
            "retry to generate track (normal if there are not manyinstances of this message)\n",
            "retry to generate track (normal if there are not manyinstances of this message)\n",
            "retry to generate track (normal if there are not manyinstances of this message)\n",
            "retry to generate track (normal if there are not manyinstances of this message)\n",
            "retry to generate track (normal if there are not manyinstances of this message)\n",
            "Source: Ep 200\tLast score: 7.97\tMoving average score: -0.10\n",
            "Target: Ep 200\tLast score: 25.31\tMoving average score: 3.80\n",
            "retry to generate track (normal if there are not manyinstances of this message)\n",
            "retry to generate track (normal if there are not manyinstances of this message)\n",
            "retry to generate track (normal if there are not manyinstances of this message)\n",
            "retry to generate track (normal if there are not manyinstances of this message)\n",
            "retry to generate track (normal if there are not manyinstances of this message)\n",
            "retry to generate track (normal if there are not manyinstances of this message)\n",
            "retry to generate track (normal if there are not manyinstances of this message)\n",
            "retry to generate track (normal if there are not manyinstances of this message)\n",
            "retry to generate track (normal if there are not manyinstances of this message)\n",
            "retry to generate track (normal if there are not manyinstances of this message)\n",
            "retry to generate track (normal if there are not manyinstances of this message)\n",
            "retry to generate track (normal if there are not manyinstances of this message)\n",
            "retry to generate track (normal if there are not manyinstances of this message)\n",
            "retry to generate track (normal if there are not manyinstances of this message)\n",
            "retry to generate track (normal if there are not manyinstances of this message)\n",
            "retry to generate track (normal if there are not manyinstances of this message)\n",
            "retry to generate track (normal if there are not manyinstances of this message)\n",
            "retry to generate track (normal if there are not manyinstances of this message)\n",
            "retry to generate track (normal if there are not manyinstances of this message)\n",
            "retry to generate track (normal if there are not manyinstances of this message)\n",
            "retry to generate track (normal if there are not manyinstances of this message)\n",
            "retry to generate track (normal if there are not manyinstances of this message)\n",
            "Source: Ep 300\tLast score: 20.41\tMoving average score: 7.83\n",
            "Target: Ep 300\tLast score: 56.08\tMoving average score: 8.26\n",
            "retry to generate track (normal if there are not manyinstances of this message)\n",
            "retry to generate track (normal if there are not manyinstances of this message)\n",
            "retry to generate track (normal if there are not manyinstances of this message)\n",
            "retry to generate track (normal if there are not manyinstances of this message)\n",
            "retry to generate track (normal if there are not manyinstances of this message)\n",
            "retry to generate track (normal if there are not manyinstances of this message)\n",
            "retry to generate track (normal if there are not manyinstances of this message)\n",
            "retry to generate track (normal if there are not manyinstances of this message)\n",
            "retry to generate track (normal if there are not manyinstances of this message)\n",
            "retry to generate track (normal if there are not manyinstances of this message)\n",
            "Source: Ep 400\tLast score: 25.52\tMoving average score: 13.36\n",
            "Target: Ep 400\tLast score: -18.09\tMoving average score: 9.41\n",
            "retry to generate track (normal if there are not manyinstances of this message)\n",
            "retry to generate track (normal if there are not manyinstances of this message)\n",
            "retry to generate track (normal if there are not manyinstances of this message)\n",
            "retry to generate track (normal if there are not manyinstances of this message)\n",
            "retry to generate track (normal if there are not manyinstances of this message)\n",
            "retry to generate track (normal if there are not manyinstances of this message)\n",
            "retry to generate track (normal if there are not manyinstances of this message)\n",
            "retry to generate track (normal if there are not manyinstances of this message)\n",
            "retry to generate track (normal if there are not manyinstances of this message)\n",
            "retry to generate track (normal if there are not manyinstances of this message)\n",
            "retry to generate track (normal if there are not manyinstances of this message)\n",
            "retry to generate track (normal if there are not manyinstances of this message)\n",
            "retry to generate track (normal if there are not manyinstances of this message)\n",
            "retry to generate track (normal if there are not manyinstances of this message)\n",
            "Source: Ep 500\tLast score: 9.21\tMoving average score: 17.08\n",
            "Target: Ep 500\tLast score: 15.56\tMoving average score: 14.16\n",
            "retry to generate track (normal if there are not manyinstances of this message)\n",
            "retry to generate track (normal if there are not manyinstances of this message)\n",
            "retry to generate track (normal if there are not manyinstances of this message)\n",
            "retry to generate track (normal if there are not manyinstances of this message)\n",
            "retry to generate track (normal if there are not manyinstances of this message)\n",
            "retry to generate track (normal if there are not manyinstances of this message)\n",
            "retry to generate track (normal if there are not manyinstances of this message)\n",
            "retry to generate track (normal if there are not manyinstances of this message)\n",
            "retry to generate track (normal if there are not manyinstances of this message)\n",
            "retry to generate track (normal if there are not manyinstances of this message)\n",
            "retry to generate track (normal if there are not manyinstances of this message)\n",
            "retry to generate track (normal if there are not manyinstances of this message)\n",
            "retry to generate track (normal if there are not manyinstances of this message)\n",
            "retry to generate track (normal if there are not manyinstances of this message)\n",
            "Source: Ep 600\tLast score: 11.20\tMoving average score: 18.59\n",
            "Target: Ep 600\tLast score: 17.65\tMoving average score: 10.67\n",
            "retry to generate track (normal if there are not manyinstances of this message)\n",
            "retry to generate track (normal if there are not manyinstances of this message)\n",
            "retry to generate track (normal if there are not manyinstances of this message)\n",
            "retry to generate track (normal if there are not manyinstances of this message)\n",
            "retry to generate track (normal if there are not manyinstances of this message)\n",
            "retry to generate track (normal if there are not manyinstances of this message)\n",
            "retry to generate track (normal if there are not manyinstances of this message)\n",
            "retry to generate track (normal if there are not manyinstances of this message)\n",
            "retry to generate track (normal if there are not manyinstances of this message)\n",
            "retry to generate track (normal if there are not manyinstances of this message)\n",
            "retry to generate track (normal if there are not manyinstances of this message)\n",
            "retry to generate track (normal if there are not manyinstances of this message)\n",
            "Source: Ep 700\tLast score: 27.07\tMoving average score: 21.64\n",
            "Target: Ep 700\tLast score: 13.12\tMoving average score: 11.98\n",
            "retry to generate track (normal if there are not manyinstances of this message)\n",
            "retry to generate track (normal if there are not manyinstances of this message)\n",
            "retry to generate track (normal if there are not manyinstances of this message)\n",
            "retry to generate track (normal if there are not manyinstances of this message)\n",
            "retry to generate track (normal if there are not manyinstances of this message)\n",
            "retry to generate track (normal if there are not manyinstances of this message)\n",
            "retry to generate track (normal if there are not manyinstances of this message)\n",
            "retry to generate track (normal if there are not manyinstances of this message)\n",
            "retry to generate track (normal if there are not manyinstances of this message)\n",
            "retry to generate track (normal if there are not manyinstances of this message)\n",
            "retry to generate track (normal if there are not manyinstances of this message)\n",
            "retry to generate track (normal if there are not manyinstances of this message)\n",
            "Source: Ep 800\tLast score: 12.39\tMoving average score: 21.96\n",
            "Target: Ep 800\tLast score: 0.12\tMoving average score: 7.34\n",
            "retry to generate track (normal if there are not manyinstances of this message)\n",
            "retry to generate track (normal if there are not manyinstances of this message)\n",
            "retry to generate track (normal if there are not manyinstances of this message)\n",
            "retry to generate track (normal if there are not manyinstances of this message)\n",
            "retry to generate track (normal if there are not manyinstances of this message)\n",
            "retry to generate track (normal if there are not manyinstances of this message)\n",
            "retry to generate track (normal if there are not manyinstances of this message)\n",
            "retry to generate track (normal if there are not manyinstances of this message)\n",
            "retry to generate track (normal if there are not manyinstances of this message)\n",
            "retry to generate track (normal if there are not manyinstances of this message)\n",
            "Source: Ep 900\tLast score: 20.68\tMoving average score: 24.85\n",
            "Target: Ep 900\tLast score: 14.50\tMoving average score: 10.41\n",
            "retry to generate track (normal if there are not manyinstances of this message)\n",
            "retry to generate track (normal if there are not manyinstances of this message)\n",
            "retry to generate track (normal if there are not manyinstances of this message)\n",
            "retry to generate track (normal if there are not manyinstances of this message)\n",
            "retry to generate track (normal if there are not manyinstances of this message)\n",
            "retry to generate track (normal if there are not manyinstances of this message)\n",
            "retry to generate track (normal if there are not manyinstances of this message)\n",
            "retry to generate track (normal if there are not manyinstances of this message)\n",
            "retry to generate track (normal if there are not manyinstances of this message)\n",
            "retry to generate track (normal if there are not manyinstances of this message)\n",
            "retry to generate track (normal if there are not manyinstances of this message)\n",
            "retry to generate track (normal if there are not manyinstances of this message)\n"
          ]
        }
      ]
    },
    {
      "cell_type": "markdown",
      "source": [
        "# Eval"
      ],
      "metadata": {
        "id": "cKdFGMaqcXPS"
      }
    },
    {
      "cell_type": "code",
      "source": [
        "def eval(agent, env):\n",
        "    score = 0\n",
        "    state = env.reset()\n",
        "\n",
        "    for t in range(1000):\n",
        "        action, a_logp = agent.select_action(state)\n",
        "\n",
        "        state_, reward, done, _ = env.step_eval(action * np.array([2., 1., 1.]) + np.array([-1., 0., 0.]))\n",
        "\n",
        "        score += reward\n",
        "\n",
        "        state = state_\n",
        "\n",
        "        if done:\n",
        "            break\n",
        "\n",
        "    return score"
      ],
      "metadata": {
        "id": "zOu192CXcZV-"
      },
      "execution_count": null,
      "outputs": []
    },
    {
      "cell_type": "code",
      "source": [
        "green_score = eval(agent, env_green)"
      ],
      "metadata": {
        "id": "SUzqmJmzicXA"
      },
      "execution_count": null,
      "outputs": []
    },
    {
      "cell_type": "code",
      "source": [
        "print(green_score)"
      ],
      "metadata": {
        "id": "IpEYXPCsi3Xy"
      },
      "execution_count": null,
      "outputs": []
    },
    {
      "cell_type": "code",
      "source": [
        "red_score = eval(agent, env_red)"
      ],
      "metadata": {
        "id": "6NUZ5JN2i-VM"
      },
      "execution_count": null,
      "outputs": []
    },
    {
      "cell_type": "code",
      "source": [
        "print(red_score)"
      ],
      "metadata": {
        "id": "x9ji0eHDjHCc"
      },
      "execution_count": null,
      "outputs": []
    },
    {
      "cell_type": "code",
      "source": [
        "blue_score = eval(agent, env_blue)"
      ],
      "metadata": {
        "id": "qTDs3idujAp4"
      },
      "execution_count": null,
      "outputs": []
    },
    {
      "cell_type": "code",
      "source": [
        "print(blue_score)"
      ],
      "metadata": {
        "id": "uXciPGgcjJPP"
      },
      "execution_count": null,
      "outputs": []
    }
  ],
  "metadata": {
    "language_info": {
      "name": "python"
    },
    "orig_nbformat": 4,
    "colab": {
      "name": "car_racing_colab.ipynb",
      "provenance": []
    },
    "kernelspec": {
      "name": "python3",
      "display_name": "Python 3"
    },
    "gpuClass": "standard",
    "accelerator": "GPU"
  },
  "nbformat": 4,
  "nbformat_minor": 0
}